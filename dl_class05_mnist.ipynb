{
  "cells": [
    {
      "cell_type": "markdown",
      "metadata": {
        "id": "mTOF7Ga2rj92"
      },
      "source": [
        "# Course: Deep Learning\n",
        "# Author: Sandro Camargo sandrocamargo@unipampa.edu.br\n",
        "# MNIST Classification with ANN\n",
        "# Dataset: '/content/sample_data/' mnist\n",
        "# Dataset description: https://www.tensorflow.org/datasets/catalog/mnist\n",
        "\n",
        "To open this code in your Google Colab environment, [click here](https://colab.research.google.com/github/Sandrocamargo/deep-learning/blob/master/dl_class05_mnist.ipynb).\n"
      ]
    },
    {
      "cell_type": "markdown",
      "metadata": {
        "id": "EYNMfeQ0MLhC"
      },
      "source": [
        "Loading libraries"
      ]
    },
    {
      "cell_type": "code",
      "execution_count": null,
      "metadata": {
        "id": "YObRVOwAppbo"
      },
      "outputs": [],
      "source": [
        "import pandas as pd\n",
        "import numpy as np\n",
        "import matplotlib.pyplot as plt\n",
        "import tensorflow as tf\n",
        "from keras import layers, models, optimizers, losses, metrics\n",
        "from sklearn.preprocessing import label_binarize\n",
        "from sklearn.metrics import confusion_matrix, classification_report, ConfusionMatrixDisplay"
      ]
    },
    {
      "cell_type": "markdown",
      "metadata": {
        "id": "9Ax-UQAKMbhb"
      },
      "source": [
        "Defining image parameters"
      ]
    },
    {
      "cell_type": "code",
      "execution_count": null,
      "metadata": {
        "id": "dWcpJL6lqMQq"
      },
      "outputs": [],
      "source": [
        "np.random.seed(1)\n",
        "image_size = 28 # width and length\n",
        "no_of_different_labels = 10 #  i.e. 0, 1, 2, 3, ..., 9\n",
        "image_pixels = image_size * image_size"
      ]
    },
    {
      "cell_type": "markdown",
      "metadata": {
        "id": "hZOsy9owMRSU"
      },
      "source": [
        "Loading dataset from google colab"
      ]
    },
    {
      "cell_type": "code",
      "execution_count": null,
      "metadata": {
        "id": "ZlnpugOlxygP"
      },
      "outputs": [],
      "source": [
        "data_path = \"/content/sample_data/\"\n",
        "train_data = np.loadtxt(data_path + \"mnist_train_small.csv\", delimiter=\",\")\n",
        "test_data = np.loadtxt(data_path + \"mnist_test.csv\", delimiter=\",\")"
      ]
    },
    {
      "cell_type": "markdown",
      "metadata": {
        "id": "ECMqliS7Ncyu"
      },
      "source": [
        "Scaling the inputs in [0,1] range and presenting the input and output dataset dimensions"
      ]
    },
    {
      "cell_type": "code",
      "execution_count": null,
      "metadata": {
        "id": "QzgrNcDtrA2Y"
      },
      "outputs": [],
      "source": [
        "fac = 0.99 / 255\n",
        "train_imgs = np.asfarray(train_data[:, 1:]) * fac + 0.01\n",
        "test_imgs = np.asfarray(test_data[:, 1:]) * fac + 0.01"
      ]
    },
    {
      "cell_type": "markdown",
      "metadata": {
        "id": "2HEtW3uscO5T"
      },
      "source": [
        "Transforming arrays into images"
      ]
    },
    {
      "cell_type": "markdown",
      "metadata": {
        "id": "pyjIrhuxNzY8"
      },
      "source": [
        "Splitting inputs and outputs\n",
        "Binarizing outputs\n"
      ]
    },
    {
      "cell_type": "code",
      "execution_count": null,
      "metadata": {
        "id": "T4JFAekQNx-k"
      },
      "outputs": [],
      "source": [
        "train_labels = np.asfarray(train_data[:, :1])\n",
        "test_labels = np.asfarray(test_data[:, :1])\n",
        "print('The training dataset (input) dimensions are: ', train_imgs.shape)\n",
        "print('The training dataset (output) dimensions are: ', train_labels.shape)\n",
        "print('The testing dataset (input) dimensions are: ', test_imgs.shape)\n",
        "print('The testing dataset (output) dimensions are: ',test_labels.shape)\n",
        "\n",
        "train_labels_bin = label_binarize(train_labels, classes=[0, 1, 2, 3, 4, 5, 6, 7, 8, 9])\n",
        "test_labels_bin = label_binarize(test_labels, classes=[0, 1, 2, 3, 4, 5, 6, 7, 8, 9])"
      ]
    },
    {
      "cell_type": "markdown",
      "metadata": {
        "id": "fLA8OvdcOQ1n"
      },
      "source": [
        "Inspecting the training set\n",
        "\n",
        "Showing the first 20 samples and their labels"
      ]
    },
    {
      "cell_type": "code",
      "execution_count": null,
      "metadata": {
        "id": "vzOmfg8Lqjyu"
      },
      "outputs": [],
      "source": [
        "fig, ax = plt.subplots(nrows=5, ncols=4, figsize=(image_size, image_size))\n",
        "\n",
        "for i in range(5):\n",
        "  for j in range(4):\n",
        "    img = train_data[i*5+j,range(1,785)].reshape((image_size,image_size))\n",
        "    ax[i,j].imshow(img, cmap=\"Greys\")\n",
        "    ax[i,j].title.set_text(\"Number: \" + str(int(train_data[i*5+j,0])))\n",
        "plt.show()"
      ]
    },
    {
      "cell_type": "markdown",
      "metadata": {
        "id": "8kHsz-63OYx6"
      },
      "source": [
        "Creating and training the model\n"
      ]
    },
    {
      "cell_type": "code",
      "execution_count": null,
      "metadata": {
        "id": "LC0PARKfLJT5"
      },
      "outputs": [],
      "source": [
        "model = models.Sequential([\n",
        "  layers.Input(shape=[image_pixels]),\n",
        "  layers.Dense(128, activation='relu'),\n",
        "  layers.Dense(10, activation=\"softmax\")\n",
        "])\n",
        "\n",
        "model.compile(\n",
        "    optimizer=optimizers.Adam(0.001),\n",
        "    loss=losses.CategoricalCrossentropy(from_logits=False),\n",
        "    metrics=[metrics.CategoricalAccuracy()],\n",
        ")\n",
        "\n",
        "model.summary()\n",
        "\n",
        "history = model.fit(\n",
        "    train_imgs, train_labels_bin,\n",
        "    epochs=20, verbose=1,\n",
        "    validation_split=0.2\n",
        ")"
      ]
    },
    {
      "cell_type": "markdown",
      "metadata": {
        "id": "woMalYjqMq_l"
      },
      "source": [
        "Plotting the loss function on training and validation set.\n",
        "\n",
        "The best value for epochs is when the validation loss starts to increase.\n",
        "\n",
        "---\n",
        "\n"
      ]
    },
    {
      "cell_type": "code",
      "execution_count": null,
      "metadata": {
        "id": "nCpVZyJY8fyz"
      },
      "outputs": [],
      "source": [
        "plt.plot(history.history['loss'])\n",
        "plt.plot(history.history['val_loss'])\n",
        "plt.title('Loss Function')\n",
        "plt.ylabel('Categorical Cross Entropy')\n",
        "plt.xlabel('Epoch')\n",
        "plt.legend(['Training Error','Validation Error'], loc='upper right')\n",
        "plt.savefig(\"trainingerror.pdf\")\n",
        "plt.show()"
      ]
    },
    {
      "cell_type": "markdown",
      "metadata": {
        "id": "X1JVynOHM0b8"
      },
      "source": [
        "Plotting the classification accuracy on training and validation sets"
      ]
    },
    {
      "cell_type": "code",
      "execution_count": null,
      "metadata": {
        "id": "MEQbBkwN9IbK"
      },
      "outputs": [],
      "source": [
        "plt.plot(history.history['categorical_accuracy'])\n",
        "plt.plot(history.history['val_categorical_accuracy'])\n",
        "plt.title('Training Accuracy')\n",
        "plt.ylabel('Accuracy')\n",
        "plt.xlabel('Epoch')\n",
        "plt.legend(['Training','Validation'], loc='lower right')\n",
        "plt.savefig(\"trainingaccuracy.pdf\")\n",
        "plt.show()\n",
        "print(\"Training Categorical Accuracy:\", round(history.history['categorical_accuracy'][-1],4))\n",
        "print(\"Validation Categorical Accuracy:\", round(history.history['val_categorical_accuracy'][-1],4))"
      ]
    },
    {
      "cell_type": "markdown",
      "metadata": {
        "id": "YJCdwH9bKWXP"
      },
      "source": [
        "Evaluates performance on test set\n",
        "Presents the classification accuracy"
      ]
    },
    {
      "cell_type": "code",
      "execution_count": null,
      "metadata": {
        "id": "D3HuDOg2ACgf"
      },
      "outputs": [],
      "source": [
        "scores = model.evaluate(\n",
        "    test_imgs, test_labels_bin, verbose=1\n",
        ")\n",
        "\n",
        "print(\"%s: %.2f%%\" % (model.metrics_names[1], scores[1]*100))"
      ]
    },
    {
      "cell_type": "markdown",
      "metadata": {
        "id": "QOQGnnPXP4CO"
      },
      "source": [
        "Summarizing the performance on training set\n"
      ]
    },
    {
      "cell_type": "code",
      "execution_count": null,
      "metadata": {
        "id": "FflqU4YECaPM"
      },
      "outputs": [],
      "source": [
        "test_predictions = model.predict(test_imgs)\n",
        "print(confusion_matrix(test_predictions.argmax(axis=1), test_labels_bin.argmax(axis=1)))\n",
        "print(classification_report(test_predictions.argmax(axis=1), test_labels_bin.argmax(axis=1), target_names=['0', '1', '2', '3', '4', '5', '6', '7', '8', '9']))"
      ]
    },
    {
      "cell_type": "markdown",
      "metadata": {
        "id": "kLjtvqCcJ-5j"
      },
      "source": [
        "Confusion Matrix Heatmap"
      ]
    },
    {
      "cell_type": "code",
      "execution_count": null,
      "metadata": {
        "id": "X0NiJk_TDqGk"
      },
      "outputs": [],
      "source": [
        "cm = confusion_matrix(test_predictions.argmax(axis=1), test_labels_bin.argmax(axis=1))\n",
        "disp = ConfusionMatrixDisplay(confusion_matrix=cm, display_labels=['0', '1', '2', '3', '4', '5', '6', '7', '8', '9'])\n",
        "disp.plot(cmap=\"bwr\")\n",
        "plt.title('Confusion Matrix for Testing Set')\n",
        "plt.savefig(\"confusionmatrix.pdf\")\n",
        "plt.show()"
      ]
    },
    {
      "cell_type": "markdown",
      "metadata": {
        "id": "3E7qikwxD4-F"
      },
      "source": [
        "Reporting some misclassified samples"
      ]
    },
    {
      "cell_type": "code",
      "execution_count": null,
      "metadata": {
        "id": "qQwr2H0Ev3YS"
      },
      "outputs": [],
      "source": [
        "i = 0\n",
        "j = -1\n",
        "\n",
        "fig, ax = plt.subplots(nrows=8, ncols=6, figsize=(image_size, image_size))\n",
        "\n",
        "for k in range(5000):\n",
        "  if test_predictions.argmax(axis=1)[k]!=test_labels_bin.argmax(axis=1)[k]:\n",
        "      if i==8:\n",
        "         break\n",
        "      j = j + 1\n",
        "      img = test_data[k,range(1,785)].reshape((image_size,image_size))\n",
        "      ax[i,j].imshow(img, cmap=\"Greys\")\n",
        "      ax[i,j].title.set_text(\"Number: \" + str(int(test_data[k,0])) + \", Predicted:\" + str(test_predictions.argmax(axis=1)[k]))\n",
        "      if j>4:\n",
        "         j = -1\n",
        "         i = i + 1\n",
        "plt.show()"
      ]
    },
    {
      "cell_type": "code",
      "source": [
        "i = 0\n",
        "j = -1\n",
        "\n",
        "for k in range(5000):\n",
        "  if test_predictions.argmax(axis=1)[k]!=test_labels_bin.argmax(axis=1)[k]:\n",
        "      print(\"Real:\",test_labels[k],\"Pred:\",test_predictions.argmax(axis=1)[k],\"Output:\",test_predictions[k])"
      ],
      "metadata": {
        "id": "KQ3942304X1T"
      },
      "execution_count": null,
      "outputs": []
    }
  ],
  "metadata": {
    "colab": {
      "provenance": []
    },
    "kernelspec": {
      "display_name": "Python 3",
      "name": "python3"
    },
    "language_info": {
      "name": "python"
    }
  },
  "nbformat": 4,
  "nbformat_minor": 0
}