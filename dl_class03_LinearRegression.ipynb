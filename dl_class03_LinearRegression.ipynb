{
  "nbformat": 4,
  "nbformat_minor": 0,
  "metadata": {
    "colab": {
      "provenance": []
    },
    "kernelspec": {
      "name": "python3",
      "display_name": "Python 3"
    },
    "language_info": {
      "name": "python"
    }
  },
  "cells": [
    {
      "cell_type": "markdown",
      "source": [
        "# Course: Deep Learning\n",
        "# Author: Sandro Camargo <sandrocamargo@unipampa.edu.br>\n",
        "# Linear Regression Example\n",
        "# Dataset: https://archive.ics.uci.edu/ml/datasets/Algerian+Forest+Fires+Dataset++"
      ],
      "metadata": {
        "id": "cbaWmGdW6l58"
      }
    },
    {
      "cell_type": "code",
      "source": [
        "# importing libraries\n",
        "import numpy as np\n",
        "from sklearn import linear_model\n",
        "from sklearn import metrics\n",
        "import matplotlib.pyplot as plt\n",
        "import pandas as pd"
      ],
      "metadata": {
        "id": "9fJSM5Wr6M-A"
      },
      "execution_count": null,
      "outputs": []
    },
    {
      "cell_type": "code",
      "source": [
        "# loading data\n",
        "data = pd.read_csv('https://archive.ics.uci.edu/ml/machine-learning-databases/00547/Algerian_forest_fires_dataset_UPDATE.csv', header=1, skiprows=[124,125,126,170])\n",
        "# About the main parameters:\n",
        "# Header=1: column names (day, month, year, ...) are in the line 1 of this CSV file.\n",
        "# skiprows=[124,125,126,170]: this lines, which not contains valid data, are not imported. If this parameter is missing, all lines are imported.\n",
        "# usecols=list(range(0,13)): The last column, which is named Classes, is not imported. If this parameter is missing, all columns are imported.\n",
        "# delimiter=\",\": when the delimiter among columns is not a ;\n",
        "\n",
        "# inspecting data\n",
        "data.info()"
      ],
      "metadata": {
        "id": "bJU_59Gb62Ny"
      },
      "execution_count": null,
      "outputs": []
    },
    {
      "cell_type": "code",
      "source": [
        "# Generating Descriptive statistics\n",
        "data.describe()"
      ],
      "metadata": {
        "id": "4kF68x8W8Om2"
      },
      "execution_count": null,
      "outputs": []
    },
    {
      "cell_type": "markdown",
      "source": [
        "Inputs($x$) and outputs($y$) must be splitted in different variables."
      ],
      "metadata": {
        "id": "I_MktNKAhyA7"
      }
    },
    {
      "cell_type": "code",
      "source": [
        "# Data must be in numpy.ndarray format\n",
        "x = data.iloc[:,0:12] # columns from 1 to 11 are the inputs (x)\n",
        "col = x.columns #store column names\n",
        "x = x.to_numpy() # Convert to numpy.ndarray\n",
        "y = data['FWI'] # column FWI is the output (y)\n",
        "y = y.to_numpy() # Convert to numpy.ndarray"
      ],
      "metadata": {
        "id": "jGL9rONHCDF7"
      },
      "execution_count": null,
      "outputs": []
    },
    {
      "cell_type": "markdown",
      "source": [
        "Creating and fitting the linear regression model"
      ],
      "metadata": {
        "id": "Zw51p_JQhpb-"
      }
    },
    {
      "cell_type": "code",
      "source": [
        "regr = linear_model.LinearRegression()\n",
        "regr.fit(x, y)\n",
        "\n",
        "pred = regr.predict(x)"
      ],
      "metadata": {
        "id": "Y3Ro9hEP0Fhl"
      },
      "execution_count": null,
      "outputs": []
    },
    {
      "cell_type": "code",
      "source": [
        "# The coefficients\n",
        "print(\"Coefficients: \\n\", regr.coef_)\n",
        "# The mean squared error\n",
        "print(\"Mean squared error: %.4f\" % metrics.mean_squared_error(y, pred))\n",
        "print(\"Correlation Coefficient: %.4f \" % np.corrcoef(y, pred)[0,1])\n",
        "# The coefficient of determination: 1 is perfect prediction\n",
        "print(\"Coefficient of determination: %.4f\" % metrics.r2_score(y, pred))"
      ],
      "metadata": {
        "id": "r46qv53g0MCt"
      },
      "execution_count": null,
      "outputs": []
    },
    {
      "cell_type": "code",
      "source": [
        "# Plot model outputs\n",
        "plt.scatter(y, pred, color=\"blue\")\n",
        "plt.plot([-5,35], [-5,35], color = 'black', ls = '--')\n",
        "plt.xlabel(\"Real FWI\")\n",
        "plt.ylabel(\"Predicted FWI\")\n",
        "plt.title(\"Correlation Coefficient: %.4f\" % np.corrcoef(y, pred)[0,1])\n",
        "plt.show()"
      ],
      "metadata": {
        "id": "BtZyt5QX0lsO"
      },
      "execution_count": null,
      "outputs": []
    },
    {
      "cell_type": "code",
      "source": [
        "# Correlation coefficients of inputs\n",
        "plt.barh(col, regr.coef_, align='center')\n",
        "plt.xlabel(\"Regression Coefficients\")\n",
        "plt.ylabel(\"Inputs\")\n",
        "plt.title(\"FWI Linear Regression Model\")"
      ],
      "metadata": {
        "id": "hFl97Bi82Nqi"
      },
      "execution_count": null,
      "outputs": []
    },
    {
      "cell_type": "code",
      "source": [
        "plt.scatter(x[:,10],y)\n",
        "plt.xlabel(\"ISI\")\n",
        "plt.ylabel(\"FWI\")\n",
        "plt.title(\"Correlation Coefficient: %.4f\" % np.corrcoef(x[:,10], y)[0,1])"
      ],
      "metadata": {
        "id": "legtj0U62ZdX"
      },
      "execution_count": null,
      "outputs": []
    },
    {
      "cell_type": "code",
      "source": [
        "plt.scatter(x[:,11],y)\n",
        "plt.xlabel(\"BUI\")\n",
        "plt.ylabel(\"FWI\")\n",
        "plt.title(\"Correlation Coefficient: %.4f\" % np.corrcoef(x[:,11], y)[0,1])"
      ],
      "metadata": {
        "id": "m_KKeqgC3-Qp"
      },
      "execution_count": null,
      "outputs": []
    },
    {
      "cell_type": "code",
      "source": [
        "plt.scatter(x[:,5],y)\n",
        "plt.xlabel(\"RH\")\n",
        "plt.ylabel(\"FWI\")\n",
        "plt.title(\"Correlation Coefficient: %.4f\" % np.corrcoef(x[:,5], y)[0,1])"
      ],
      "metadata": {
        "id": "-QvH7E1m4Knz"
      },
      "execution_count": null,
      "outputs": []
    }
  ]
}