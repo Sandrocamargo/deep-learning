{
  "cells": [
    {
      "cell_type": "markdown",
      "metadata": {
        "id": "9feqnHODNlEV"
      },
      "source": [
        "# Course: Deep Learning\n",
        "# Author: Sandro Camargo <sandrocamargo@unipampa.edu.br>\n",
        "# Linear Regression with Multi Layer Perceptron Example\n",
        "# Dataset: https://archive.ics.uci.edu/ml/datasets/Algerian+Forest+Fires+Dataset++"
      ]
    },
    {
      "cell_type": "markdown",
      "metadata": {
        "id": "NVnjeeftXQl6"
      },
      "source": [
        "A Python library is a collection of related functions. A library contains bundles of encapsuated code which can be used repeatedly in different programs."
      ]
    },
    {
      "cell_type": "code",
      "execution_count": 1,
      "metadata": {
        "id": "lt7-B5mnWZRb"
      },
      "outputs": [],
      "source": [
        "# Import Libraries\n",
        "import keras # Neural Network Library\n",
        "from keras import layers # Layers to a neural network\n",
        "from keras import optimizers # optimizers\n",
        "import pandas as pd # Data Manipulation library\n",
        "import numpy as np # Fast Numeric Computing library\n",
        "import tensorflow as tf # Optimizers\n",
        "import matplotlib.pyplot as plt # Plot library\n",
        "from sklearn.preprocessing import MinMaxScaler"
      ]
    },
    {
      "cell_type": "code",
      "execution_count": 2,
      "metadata": {
        "colab": {
          "base_uri": "https://localhost:8080/"
        },
        "id": "pBNiKzKsWtW9",
        "outputId": "f191da01-a04d-4b53-8fae-406e12223cb5"
      },
      "outputs": [
        {
          "output_type": "stream",
          "name": "stdout",
          "text": [
            "<class 'pandas.core.frame.DataFrame'>\n",
            "RangeIndex: 243 entries, 0 to 242\n",
            "Data columns (total 13 columns):\n",
            " #   Column       Non-Null Count  Dtype  \n",
            "---  ------       --------------  -----  \n",
            " 0   day          243 non-null    int64  \n",
            " 1   month        243 non-null    int64  \n",
            " 2   year         243 non-null    int64  \n",
            " 3   Temperature  243 non-null    int64  \n",
            " 4    RH          243 non-null    int64  \n",
            " 5    Ws          243 non-null    int64  \n",
            " 6   Rain         243 non-null    float64\n",
            " 7   FFMC         243 non-null    float64\n",
            " 8   DMC          243 non-null    float64\n",
            " 9   DC           243 non-null    float64\n",
            " 10  ISI          243 non-null    float64\n",
            " 11  BUI          243 non-null    float64\n",
            " 12  FWI          243 non-null    float64\n",
            "dtypes: float64(7), int64(6)\n",
            "memory usage: 24.8 KB\n"
          ]
        }
      ],
      "source": [
        "# Loading dataset\n",
        "data = pd.read_csv('https://archive.ics.uci.edu/ml/machine-learning-databases/00547/Algerian_forest_fires_dataset_UPDATE.csv', header=1, skiprows=[124,125,126,170], usecols=list(range(0,13)))\n",
        "# About the parameters\n",
        "# Header=1: column names (day, month, year, ...) are in the line 1 of this CSV file. \n",
        "# skiprows=[124,125,126,170]: this lines, which not contains valid data, are not imported. If this parameter is missing, all lines are imported.\n",
        "# usecols=list(range(0,13)): The last column, which is named Classes, is not imported. If this parameter is missing, all columns are imported.\n",
        "\n",
        "# inspecting columns and data types from \"data\" dataframe\n",
        "data.info()"
      ]
    },
    {
      "cell_type": "code",
      "source": [
        "scaler = MinMaxScaler()\n",
        "print(scaler.fit(data))\n",
        "MinMaxScaler()\n",
        "data = pd.DataFrame(scaler.transform(data))"
      ],
      "metadata": {
        "colab": {
          "base_uri": "https://localhost:8080/"
        },
        "id": "I2gEa1Jtq7Jh",
        "outputId": "722f54a8-78d3-4f06-bff4-d80ce7e20ca3"
      },
      "execution_count": 3,
      "outputs": [
        {
          "output_type": "stream",
          "name": "stdout",
          "text": [
            "MinMaxScaler()\n"
          ]
        }
      ]
    },
    {
      "cell_type": "markdown",
      "metadata": {
        "id": "tmq8UTaXdFtF"
      },
      "source": [
        "The dataset must be randomly splitted in two parts: training set and testing set. The main approaches to split are holdout and n-fold cross validation.\n",
        "*   Training set is used for building (training) the model. \n",
        "*   Testing set is used for testing the generalization ability of the model built.\n",
        "\n",
        "Moreover, inputs($x$) and outputs($y$) must be splitted in each set. \n",
        "\n",
        "\n"
      ]
    },
    {
      "cell_type": "code",
      "execution_count": 4,
      "metadata": {
        "colab": {
          "base_uri": "https://localhost:8080/"
        },
        "id": "-vjSR2UWY3gi",
        "outputId": "6e704474-2e7a-4cf9-c0d7-65db813ce45b"
      },
      "outputs": [
        {
          "output_type": "stream",
          "name": "stdout",
          "text": [
            "The training dataset (inputs) dimensions are:  (188, 12)\n",
            "The training dataset (outputs) dimensions are:  (188, 1)\n",
            "The testing dataset (inputs) dimensions are:  (55, 12)\n",
            "The testing dataset (outputs) dimensions are:  (55, 1)\n"
          ]
        },
        {
          "output_type": "stream",
          "name": "stderr",
          "text": [
            "/usr/local/lib/python3.7/dist-packages/pandas/core/frame.py:4913: SettingWithCopyWarning: \n",
            "A value is trying to be set on a copy of a slice from a DataFrame\n",
            "\n",
            "See the caveats in the documentation: https://pandas.pydata.org/pandas-docs/stable/user_guide/indexing.html#returning-a-view-versus-a-copy\n",
            "  errors=errors,\n"
          ]
        }
      ],
      "source": [
        "np.random.seed(1) # Random numbers will be ever the same\n",
        "rnd = np.random.rand(len(data)) < 0.8 # Training set will contain 80% of the data\n",
        "\n",
        "# Creating the training dataset (80%)\n",
        "train_x = data[rnd] \n",
        "train_x.drop(train_x.columns[[12]], axis=1, inplace=True) # column 12 is removed, because it is the output (y)\n",
        "train_y = data[rnd] \n",
        "train_y.drop(train_y.iloc[:, 0:12], axis=1, inplace=True) # columns from 0 to 11 are removed, because they are the inputs (x)\n",
        "\n",
        "# Creating the testing dataset (80%)\n",
        "test_x = data[~rnd] \n",
        "test_x.drop(test_x.columns[[12]], axis=1, inplace=True) \n",
        "test_y = data[~rnd] \n",
        "test_y.drop(test_y.iloc[:, 0:12], axis=1, inplace=True)\n",
        "\n",
        "# Verifying dataset dimensions\n",
        "print('The training dataset (inputs) dimensions are: ', train_x.shape)\n",
        "print('The training dataset (outputs) dimensions are: ', train_y.shape)\n",
        "print('The testing dataset (inputs) dimensions are: ', test_x.shape)\n",
        "print('The testing dataset (outputs) dimensions are: ', test_y.shape)"
      ]
    },
    {
      "cell_type": "markdown",
      "metadata": {
        "id": "_8NAHkCSh5sr"
      },
      "source": [
        "After creating the datasets, the next step is defining the architecture of our model.\n",
        "\n",
        "It must be defined:\n",
        "\n",
        "\n",
        "*   Architecture: in terms of neurons and layers\n",
        "*   Optimizer: is the algorithm or method used to change the weights in order to minimize the loss function.\n",
        "\n",
        "The last step is compiling the model. In this step the loss function, the optimizer and the evaluation metrics must be defined."
      ]
    },
    {
      "cell_type": "code",
      "execution_count": 5,
      "metadata": {
        "id": "zmnZB0CRWVPI"
      },
      "outputs": [],
      "source": [
        "# Function to define model architecture\n",
        "def build_model():\n",
        "  # Defining the architecture\n",
        "  # Sequential = Feedforward Neural Network\n",
        "  # 1 single neuron\n",
        "  # input_shape is the amount of columns from training set\n",
        "  model = keras.Sequential([\n",
        "        layers.Dense(5, input_shape = [len(train_x.columns)], activation=\"relu\"),\n",
        "        layers.Dense(1)\n",
        "  ])\n",
        "\n",
        "  # Defining the optimizer\n",
        "  optimizer = tf.keras.optimizers.RMSprop(\n",
        "      learning_rate = 0.001)\n",
        "  \n",
        "  # Mean Squared Error (MSE) is the default loss function in regression models\n",
        "  model.compile(loss = 'mse',\n",
        "      optimizer = optimizer,\n",
        "      metrics = ['mse','mae'])\n",
        "  \n",
        "  return model"
      ]
    },
    {
      "cell_type": "markdown",
      "metadata": {
        "id": "8ZMgKCn8jouX"
      },
      "source": [
        "Just for curiosity, you should observe how many parameters ($\\theta$) your model has.\n",
        "At this point, your model is built."
      ]
    },
    {
      "cell_type": "code",
      "execution_count": 6,
      "metadata": {
        "colab": {
          "base_uri": "https://localhost:8080/"
        },
        "id": "a0C1tp1naRoS",
        "outputId": "cffe9209-5cbe-4d00-d3ad-2101c67aa6fe"
      },
      "outputs": [
        {
          "output_type": "stream",
          "name": "stdout",
          "text": [
            "Model: \"sequential\"\n",
            "_________________________________________________________________\n",
            " Layer (type)                Output Shape              Param #   \n",
            "=================================================================\n",
            " dense (Dense)               (None, 5)                 65        \n",
            "                                                                 \n",
            " dense_1 (Dense)             (None, 1)                 6         \n",
            "                                                                 \n",
            "=================================================================\n",
            "Total params: 71\n",
            "Trainable params: 71\n",
            "Non-trainable params: 0\n",
            "_________________________________________________________________\n"
          ]
        }
      ],
      "source": [
        "model = build_model()\n",
        "model.summary()"
      ]
    },
    {
      "cell_type": "markdown",
      "metadata": {
        "id": "SoQyGcmFWOGS"
      },
      "source": [
        "After creating the model, it must be trained (fitted).\n",
        "Training is done using training set and the amount of epochs must be defined."
      ]
    },
    {
      "cell_type": "code",
      "execution_count": 7,
      "metadata": {
        "colab": {
          "base_uri": "https://localhost:8080/"
        },
        "id": "R-Y4iU2naonL",
        "outputId": "4573648d-32da-4efe-e634-e9d5a3a40fc7"
      },
      "outputs": [
        {
          "output_type": "stream",
          "name": "stdout",
          "text": [
            "Epoch 1/200\n",
            "6/6 [==============================] - 1s 3ms/step - loss: 0.0709 - mse: 0.0709 - mae: 0.2035\n",
            "Epoch 2/200\n",
            "6/6 [==============================] - 0s 4ms/step - loss: 0.0642 - mse: 0.0642 - mae: 0.1967\n",
            "Epoch 3/200\n",
            "6/6 [==============================] - 0s 3ms/step - loss: 0.0602 - mse: 0.0602 - mae: 0.1917\n",
            "Epoch 4/200\n",
            "6/6 [==============================] - 0s 3ms/step - loss: 0.0571 - mse: 0.0571 - mae: 0.1884\n",
            "Epoch 5/200\n",
            "6/6 [==============================] - 0s 3ms/step - loss: 0.0539 - mse: 0.0539 - mae: 0.1842\n",
            "Epoch 6/200\n",
            "6/6 [==============================] - 0s 3ms/step - loss: 0.0511 - mse: 0.0511 - mae: 0.1808\n",
            "Epoch 7/200\n",
            "6/6 [==============================] - 0s 3ms/step - loss: 0.0483 - mse: 0.0483 - mae: 0.1766\n",
            "Epoch 8/200\n",
            "6/6 [==============================] - 0s 4ms/step - loss: 0.0458 - mse: 0.0458 - mae: 0.1730\n",
            "Epoch 9/200\n",
            "6/6 [==============================] - 0s 2ms/step - loss: 0.0431 - mse: 0.0431 - mae: 0.1684\n",
            "Epoch 10/200\n",
            "6/6 [==============================] - 0s 3ms/step - loss: 0.0408 - mse: 0.0408 - mae: 0.1644\n",
            "Epoch 11/200\n",
            "6/6 [==============================] - 0s 3ms/step - loss: 0.0384 - mse: 0.0384 - mae: 0.1601\n",
            "Epoch 12/200\n",
            "6/6 [==============================] - 0s 3ms/step - loss: 0.0359 - mse: 0.0359 - mae: 0.1558\n",
            "Epoch 13/200\n",
            "6/6 [==============================] - 0s 4ms/step - loss: 0.0336 - mse: 0.0336 - mae: 0.1516\n",
            "Epoch 14/200\n",
            "6/6 [==============================] - 0s 3ms/step - loss: 0.0316 - mse: 0.0316 - mae: 0.1477\n",
            "Epoch 15/200\n",
            "6/6 [==============================] - 0s 3ms/step - loss: 0.0294 - mse: 0.0294 - mae: 0.1422\n",
            "Epoch 16/200\n",
            "6/6 [==============================] - 0s 4ms/step - loss: 0.0276 - mse: 0.0276 - mae: 0.1384\n",
            "Epoch 17/200\n",
            "6/6 [==============================] - 0s 3ms/step - loss: 0.0259 - mse: 0.0259 - mae: 0.1340\n",
            "Epoch 18/200\n",
            "6/6 [==============================] - 0s 3ms/step - loss: 0.0242 - mse: 0.0242 - mae: 0.1294\n",
            "Epoch 19/200\n",
            "6/6 [==============================] - 0s 3ms/step - loss: 0.0225 - mse: 0.0225 - mae: 0.1249\n",
            "Epoch 20/200\n",
            "6/6 [==============================] - 0s 3ms/step - loss: 0.0211 - mse: 0.0211 - mae: 0.1209\n",
            "Epoch 21/200\n",
            "6/6 [==============================] - 0s 3ms/step - loss: 0.0198 - mse: 0.0198 - mae: 0.1171\n",
            "Epoch 22/200\n",
            "6/6 [==============================] - 0s 3ms/step - loss: 0.0187 - mse: 0.0187 - mae: 0.1139\n",
            "Epoch 23/200\n",
            "6/6 [==============================] - 0s 4ms/step - loss: 0.0177 - mse: 0.0177 - mae: 0.1107\n",
            "Epoch 24/200\n",
            "6/6 [==============================] - 0s 4ms/step - loss: 0.0169 - mse: 0.0169 - mae: 0.1084\n",
            "Epoch 25/200\n",
            "6/6 [==============================] - 0s 3ms/step - loss: 0.0162 - mse: 0.0162 - mae: 0.1054\n",
            "Epoch 26/200\n",
            "6/6 [==============================] - 0s 3ms/step - loss: 0.0155 - mse: 0.0155 - mae: 0.1031\n",
            "Epoch 27/200\n",
            "6/6 [==============================] - 0s 3ms/step - loss: 0.0149 - mse: 0.0149 - mae: 0.1009\n",
            "Epoch 28/200\n",
            "6/6 [==============================] - 0s 4ms/step - loss: 0.0144 - mse: 0.0144 - mae: 0.0989\n",
            "Epoch 29/200\n",
            "6/6 [==============================] - 0s 3ms/step - loss: 0.0137 - mse: 0.0137 - mae: 0.0967\n",
            "Epoch 30/200\n",
            "6/6 [==============================] - 0s 3ms/step - loss: 0.0132 - mse: 0.0132 - mae: 0.0946\n",
            "Epoch 31/200\n",
            "6/6 [==============================] - 0s 3ms/step - loss: 0.0128 - mse: 0.0128 - mae: 0.0931\n",
            "Epoch 32/200\n",
            "6/6 [==============================] - 0s 3ms/step - loss: 0.0123 - mse: 0.0123 - mae: 0.0909\n",
            "Epoch 33/200\n",
            "6/6 [==============================] - 0s 3ms/step - loss: 0.0118 - mse: 0.0118 - mae: 0.0897\n",
            "Epoch 34/200\n",
            "6/6 [==============================] - 0s 3ms/step - loss: 0.0115 - mse: 0.0115 - mae: 0.0876\n",
            "Epoch 35/200\n",
            "6/6 [==============================] - 0s 3ms/step - loss: 0.0111 - mse: 0.0111 - mae: 0.0860\n",
            "Epoch 36/200\n",
            "6/6 [==============================] - 0s 6ms/step - loss: 0.0107 - mse: 0.0107 - mae: 0.0842\n",
            "Epoch 37/200\n",
            "6/6 [==============================] - 0s 7ms/step - loss: 0.0104 - mse: 0.0104 - mae: 0.0829\n",
            "Epoch 38/200\n",
            "6/6 [==============================] - 0s 6ms/step - loss: 0.0102 - mse: 0.0102 - mae: 0.0823\n",
            "Epoch 39/200\n",
            "6/6 [==============================] - 0s 6ms/step - loss: 0.0098 - mse: 0.0098 - mae: 0.0798\n",
            "Epoch 40/200\n",
            "6/6 [==============================] - 0s 7ms/step - loss: 0.0095 - mse: 0.0095 - mae: 0.0787\n",
            "Epoch 41/200\n",
            "6/6 [==============================] - 0s 5ms/step - loss: 0.0092 - mse: 0.0092 - mae: 0.0772\n",
            "Epoch 42/200\n",
            "6/6 [==============================] - 0s 6ms/step - loss: 0.0090 - mse: 0.0090 - mae: 0.0762\n",
            "Epoch 43/200\n",
            "6/6 [==============================] - 0s 4ms/step - loss: 0.0088 - mse: 0.0088 - mae: 0.0749\n",
            "Epoch 44/200\n",
            "6/6 [==============================] - 0s 4ms/step - loss: 0.0085 - mse: 0.0085 - mae: 0.0733\n",
            "Epoch 45/200\n",
            "6/6 [==============================] - 0s 4ms/step - loss: 0.0083 - mse: 0.0083 - mae: 0.0727\n",
            "Epoch 46/200\n",
            "6/6 [==============================] - 0s 4ms/step - loss: 0.0081 - mse: 0.0081 - mae: 0.0718\n",
            "Epoch 47/200\n",
            "6/6 [==============================] - 0s 6ms/step - loss: 0.0078 - mse: 0.0078 - mae: 0.0704\n",
            "Epoch 48/200\n",
            "6/6 [==============================] - 0s 5ms/step - loss: 0.0077 - mse: 0.0077 - mae: 0.0697\n",
            "Epoch 49/200\n",
            "6/6 [==============================] - 0s 6ms/step - loss: 0.0075 - mse: 0.0075 - mae: 0.0682\n",
            "Epoch 50/200\n",
            "6/6 [==============================] - 0s 4ms/step - loss: 0.0073 - mse: 0.0073 - mae: 0.0670\n",
            "Epoch 51/200\n",
            "6/6 [==============================] - 0s 5ms/step - loss: 0.0071 - mse: 0.0071 - mae: 0.0665\n",
            "Epoch 52/200\n",
            "6/6 [==============================] - 0s 4ms/step - loss: 0.0069 - mse: 0.0069 - mae: 0.0652\n",
            "Epoch 53/200\n",
            "6/6 [==============================] - 0s 4ms/step - loss: 0.0069 - mse: 0.0069 - mae: 0.0650\n",
            "Epoch 54/200\n",
            "6/6 [==============================] - 0s 5ms/step - loss: 0.0066 - mse: 0.0066 - mae: 0.0639\n",
            "Epoch 55/200\n",
            "6/6 [==============================] - 0s 6ms/step - loss: 0.0064 - mse: 0.0064 - mae: 0.0627\n",
            "Epoch 56/200\n",
            "6/6 [==============================] - 0s 6ms/step - loss: 0.0063 - mse: 0.0063 - mae: 0.0615\n",
            "Epoch 57/200\n",
            "6/6 [==============================] - 0s 4ms/step - loss: 0.0061 - mse: 0.0061 - mae: 0.0613\n",
            "Epoch 58/200\n",
            "6/6 [==============================] - 0s 4ms/step - loss: 0.0060 - mse: 0.0060 - mae: 0.0602\n",
            "Epoch 59/200\n",
            "6/6 [==============================] - 0s 4ms/step - loss: 0.0058 - mse: 0.0058 - mae: 0.0594\n",
            "Epoch 60/200\n",
            "6/6 [==============================] - 0s 5ms/step - loss: 0.0057 - mse: 0.0057 - mae: 0.0582\n",
            "Epoch 61/200\n",
            "6/6 [==============================] - 0s 5ms/step - loss: 0.0055 - mse: 0.0055 - mae: 0.0577\n",
            "Epoch 62/200\n",
            "6/6 [==============================] - 0s 6ms/step - loss: 0.0055 - mse: 0.0055 - mae: 0.0574\n",
            "Epoch 63/200\n",
            "6/6 [==============================] - 0s 7ms/step - loss: 0.0053 - mse: 0.0053 - mae: 0.0562\n",
            "Epoch 64/200\n",
            "6/6 [==============================] - 0s 6ms/step - loss: 0.0052 - mse: 0.0052 - mae: 0.0558\n",
            "Epoch 65/200\n",
            "6/6 [==============================] - 0s 4ms/step - loss: 0.0051 - mse: 0.0051 - mae: 0.0547\n",
            "Epoch 66/200\n",
            "6/6 [==============================] - 0s 4ms/step - loss: 0.0050 - mse: 0.0050 - mae: 0.0549\n",
            "Epoch 67/200\n",
            "6/6 [==============================] - 0s 5ms/step - loss: 0.0048 - mse: 0.0048 - mae: 0.0534\n",
            "Epoch 68/200\n",
            "6/6 [==============================] - 0s 5ms/step - loss: 0.0048 - mse: 0.0048 - mae: 0.0530\n",
            "Epoch 69/200\n",
            "6/6 [==============================] - 0s 5ms/step - loss: 0.0046 - mse: 0.0046 - mae: 0.0524\n",
            "Epoch 70/200\n",
            "6/6 [==============================] - 0s 5ms/step - loss: 0.0046 - mse: 0.0046 - mae: 0.0518\n",
            "Epoch 71/200\n",
            "6/6 [==============================] - 0s 4ms/step - loss: 0.0045 - mse: 0.0045 - mae: 0.0512\n",
            "Epoch 72/200\n",
            "6/6 [==============================] - 0s 4ms/step - loss: 0.0044 - mse: 0.0044 - mae: 0.0505\n",
            "Epoch 73/200\n",
            "6/6 [==============================] - 0s 4ms/step - loss: 0.0043 - mse: 0.0043 - mae: 0.0501\n",
            "Epoch 74/200\n",
            "6/6 [==============================] - 0s 5ms/step - loss: 0.0042 - mse: 0.0042 - mae: 0.0492\n",
            "Epoch 75/200\n",
            "6/6 [==============================] - 0s 6ms/step - loss: 0.0041 - mse: 0.0041 - mae: 0.0489\n",
            "Epoch 76/200\n",
            "6/6 [==============================] - 0s 4ms/step - loss: 0.0040 - mse: 0.0040 - mae: 0.0483\n",
            "Epoch 77/200\n",
            "6/6 [==============================] - 0s 5ms/step - loss: 0.0040 - mse: 0.0040 - mae: 0.0472\n",
            "Epoch 78/200\n",
            "6/6 [==============================] - 0s 10ms/step - loss: 0.0039 - mse: 0.0039 - mae: 0.0476\n",
            "Epoch 79/200\n",
            "6/6 [==============================] - 0s 4ms/step - loss: 0.0038 - mse: 0.0038 - mae: 0.0467\n",
            "Epoch 80/200\n",
            "6/6 [==============================] - 0s 6ms/step - loss: 0.0037 - mse: 0.0037 - mae: 0.0459\n",
            "Epoch 81/200\n",
            "6/6 [==============================] - 0s 4ms/step - loss: 0.0036 - mse: 0.0036 - mae: 0.0458\n",
            "Epoch 82/200\n",
            "6/6 [==============================] - 0s 5ms/step - loss: 0.0036 - mse: 0.0036 - mae: 0.0448\n",
            "Epoch 83/200\n",
            "6/6 [==============================] - 0s 13ms/step - loss: 0.0035 - mse: 0.0035 - mae: 0.0446\n",
            "Epoch 84/200\n",
            "6/6 [==============================] - 0s 4ms/step - loss: 0.0034 - mse: 0.0034 - mae: 0.0438\n",
            "Epoch 85/200\n",
            "6/6 [==============================] - 0s 10ms/step - loss: 0.0034 - mse: 0.0034 - mae: 0.0438\n",
            "Epoch 86/200\n",
            "6/6 [==============================] - 0s 6ms/step - loss: 0.0033 - mse: 0.0033 - mae: 0.0429\n",
            "Epoch 87/200\n",
            "6/6 [==============================] - 0s 4ms/step - loss: 0.0032 - mse: 0.0032 - mae: 0.0423\n",
            "Epoch 88/200\n",
            "6/6 [==============================] - 0s 5ms/step - loss: 0.0032 - mse: 0.0032 - mae: 0.0418\n",
            "Epoch 89/200\n",
            "6/6 [==============================] - 0s 4ms/step - loss: 0.0031 - mse: 0.0031 - mae: 0.0417\n",
            "Epoch 90/200\n",
            "6/6 [==============================] - 0s 4ms/step - loss: 0.0030 - mse: 0.0030 - mae: 0.0408\n",
            "Epoch 91/200\n",
            "6/6 [==============================] - 0s 4ms/step - loss: 0.0030 - mse: 0.0030 - mae: 0.0404\n",
            "Epoch 92/200\n",
            "6/6 [==============================] - 0s 6ms/step - loss: 0.0030 - mse: 0.0030 - mae: 0.0404\n",
            "Epoch 93/200\n",
            "6/6 [==============================] - 0s 4ms/step - loss: 0.0030 - mse: 0.0030 - mae: 0.0400\n",
            "Epoch 94/200\n",
            "6/6 [==============================] - 0s 5ms/step - loss: 0.0029 - mse: 0.0029 - mae: 0.0395\n",
            "Epoch 95/200\n",
            "6/6 [==============================] - 0s 4ms/step - loss: 0.0028 - mse: 0.0028 - mae: 0.0390\n",
            "Epoch 96/200\n",
            "6/6 [==============================] - 0s 7ms/step - loss: 0.0028 - mse: 0.0028 - mae: 0.0386\n",
            "Epoch 97/200\n",
            "6/6 [==============================] - 0s 4ms/step - loss: 0.0028 - mse: 0.0028 - mae: 0.0386\n",
            "Epoch 98/200\n",
            "6/6 [==============================] - 0s 4ms/step - loss: 0.0027 - mse: 0.0027 - mae: 0.0382\n",
            "Epoch 99/200\n",
            "6/6 [==============================] - 0s 5ms/step - loss: 0.0027 - mse: 0.0027 - mae: 0.0379\n",
            "Epoch 100/200\n",
            "6/6 [==============================] - 0s 4ms/step - loss: 0.0027 - mse: 0.0027 - mae: 0.0374\n",
            "Epoch 101/200\n",
            "6/6 [==============================] - 0s 4ms/step - loss: 0.0026 - mse: 0.0026 - mae: 0.0372\n",
            "Epoch 102/200\n",
            "6/6 [==============================] - 0s 4ms/step - loss: 0.0026 - mse: 0.0026 - mae: 0.0369\n",
            "Epoch 103/200\n",
            "6/6 [==============================] - 0s 4ms/step - loss: 0.0026 - mse: 0.0026 - mae: 0.0366\n",
            "Epoch 104/200\n",
            "6/6 [==============================] - 0s 4ms/step - loss: 0.0025 - mse: 0.0025 - mae: 0.0360\n",
            "Epoch 105/200\n",
            "6/6 [==============================] - 0s 4ms/step - loss: 0.0025 - mse: 0.0025 - mae: 0.0362\n",
            "Epoch 106/200\n",
            "6/6 [==============================] - 0s 4ms/step - loss: 0.0025 - mse: 0.0025 - mae: 0.0358\n",
            "Epoch 107/200\n",
            "6/6 [==============================] - 0s 15ms/step - loss: 0.0024 - mse: 0.0024 - mae: 0.0353\n",
            "Epoch 108/200\n",
            "6/6 [==============================] - 0s 4ms/step - loss: 0.0024 - mse: 0.0024 - mae: 0.0351\n",
            "Epoch 109/200\n",
            "6/6 [==============================] - 0s 4ms/step - loss: 0.0024 - mse: 0.0024 - mae: 0.0349\n",
            "Epoch 110/200\n",
            "6/6 [==============================] - 0s 4ms/step - loss: 0.0024 - mse: 0.0024 - mae: 0.0348\n",
            "Epoch 111/200\n",
            "6/6 [==============================] - 0s 4ms/step - loss: 0.0024 - mse: 0.0024 - mae: 0.0346\n",
            "Epoch 112/200\n",
            "6/6 [==============================] - 0s 5ms/step - loss: 0.0023 - mse: 0.0023 - mae: 0.0340\n",
            "Epoch 113/200\n",
            "6/6 [==============================] - 0s 7ms/step - loss: 0.0022 - mse: 0.0022 - mae: 0.0335\n",
            "Epoch 114/200\n",
            "6/6 [==============================] - 0s 4ms/step - loss: 0.0022 - mse: 0.0022 - mae: 0.0339\n",
            "Epoch 115/200\n",
            "6/6 [==============================] - 0s 4ms/step - loss: 0.0022 - mse: 0.0022 - mae: 0.0332\n",
            "Epoch 116/200\n",
            "6/6 [==============================] - 0s 5ms/step - loss: 0.0022 - mse: 0.0022 - mae: 0.0339\n",
            "Epoch 117/200\n",
            "6/6 [==============================] - 0s 5ms/step - loss: 0.0021 - mse: 0.0021 - mae: 0.0327\n",
            "Epoch 118/200\n",
            "6/6 [==============================] - 0s 5ms/step - loss: 0.0022 - mse: 0.0022 - mae: 0.0327\n",
            "Epoch 119/200\n",
            "6/6 [==============================] - 0s 7ms/step - loss: 0.0021 - mse: 0.0021 - mae: 0.0328\n",
            "Epoch 120/200\n",
            "6/6 [==============================] - 0s 7ms/step - loss: 0.0021 - mse: 0.0021 - mae: 0.0323\n",
            "Epoch 121/200\n",
            "6/6 [==============================] - 0s 8ms/step - loss: 0.0021 - mse: 0.0021 - mae: 0.0319\n",
            "Epoch 122/200\n",
            "6/6 [==============================] - 0s 6ms/step - loss: 0.0021 - mse: 0.0021 - mae: 0.0316\n",
            "Epoch 123/200\n",
            "6/6 [==============================] - 0s 5ms/step - loss: 0.0021 - mse: 0.0021 - mae: 0.0320\n",
            "Epoch 124/200\n",
            "6/6 [==============================] - 0s 6ms/step - loss: 0.0021 - mse: 0.0021 - mae: 0.0320\n",
            "Epoch 125/200\n",
            "6/6 [==============================] - 0s 6ms/step - loss: 0.0021 - mse: 0.0021 - mae: 0.0318    \n",
            "Epoch 126/200\n",
            "6/6 [==============================] - 0s 4ms/step - loss: 0.0020 - mse: 0.0020 - mae: 0.0307    \n",
            "Epoch 127/200\n",
            "6/6 [==============================] - 0s 4ms/step - loss: 0.0020 - mse: 0.0020 - mae: 0.0312\n",
            "Epoch 128/200\n",
            "6/6 [==============================] - 0s 4ms/step - loss: 0.0020 - mse: 0.0020 - mae: 0.0314\n",
            "Epoch 129/200\n",
            "6/6 [==============================] - 0s 7ms/step - loss: 0.0019 - mse: 0.0019 - mae: 0.0302    \n",
            "Epoch 130/200\n",
            "6/6 [==============================] - 0s 4ms/step - loss: 0.0019 - mse: 0.0019 - mae: 0.0307\n",
            "Epoch 131/200\n",
            "6/6 [==============================] - 0s 5ms/step - loss: 0.0020 - mse: 0.0020 - mae: 0.0300\n",
            "Epoch 132/200\n",
            "6/6 [==============================] - 0s 4ms/step - loss: 0.0019 - mse: 0.0019 - mae: 0.0299\n",
            "Epoch 133/200\n",
            "6/6 [==============================] - 0s 4ms/step - loss: 0.0019 - mse: 0.0019 - mae: 0.0299\n",
            "Epoch 134/200\n",
            "6/6 [==============================] - 0s 4ms/step - loss: 0.0019 - mse: 0.0019 - mae: 0.0299\n",
            "Epoch 135/200\n",
            "6/6 [==============================] - 0s 4ms/step - loss: 0.0019 - mse: 0.0019 - mae: 0.0296\n",
            "Epoch 136/200\n",
            "6/6 [==============================] - 0s 4ms/step - loss: 0.0018 - mse: 0.0018 - mae: 0.0295    \n",
            "Epoch 137/200\n",
            "6/6 [==============================] - 0s 4ms/step - loss: 0.0018 - mse: 0.0018 - mae: 0.0291\n",
            "Epoch 138/200\n",
            "6/6 [==============================] - 0s 6ms/step - loss: 0.0018 - mse: 0.0018 - mae: 0.0288    \n",
            "Epoch 139/200\n",
            "6/6 [==============================] - 0s 6ms/step - loss: 0.0018 - mse: 0.0018 - mae: 0.0285    \n",
            "Epoch 140/200\n",
            "6/6 [==============================] - 0s 7ms/step - loss: 0.0018 - mse: 0.0018 - mae: 0.0293\n",
            "Epoch 141/200\n",
            "6/6 [==============================] - 0s 5ms/step - loss: 0.0018 - mse: 0.0018 - mae: 0.0284    \n",
            "Epoch 142/200\n",
            "6/6 [==============================] - 0s 4ms/step - loss: 0.0017 - mse: 0.0017 - mae: 0.0282    \n",
            "Epoch 143/200\n",
            "6/6 [==============================] - 0s 6ms/step - loss: 0.0017 - mse: 0.0017 - mae: 0.0280\n",
            "Epoch 144/200\n",
            "6/6 [==============================] - 0s 4ms/step - loss: 0.0017 - mse: 0.0017 - mae: 0.0281\n",
            "Epoch 145/200\n",
            "6/6 [==============================] - 0s 4ms/step - loss: 0.0017 - mse: 0.0017 - mae: 0.0286\n",
            "Epoch 146/200\n",
            "6/6 [==============================] - 0s 4ms/step - loss: 0.0017 - mse: 0.0017 - mae: 0.0279    \n",
            "Epoch 147/200\n",
            "6/6 [==============================] - 0s 4ms/step - loss: 0.0017 - mse: 0.0017 - mae: 0.0276\n",
            "Epoch 148/200\n",
            "6/6 [==============================] - 0s 4ms/step - loss: 0.0017 - mse: 0.0017 - mae: 0.0273    \n",
            "Epoch 149/200\n",
            "6/6 [==============================] - 0s 7ms/step - loss: 0.0016 - mse: 0.0016 - mae: 0.0277    \n",
            "Epoch 150/200\n",
            "6/6 [==============================] - 0s 5ms/step - loss: 0.0016 - mse: 0.0016 - mae: 0.0272\n",
            "Epoch 151/200\n",
            "6/6 [==============================] - 0s 9ms/step - loss: 0.0017 - mse: 0.0017 - mae: 0.0274\n",
            "Epoch 152/200\n",
            "6/6 [==============================] - 0s 4ms/step - loss: 0.0016 - mse: 0.0016 - mae: 0.0265\n",
            "Epoch 153/200\n",
            "6/6 [==============================] - 0s 4ms/step - loss: 0.0016 - mse: 0.0016 - mae: 0.0269    \n",
            "Epoch 154/200\n",
            "6/6 [==============================] - 0s 5ms/step - loss: 0.0016 - mse: 0.0016 - mae: 0.0268\n",
            "Epoch 155/200\n",
            "6/6 [==============================] - 0s 5ms/step - loss: 0.0016 - mse: 0.0016 - mae: 0.0272\n",
            "Epoch 156/200\n",
            "6/6 [==============================] - 0s 13ms/step - loss: 0.0016 - mse: 0.0016 - mae: 0.0266\n",
            "Epoch 157/200\n",
            "6/6 [==============================] - 0s 7ms/step - loss: 0.0016 - mse: 0.0016 - mae: 0.0266\n",
            "Epoch 158/200\n",
            "6/6 [==============================] - 0s 5ms/step - loss: 0.0016 - mse: 0.0016 - mae: 0.0262\n",
            "Epoch 159/200\n",
            "6/6 [==============================] - 0s 4ms/step - loss: 0.0015 - mse: 0.0015 - mae: 0.0256    \n",
            "Epoch 160/200\n",
            "6/6 [==============================] - 0s 5ms/step - loss: 0.0015 - mse: 0.0015 - mae: 0.0257\n",
            "Epoch 161/200\n",
            "6/6 [==============================] - 0s 4ms/step - loss: 0.0015 - mse: 0.0015 - mae: 0.0260\n",
            "Epoch 162/200\n",
            "6/6 [==============================] - 0s 5ms/step - loss: 0.0015 - mse: 0.0015 - mae: 0.0257\n",
            "Epoch 163/200\n",
            "6/6 [==============================] - 0s 4ms/step - loss: 0.0015 - mse: 0.0015 - mae: 0.0257\n",
            "Epoch 164/200\n",
            "6/6 [==============================] - 0s 15ms/step - loss: 0.0015 - mse: 0.0015 - mae: 0.0254\n",
            "Epoch 165/200\n",
            "6/6 [==============================] - 0s 6ms/step - loss: 0.0015 - mse: 0.0015 - mae: 0.0257\n",
            "Epoch 166/200\n",
            "6/6 [==============================] - 0s 5ms/step - loss: 0.0014 - mse: 0.0014 - mae: 0.0248    \n",
            "Epoch 167/200\n",
            "6/6 [==============================] - 0s 4ms/step - loss: 0.0015 - mse: 0.0015 - mae: 0.0254\n",
            "Epoch 168/200\n",
            "6/6 [==============================] - 0s 4ms/step - loss: 0.0015 - mse: 0.0015 - mae: 0.0253\n",
            "Epoch 169/200\n",
            "6/6 [==============================] - 0s 4ms/step - loss: 0.0014 - mse: 0.0014 - mae: 0.0245    \n",
            "Epoch 170/200\n",
            "6/6 [==============================] - 0s 4ms/step - loss: 0.0014 - mse: 0.0014 - mae: 0.0250    \n",
            "Epoch 171/200\n",
            "6/6 [==============================] - 0s 5ms/step - loss: 0.0014 - mse: 0.0014 - mae: 0.0250\n",
            "Epoch 172/200\n",
            "6/6 [==============================] - 0s 5ms/step - loss: 0.0014 - mse: 0.0014 - mae: 0.0242    \n",
            "Epoch 173/200\n",
            "6/6 [==============================] - 0s 5ms/step - loss: 0.0014 - mse: 0.0014 - mae: 0.0251    \n",
            "Epoch 174/200\n",
            "6/6 [==============================] - 0s 5ms/step - loss: 0.0015 - mse: 0.0015 - mae: 0.0249\n",
            "Epoch 175/200\n",
            "6/6 [==============================] - 0s 5ms/step - loss: 0.0014 - mse: 0.0014 - mae: 0.0242\n",
            "Epoch 176/200\n",
            "6/6 [==============================] - 0s 4ms/step - loss: 0.0014 - mse: 0.0014 - mae: 0.0245\n",
            "Epoch 177/200\n",
            "6/6 [==============================] - 0s 5ms/step - loss: 0.0014 - mse: 0.0014 - mae: 0.0247\n",
            "Epoch 178/200\n",
            "6/6 [==============================] - 0s 5ms/step - loss: 0.0014 - mse: 0.0014 - mae: 0.0242    \n",
            "Epoch 179/200\n",
            "6/6 [==============================] - 0s 4ms/step - loss: 0.0014 - mse: 0.0014 - mae: 0.0239\n",
            "Epoch 180/200\n",
            "6/6 [==============================] - 0s 4ms/step - loss: 0.0014 - mse: 0.0014 - mae: 0.0236\n",
            "Epoch 181/200\n",
            "6/6 [==============================] - 0s 4ms/step - loss: 0.0013 - mse: 0.0013 - mae: 0.0234    \n",
            "Epoch 182/200\n",
            "6/6 [==============================] - 0s 6ms/step - loss: 0.0014 - mse: 0.0014 - mae: 0.0241    \n",
            "Epoch 183/200\n",
            "6/6 [==============================] - 0s 5ms/step - loss: 0.0013 - mse: 0.0013 - mae: 0.0234\n",
            "Epoch 184/200\n",
            "6/6 [==============================] - 0s 5ms/step - loss: 0.0013 - mse: 0.0013 - mae: 0.0231\n",
            "Epoch 185/200\n",
            "6/6 [==============================] - 0s 4ms/step - loss: 0.0013 - mse: 0.0013 - mae: 0.0238    \n",
            "Epoch 186/200\n",
            "6/6 [==============================] - 0s 5ms/step - loss: 0.0013 - mse: 0.0013 - mae: 0.0233    \n",
            "Epoch 187/200\n",
            "6/6 [==============================] - 0s 5ms/step - loss: 0.0013 - mse: 0.0013 - mae: 0.0232    \n",
            "Epoch 188/200\n",
            "6/6 [==============================] - 0s 5ms/step - loss: 0.0013 - mse: 0.0013 - mae: 0.0234    \n",
            "Epoch 189/200\n",
            "6/6 [==============================] - 0s 4ms/step - loss: 0.0013 - mse: 0.0013 - mae: 0.0231\n",
            "Epoch 190/200\n",
            "6/6 [==============================] - 0s 4ms/step - loss: 0.0013 - mse: 0.0013 - mae: 0.0229    \n",
            "Epoch 191/200\n",
            "6/6 [==============================] - 0s 4ms/step - loss: 0.0013 - mse: 0.0013 - mae: 0.0237\n",
            "Epoch 192/200\n",
            "6/6 [==============================] - 0s 5ms/step - loss: 0.0013 - mse: 0.0013 - mae: 0.0223    \n",
            "Epoch 193/200\n",
            "6/6 [==============================] - 0s 5ms/step - loss: 0.0013 - mse: 0.0013 - mae: 0.0227    \n",
            "Epoch 194/200\n",
            "6/6 [==============================] - 0s 7ms/step - loss: 0.0013 - mse: 0.0013 - mae: 0.0224    \n",
            "Epoch 195/200\n",
            "6/6 [==============================] - 0s 14ms/step - loss: 0.0012 - mse: 0.0012 - mae: 0.0222   \n",
            "Epoch 196/200\n",
            "6/6 [==============================] - 0s 7ms/step - loss: 0.0013 - mse: 0.0013 - mae: 0.0226    \n",
            "Epoch 197/200\n",
            "6/6 [==============================] - 0s 6ms/step - loss: 0.0013 - mse: 0.0013 - mae: 0.0226    \n",
            "Epoch 198/200\n",
            "6/6 [==============================] - 0s 5ms/step - loss: 0.0013 - mse: 0.0013 - mae: 0.0230\n",
            "Epoch 199/200\n",
            "6/6 [==============================] - 0s 4ms/step - loss: 0.0012 - mse: 0.0012 - mae: 0.0219\n",
            "Epoch 200/200\n",
            "6/6 [==============================] - 0s 4ms/step - loss: 0.0012 - mse: 0.0012 - mae: 0.0219    \n"
          ]
        }
      ],
      "source": [
        "EPOCHS = 200\n",
        "\n",
        "history = model.fit(\n",
        "    train_x, train_y, epochs = EPOCHS, verbose = 1\n",
        ")"
      ]
    },
    {
      "cell_type": "markdown",
      "metadata": {
        "id": "b5znM4xvHLcp"
      },
      "source": [
        "This plot should be generated just to inspect the learning convergence. \n",
        "It is expected a decreasing of the loss function value through the epochs.\n"
      ]
    },
    {
      "cell_type": "code",
      "execution_count": 8,
      "metadata": {
        "colab": {
          "base_uri": "https://localhost:8080/",
          "height": 295
        },
        "collapsed": true,
        "id": "LfbEFBSHz7KC",
        "outputId": "d8370e1e-f48d-45d3-d660-ec1b2dd3ec69"
      },
      "outputs": [
        {
          "output_type": "display_data",
          "data": {
            "text/plain": [
              "<Figure size 432x288 with 1 Axes>"
            ],
            "image/png": "[encoded data removed]"
          },
          "metadata": {
            "needs_background": "light"
          }
        }
      ],
      "source": [
        "plt.plot(history.history['mse'])\n",
        "plt.title('Training MSE')\n",
        "plt.ylabel('MSE')\n",
        "plt.xlabel('Epoch')\n",
        "plt.legend(['Error'], loc='upper right')\n",
        "plt.show()"
      ]
    },
    {
      "cell_type": "markdown",
      "metadata": {
        "id": "YTqSvbNeOJG5"
      },
      "source": [
        "After the training process, the knowledge learnt by a neural network is stored in its weights."
      ]
    },
    {
      "cell_type": "markdown",
      "metadata": {
        "id": "J9ZQbtPLOfze"
      },
      "source": [
        "After the training process, the model should be tested in order to measure its quality, it means, how good are its predictions. The model must be evaluated using the testing set, which is composed by samples that are not in the training set. In regression problems, the correlation coefficient is the default metric to measure the model quality.\n",
        "The correlation coefficient is computed using real outputs ($y$) and predicted outputs ($\\hat{y}$). Correlation coefficient can vary between 0 (bad predictions) and 1 (perfect predictions). "
      ]
    },
    {
      "cell_type": "code",
      "execution_count": 9,
      "metadata": {
        "id": "l5PeLuUK06cw",
        "colab": {
          "base_uri": "https://localhost:8080/",
          "height": 330
        },
        "outputId": "569cf61d-e5b9-42f7-818b-bcd2b89a9f1a"
      },
      "outputs": [
        {
          "output_type": "stream",
          "name": "stdout",
          "text": [
            "2/2 [==============================] - 0s 11ms/step\n"
          ]
        },
        {
          "output_type": "display_data",
          "data": {
            "text/plain": [
              "<Figure size 432x288 with 1 Axes>"
            ],
            "image/png": "[encoded data removed]"
          },
          "metadata": {
            "needs_background": "light"
          }
        },
        {
          "output_type": "stream",
          "name": "stdout",
          "text": [
            "Correlation Coefficient in testing set: 0.9918\n"
          ]
        }
      ],
      "source": [
        "test_predictions = model.predict(test_x) # predict radon activities with the built linear regression model\n",
        "\n",
        "plt.scatter(test_y, test_predictions, marker = 'o', c = 'blue')\n",
        "plt.plot([-0.1,1.1], [-0.1,1.1], color = 'black', ls = '--')\n",
        "plt.ylabel('Predictions')\n",
        "plt.xlabel('Real Values')\n",
        "plt.title('Linear Regression with MLP (Testing Set)')\n",
        "plt.ylim(-0.1, 1.1)\n",
        "plt.xlim(-0.1, 1.1)\n",
        "plt.axis(True)\n",
        "plt.show()\n",
        "\n",
        "print(\"Correlation Coefficient in testing set: %.4f\" % np.corrcoef(np.transpose(test_predictions), np.transpose(test_y))[0,1])"
      ]
    },
    {
      "cell_type": "code",
      "execution_count": 10,
      "metadata": {
        "id": "Q2EHI_hd4OdI",
        "colab": {
          "base_uri": "https://localhost:8080/",
          "height": 330
        },
        "outputId": "bf2bb4f2-37d3-44bc-aed0-a1030b33306b"
      },
      "outputs": [
        {
          "output_type": "stream",
          "name": "stdout",
          "text": [
            "6/6 [==============================] - 0s 7ms/step\n"
          ]
        },
        {
          "output_type": "display_data",
          "data": {
            "text/plain": [
              "<Figure size 432x288 with 1 Axes>"
            ],
            "image/png": "[encoded data removed]"
          },
          "metadata": {
            "needs_background": "light"
          }
        },
        {
          "output_type": "stream",
          "name": "stdout",
          "text": [
            "Correlation Coefficient in training set: 0.9893\n"
          ]
        }
      ],
      "source": [
        "train_predictions = model.predict(train_x) # predict radom activities with the built linear regression model\n",
        "\n",
        "plt.scatter(train_y, train_predictions, marker = 'o', c = 'blue')\n",
        "plt.plot([-0.1,1.1], [-0.1,1.1], color = 'black', ls = '--')\n",
        "plt.ylabel('Predictions')\n",
        "plt.xlabel('Real Values')\n",
        "plt.title('Linear Regression with MLP (Training Set)')\n",
        "plt.ylim(-0.1, 1.1)\n",
        "plt.xlim(-0.1, 1.1)\n",
        "plt.axis(True)\n",
        "plt.show()\n",
        "\n",
        "print(\"Correlation Coefficient in training set: %.4f\" % np.corrcoef(np.transpose(train_predictions), np.transpose(train_y))[0,1])"
      ]
    }
  ],
  "metadata": {
    "colab": {
      "collapsed_sections": [],
      "provenance": []
    },
    "kernelspec": {
      "display_name": "Python 3",
      "name": "python3"
    },
    "language_info": {
      "name": "python"
    }
  },
  "nbformat": 4,
  "nbformat_minor": 0
}