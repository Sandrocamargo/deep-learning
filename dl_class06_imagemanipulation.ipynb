{
  "nbformat": 4,
  "nbformat_minor": 0,
  "metadata": {
    "colab": {
      "provenance": []
    },
    "kernelspec": {
      "name": "python3",
      "display_name": "Python 3"
    },
    "language_info": {
      "name": "python"
    }
  },
  "cells": [
    {
      "cell_type": "code",
      "execution_count": null,
      "metadata": {
        "id": "vHe8IZOuRfSC"
      },
      "outputs": [],
      "source": [
        "#import numpy as np\n",
        "import requests                   # to load URL\n",
        "import matplotlib.pyplot as plt   # to plot\n",
        "from PIL import Image             # PIL:Python Imaging Library\n",
        "from io import BytesIO            # to load URL"
      ]
    },
    {
      "cell_type": "markdown",
      "source": [
        "Loading image"
      ],
      "metadata": {
        "id": "XFKlOgDrhka9"
      }
    },
    {
      "cell_type": "code",
      "source": [
        "response = requests.get(\"https://cursos.unipampa.edu.br/cursos/ppgcap/wp-content/themes/cursos_unipampa/images/logo_unipampa.png\")\n",
        "img = Image.open(BytesIO(response.content))\n",
        "plt.imshow(img)\n",
        "print(\"Format:\",img.format,\"\\nSize:\", img.size, \"\\nMode:\", img.mode)"
      ],
      "metadata": {
        "id": "dtK86RYoScSK"
      },
      "execution_count": null,
      "outputs": []
    },
    {
      "cell_type": "code",
      "source": [
        "# Show colors of a single pixel\n",
        "rgb_im = img.convert('RGB')\n",
        "r, g, b = rgb_im.getpixel((105, 65))\n",
        "print(r, g, b)"
      ],
      "metadata": {
        "id": "PahAAGGiSdcL"
      },
      "execution_count": null,
      "outputs": []
    },
    {
      "cell_type": "code",
      "source": [
        "# Transform a image to a list of numbers\n",
        "im_data = list()  # creating a empty list\n",
        "for x in range(rgb_im.size[0]): # for each line\n",
        "  for y in range(rgb_im.size[1]): # for each column\n",
        "    r, g, b = rgb_im.getpixel((x, y)) # get components of pixel color\n",
        "    im_data.append(r)\n",
        "    im_data.append(g)\n",
        "    im_data.append(b)\n",
        "print(im_data)  # print list"
      ],
      "metadata": {
        "id": "qgdKrudl4j9W"
      },
      "execution_count": null,
      "outputs": []
    },
    {
      "cell_type": "code",
      "source": [
        "# Transform a image to a numpy array\n",
        "import numpy as np\n",
        "print(img.size)\n",
        "print(np.array(img))"
      ],
      "metadata": {
        "id": "eB1WI-P9Upr8"
      },
      "execution_count": null,
      "outputs": []
    }
  ]
}