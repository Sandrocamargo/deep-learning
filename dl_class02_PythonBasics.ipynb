{
  "nbformat": 4,
  "nbformat_minor": 0,
  "metadata": {
    "colab": {
      "provenance": []
    },
    "kernelspec": {
      "name": "python3",
      "display_name": "Python 3"
    }
  },
  "cells": [
    {
      "cell_type": "markdown",
      "metadata": {
        "id": "ow8Frl0avFP4"
      },
      "source": [
        "# Course: Deep Learning\n",
        "# Author: Sandro da Silva Camargo <sandrocamargo@unipampa.edu.br>\n",
        "# Python Fundamentals\n",
        "\n",
        "This notebook aims to present the basic elements of python language.\n",
        "\n",
        "To open this notebook in your Google Colab environment, [click here](https://colab.research.google.com/github/Sandrocamargo/deep-learning/blob/master/dl_class02_PythonBasics.ipynb)."
      ]
    },
    {
      "cell_type": "markdown",
      "metadata": {
        "id": "QFEbAnVYtZU4"
      },
      "source": [
        "#**Data Types**\n",
        "\n",
        "In programming, data type is a very important concept.\n",
        "\n",
        "Variables in a computer program can store data of different types\n",
        "\n",
        "Python has the following data types built-in by default, in these categories:\n",
        "\n",
        "Text Type:\tstr\n",
        "\n",
        "\n",
        "*   Text Type: str\n",
        "*   Numeric Types: int, float, and complex\n",
        "*   Sequenct Types: list, tuple, and range\n",
        "*   Mapping Type: dict\n",
        "*   Set Types: set, frozenset\n",
        "*   Boolean Type: bool\n",
        "*   Binary Types: bytes, bytearray, memoryview\n",
        "*   None Type: NoneType\n",
        "\n",
        "Int: Int are in decimal base by default, but it is possible to use binary (0b), octal (0o) and Hexadecimal (0x).\n",
        "Bool: 0=False, 1=True"
      ]
    },
    {
      "cell_type": "code",
      "metadata": {
        "id": "YgWOhR67tWfB"
      },
      "source": [
        "# Creating an int variable\n",
        "x = 10 # Setting a decimal value\n",
        "xx = 101\n",
        "print(\"Integer:\", x)\n",
        "\n",
        "y = 123456789012345678901234567890123456789012345678901234567890123456789012345678901234567890\n",
        "print(\"Big int:\", y)\n",
        "\n",
        "x = 0b1011 # setting a binary value\n",
        "print(\"Binary:\", x)\n",
        "print(\"Binary:\", bin(x))\n",
        "\n",
        "x = 0o77 # setting a octal value\n",
        "print(\"Octal:\", x)\n",
        "print(\"Octal:\", oct(x))\n",
        "\n",
        "x = 0xB0CA # setting a hexadecimal value\n",
        "print(\"Hexadecimal:\", x)\n",
        "print(\"Hexadecimal:\", hex(x))"
      ],
      "execution_count": null,
      "outputs": []
    },
    {
      "cell_type": "code",
      "source": [
        "# Creating a boolean variable\n",
        "x = bool(1)\n",
        "print(x)\n",
        "\n",
        "x = bool(0)\n",
        "print(x)"
      ],
      "metadata": {
        "id": "966_vOdfSnFG"
      },
      "execution_count": null,
      "outputs": []
    },
    {
      "cell_type": "markdown",
      "metadata": {
        "id": "DtYKmYHrxy_T"
      },
      "source": [
        "String variables must be between quotation marks."
      ]
    },
    {
      "cell_type": "code",
      "metadata": {
        "id": "DWA0lKIy551U"
      },
      "source": [
        "x = \"Good morning\"\n",
        "print(x)\n",
        "x = 'Good afternoon'\n",
        "print(x)"
      ],
      "execution_count": null,
      "outputs": []
    },
    {
      "cell_type": "markdown",
      "metadata": {
        "id": "h6i2UbgJ9yBE"
      },
      "source": [
        "Floating point variables can be either: float or complex."
      ]
    },
    {
      "cell_type": "code",
      "metadata": {
        "id": "zHQKjZKA9yku"
      },
      "source": [
        "x = 0.123456789012345678901234567890123456789012345678901234567890\n",
        "print(\"Floating point number:\", x)\n",
        "x = 3+1j\n",
        "print(\"Complex number:\", x)"
      ],
      "execution_count": null,
      "outputs": []
    },
    {
      "cell_type": "markdown",
      "metadata": {
        "id": "aAmzsNpUJiIf"
      },
      "source": [
        "# Data types conversion\n",
        "\n",
        "Data type conversion can be done with the functions: int, float, bool, str."
      ]
    },
    {
      "cell_type": "code",
      "metadata": {
        "id": "FDBpdc9_Jizz"
      },
      "source": [
        "x = \"2019\"\n",
        "print(x)\n",
        "\n",
        "#x = x+1 # Data type Error\n",
        "\n",
        "y = int(x)+1\n",
        "print(y)\n",
        "\n",
        "y = float(x)+1\n",
        "print(y)\n",
        "\n",
        "x = 3.1415\n",
        "print(int(x))"
      ],
      "execution_count": null,
      "outputs": []
    },
    {
      "cell_type": "markdown",
      "metadata": {
        "id": "VAheDJhxO4fx"
      },
      "source": [
        "# Arithmetic Operators\n",
        "The arithmetic operators are +, -, \\*, /, //, %, \\*\\*.\n",
        "\n",
        "\\/\\/ represents integer division\n",
        "\n",
        "\\% represents the remainder\n",
        "\n",
        "\\*\\* represents power"
      ]
    },
    {
      "cell_type": "code",
      "metadata": {
        "id": "DyzyJ3FHO5EX"
      },
      "source": [
        "x = 3\n",
        "y = 2\n",
        "print(\"Add:\", x+y)\n",
        "print(\"Subtract:\", x-y)\n",
        "print(\"Multiply:\", x*y)\n",
        "print(\"Division:\", x/y)\n",
        "print(\"Integer division:\",x//y)\n",
        "print(\"Remainder:\",x%y)\n",
        "print(\"Power:\",x**y)\n"
      ],
      "execution_count": null,
      "outputs": []
    },
    {
      "cell_type": "code",
      "metadata": {
        "id": "2reG8HJGxzxT"
      },
      "source": [
        "x = 0x00CA\n",
        "y = 0x00B0\n",
        "\n",
        "print(x+y)\n",
        "print(bin(x**y))"
      ],
      "execution_count": null,
      "outputs": []
    },
    {
      "cell_type": "markdown",
      "metadata": {
        "id": "ozMxSVMAR3_-"
      },
      "source": [
        "# Logical operators\n",
        "\n",
        "Basic logical operators are and, or e not."
      ]
    },
    {
      "cell_type": "code",
      "metadata": {
        "id": "CWKFDPkYR4gt"
      },
      "source": [
        "x = 0b1010\n",
        "y = 0b0101\n",
        "z = 1\n",
        "\n",
        "print(bin(x and y))\n",
        "print(x and y)\n",
        "print(bin(x or y))\n",
        "print(not(z))\n"
      ],
      "execution_count": null,
      "outputs": []
    },
    {
      "cell_type": "markdown",
      "metadata": {
        "id": "8xpArAkGW6jM"
      },
      "source": [
        "# Data input\n",
        "\n",
        "Data input can be done with input function."
      ]
    },
    {
      "cell_type": "code",
      "metadata": {
        "id": "xB8-M_a5W6-D"
      },
      "source": [
        "name = input(\"What is your name?\")\n",
        "age = input(\"How old are you?\")\n",
        "print(\"%s is %d years old.\" %(str(name), int(age)))"
      ],
      "execution_count": null,
      "outputs": []
    },
    {
      "cell_type": "markdown",
      "metadata": {
        "id": "WF9_2J-yZKvu"
      },
      "source": [
        "# Selection/Decision control statements\n",
        "\n",
        "\n",
        "Control statements available in python are (if), (if-else), (if-elif), and (if-elif-else)."
      ]
    },
    {
      "cell_type": "code",
      "metadata": {
        "id": "Y4N-TUKLZLSs"
      },
      "source": [
        "x = input(\"Please, type an integer number:\")\n",
        "\n",
        "if (int(x)%2==0):\n",
        "  print(\"This number is even.\")"
      ],
      "execution_count": null,
      "outputs": []
    },
    {
      "cell_type": "code",
      "metadata": {
        "id": "65nsXR9zai1e"
      },
      "source": [
        "x = input(\"Please, type an integer number:\")\n",
        "\n",
        "if (int(x)%2==0):\n",
        "  print(\"This number is even.\")\n",
        "else:\n",
        "  print(\"This number is odd.\")"
      ],
      "execution_count": null,
      "outputs": []
    },
    {
      "cell_type": "code",
      "metadata": {
        "id": "DtftwZQFcKME"
      },
      "source": [
        "x = input(\"Please, type an integer number:\")\n",
        "\n",
        "if (int(x)%2==1):\n",
        "  print(\"This number is odd.\")\n",
        "else:\n",
        "  if(int(x)%10==0):\n",
        "    print(\"This number is even and it is multiple of 10.\")\n",
        "  else:\n",
        "    print(\"This number is even and it is not multiple of 10.\")"
      ],
      "execution_count": null,
      "outputs": []
    },
    {
      "cell_type": "code",
      "metadata": {
        "id": "Tdci2fRZe4rU"
      },
      "source": [
        "op = input(\"Having the numbers 10 and 5, choose one of this arithmetic operators: +, -, * ou /\")\n",
        "x1 = 10\n",
        "x2 = 5\n",
        "\n",
        "if (op==\"+\"):\n",
        "  print(x1 + x2)\n",
        "elif (op==\"-\"):\n",
        "  print(x1 - x2)\n",
        "elif (op==\"*\"):\n",
        "  print(x1 * x2)\n",
        "elif (op==\"/\"):\n",
        "  print(x1 / x2)\n",
        "elif (op==\"**\"):\n",
        "  print(x1**x2)\n",
        "else:\n",
        "  print(\"Unrecognized operator.\")"
      ],
      "execution_count": null,
      "outputs": []
    },
    {
      "cell_type": "markdown",
      "source": [
        "### Match\n",
        "\n",
        "A match statement gets an expression and compares its value to successive patterns given as one or more case blocks."
      ],
      "metadata": {
        "id": "TaVFxV-sXFSe"
      }
    },
    {
      "cell_type": "code",
      "source": [
        "def internet_error(status):\n",
        "  match status:\n",
        "    case 400:\n",
        "      return \"Bad request\"\n",
        "    case 404:\n",
        "      return \"Not found\"\n",
        "    case 418:\n",
        "      return \"I'm a teapot\"\n",
        "    case _:\n",
        "      return \"Something's wrong with the internet\"\n",
        "\n",
        "internet_error(400)"
      ],
      "metadata": {
        "id": "DOi13cPfXGxV"
      },
      "execution_count": null,
      "outputs": []
    },
    {
      "cell_type": "markdown",
      "metadata": {
        "id": "VcirM0tJel7D"
      },
      "source": [
        "# Repetition Statements\n",
        "\n",
        "\n",
        "Basic repetition statements are (while) e (for)."
      ]
    },
    {
      "cell_type": "code",
      "metadata": {
        "id": "AvuTYZmnfDHu"
      },
      "source": [
        "i=1\n",
        "while i<=20:\n",
        "  print(i, end=\",\")\n",
        "  i=i+1\n",
        "print(\".\")"
      ],
      "execution_count": null,
      "outputs": []
    },
    {
      "cell_type": "code",
      "metadata": {
        "id": "KMX5HNKUfPWi"
      },
      "source": [
        "for i in [2,4,7,8,9]:\n",
        "  print(i, end=\" \")\n",
        "print(\".\")"
      ],
      "execution_count": null,
      "outputs": []
    },
    {
      "cell_type": "code",
      "metadata": {
        "id": "LbVMLpQwfpCj"
      },
      "source": [
        "for i in range(10,20):\n",
        "  print(i, end=\" \")\n",
        "print(\".\")"
      ],
      "execution_count": null,
      "outputs": []
    },
    {
      "cell_type": "code",
      "metadata": {
        "id": "IlkiM-lDfuHD"
      },
      "source": [
        "for i in range(1,20,4):\n",
        "  print(i, end=\" \")\n",
        "print(\".\")"
      ],
      "execution_count": null,
      "outputs": []
    },
    {
      "cell_type": "code",
      "metadata": {
        "id": "t1cSXXKOytKJ"
      },
      "source": [
        "x = input(\"Type a number: \")\n",
        "x = int(x)\n",
        "\n",
        "resp = 1\n",
        "for i in range(1,(x+1)):\n",
        "  resp = resp * i\n",
        "\n",
        "print(\"The factorial of %d is %d.\" %(int(x),int(resp)))"
      ],
      "execution_count": null,
      "outputs": []
    },
    {
      "cell_type": "markdown",
      "metadata": {
        "id": "gC-DHMaSTfRW"
      },
      "source": [
        "# Functions\n",
        "\n",
        "A function is a block of code, which was designed to perform a single action, organized to be reused.\n",
        "\n",
        "A function is supposed to have some basic elements:\n",
        "- Functions begin by keyword def, followed by the function name and parentheses to receive the parameters.\n",
        "- All the parameters must be in the parentheses.\n",
        "- The first element of a function should be the documentation.\n",
        "- A block of code which is inside a function begins with colon and must be indended.\n",
        "- return command ends a function and returns the result to the place where the function was invoked. If no argument is provided, the function returns nothing.\n"
      ]
    },
    {
      "cell_type": "code",
      "metadata": {
        "id": "r3YteC9uT61D"
      },
      "source": [
        "def evenorodd(n):\n",
        "  \"This is a function to test if a number is even or odd. The function receives a single input.\"\n",
        "  if n%2==0:\n",
        "    result = \"even\"\n",
        "  else:\n",
        "    result = \"odd\"\n",
        "  return result"
      ],
      "execution_count": null,
      "outputs": []
    },
    {
      "cell_type": "code",
      "metadata": {
        "id": "dP9TNz1RUME-"
      },
      "source": [
        "age = input(\"What is your age:\")\n",
        "resp = evenorodd(int(age))\n",
        "print(\"%d is %s.\" %(int(age), resp))\n"
      ],
      "execution_count": null,
      "outputs": []
    },
    {
      "cell_type": "code",
      "metadata": {
        "id": "oqkurjS-UanG"
      },
      "source": [
        "def divisible(x,y):\n",
        "  \"This function receives two inputs and returns the information about the divisibility.\"\n",
        "  if x%y==0:\n",
        "    result = \"is divisible\"\n",
        "  else:\n",
        "    result = \"is not divisible\"\n",
        "  return result\n"
      ],
      "execution_count": null,
      "outputs": []
    },
    {
      "cell_type": "code",
      "metadata": {
        "id": "-IJZtSZ6VPjl"
      },
      "source": [
        "entrada1 = input(\"Type the first number:\")\n",
        "entrada2 = input(\"Type the second number:\")\n",
        "resp = divisible(int(entrada1),int(entrada2))\n",
        "print(\"%d %s by %d.\" %(int(entrada1), resp, int(entrada2)))"
      ],
      "execution_count": null,
      "outputs": []
    },
    {
      "cell_type": "markdown",
      "metadata": {
        "id": "b7rqq9dydCMZ"
      },
      "source": [
        "A function is recursive if, in their body, there is a call to itself."
      ]
    },
    {
      "cell_type": "code",
      "metadata": {
        "id": "wN8tNYLedhdO"
      },
      "source": [
        "def fat(n):\n",
        "  \"This is a recursive function to compute the factorial.\"\n",
        "  if n==0:\n",
        "    return 1\n",
        "  else:\n",
        "    return n*fat(n-1)"
      ],
      "execution_count": null,
      "outputs": []
    },
    {
      "cell_type": "code",
      "metadata": {
        "id": "UVHsWxXRdpu9"
      },
      "source": [
        "number = input(\"Please, type a number:\")\n",
        "print(\"The factorial of %d is %d.\" %(int(number), fat(int(number))))"
      ],
      "execution_count": null,
      "outputs": []
    },
    {
      "cell_type": "markdown",
      "metadata": {
        "id": "eEIA5DCiPQHz"
      },
      "source": [
        "# Variables Scope"
      ]
    },
    {
      "cell_type": "code",
      "metadata": {
        "id": "bMdK0xtEPQnb"
      },
      "source": [
        "# The id() function returns a unique id for the specified object\n",
        "def passing_parameters(x):\n",
        "    \"This function presents variables and their contexts\"\n",
        "    print(\"x=\",x,\" id=\",id(x))\n",
        "    x=14\n",
        "    print(\"x=\",x,\" id=\",id(x))\n",
        "\n",
        "x = 12\n",
        "print(\"x=\",x,\" id=\",id(x))\n",
        "passing_parameters(x)\n",
        "print(\"x=\",x,\" id=\",id(x))"
      ],
      "execution_count": null,
      "outputs": []
    },
    {
      "cell_type": "markdown",
      "metadata": {
        "id": "eryW0Q4heqn-"
      },
      "source": [
        "# Data Structures\n",
        "\n",
        "The data structures are vectors, matrices, strings and tuples.\n",
        "\n",
        "A vector is a unidimensional data structure which contains elements of the same type."
      ]
    },
    {
      "cell_type": "code",
      "metadata": {
        "id": "AOXzxWE5e6Bw"
      },
      "source": [
        "vetor=[4,3,2,1]\n",
        "\n",
        "print(\"The first element of this vector is %d.\" %int(vetor[0]))\n",
        "print(\"The forth element of this vector is %d.\" %int(vetor[3]))\n",
        "print(vetor)"
      ],
      "execution_count": null,
      "outputs": []
    },
    {
      "cell_type": "code",
      "metadata": {
        "id": "Nll4cqbUgc-k"
      },
      "source": [
        "vetor=[]\n",
        "for i in range(0,10):\n",
        "  vetor.append(i*3)\n",
        "\n",
        "print(\"The vector has %d elements.\" %len(vetor))\n",
        "\n",
        "for i in range(0,len(vetor)):\n",
        "  print(\"Position[\",i,\"]: Value \",vetor[i])\n",
        "\n",
        "print(\"Original vector: \", vetor)\n",
        "\n",
        "vetor.remove(6) # Remove this value\n",
        "vetor.insert(1,30) # Insert element 30 at position 1\n",
        "print(vetor)\n",
        "vetor.pop(0) # Remove element at a given position\n",
        "print(vetor)\n",
        "print(vetor.count(21)) # Count the number of times this element appears\n",
        "print(vetor.index(27)) # Position of this element"
      ],
      "execution_count": null,
      "outputs": []
    },
    {
      "cell_type": "code",
      "source": [
        "vetor.reverse()\n",
        "print(\"Reversed vector: \")\n",
        "print(vetor)\n",
        "vetor.sort()\n",
        "print(\"Sorted vector: \")\n",
        "print(vetor)\n",
        "vetor.clear()\n",
        "print(\"Empty vector: \")\n",
        "print(vetor)"
      ],
      "metadata": {
        "id": "A05EC-I2FJV9"
      },
      "execution_count": null,
      "outputs": []
    },
    {
      "cell_type": "markdown",
      "source": [
        "### Using list as stack"
      ],
      "metadata": {
        "id": "Vm_Kjj_k05kv"
      }
    },
    {
      "cell_type": "code",
      "source": [
        "stack = [3, 4, 5]\n",
        "stack.append(6)\n",
        "stack.append(7)\n",
        "print(stack)\n",
        "stack.pop()\n",
        "print(stack)\n",
        "stack.pop()\n",
        "print(stack)\n",
        "stack.pop()\n",
        "print(stack)"
      ],
      "metadata": {
        "id": "99CSOVfI02zv"
      },
      "execution_count": null,
      "outputs": []
    },
    {
      "cell_type": "markdown",
      "source": [
        "### Using list as queue"
      ],
      "metadata": {
        "id": "2JHbNLtc1R95"
      }
    },
    {
      "cell_type": "code",
      "source": [
        "from collections import deque\n",
        "\n",
        "queue = deque([\"Gabriel\", \"João\", \"Vinícius\"])\n",
        "queue.append(\"Antonio\")         # Antonio arrives\n",
        "queue.append(\"Sandro\")          # Sandro arrives\n",
        "queue.popleft()                 # The first to arrive now leaves\n",
        "queue.popleft()                 # The second to arrive now leaves\n",
        "print(queue)                    # Remaining queue in order of arrival"
      ],
      "metadata": {
        "id": "cQl5KK651Tm2"
      },
      "execution_count": null,
      "outputs": []
    },
    {
      "cell_type": "markdown",
      "metadata": {
        "id": "JozPcaA8kYLi"
      },
      "source": [
        "### A matrix is a bidimensional structure which contains a set of data of the same type."
      ]
    },
    {
      "cell_type": "code",
      "metadata": {
        "id": "cNqICJNYkZNk"
      },
      "source": [
        "matrizstr =  [[\"\",\"X\",\"\"],\n",
        "          [\"\",\"\",\"X\"],\n",
        "          [\"\",\"X\",\"\"],\n",
        "          [\"X\",\"\",\"\"],\n",
        "          [\"\",\"X\",\"\"],\n",
        "          [\"\",\"\",\"X\"],\n",
        "          [\"\",\"X\",\"\"]]\n",
        "print(matrizstr)\n",
        "\n",
        "matrizint =  [[0,\"\",0],\n",
        "          [0,0,1],\n",
        "          [0,1,0],\n",
        "          [1,0,0],\n",
        "          [0,1,0],\n",
        "          [0,0,1],\n",
        "          [0,1,0]]\n",
        "print(matrizint)\n",
        "matrizint[0][1]=0\n",
        "matrizint[0][0]=1\n",
        "print(matrizint)"
      ],
      "execution_count": null,
      "outputs": []
    },
    {
      "cell_type": "code",
      "metadata": {
        "id": "aXRSW4WJpfLQ"
      },
      "source": [
        "vetor1 = [1, 2, 3]\n",
        "vetor2 = [4, 5, 6]\n",
        "vetor3 = [7, 8, 9]\n",
        "vetor2.append(vetor3)\n",
        "vetor1.append(vetor2)\n",
        "print(vetor1)\n",
        "print(vetor1[3])"
      ],
      "execution_count": null,
      "outputs": []
    },
    {
      "cell_type": "markdown",
      "metadata": {
        "id": "EfWOM6_DshAD"
      },
      "source": [
        "### Tuple\n",
        "Tuple is a sequence of references to objects. These objects can be of different data types.\n",
        "\n"
      ]
    },
    {
      "cell_type": "code",
      "metadata": {
        "id": "aipe_4H8ti_x",
        "collapsed": true
      },
      "source": [
        "#@title\n",
        "course = (\"Deep Learning\", 50, 60,30,0)\n",
        "print(course)\n",
        "\n",
        "result = (\"Success\",\"Fail Grade\",\"Fail Frequency\")\n",
        "print(result)\n",
        "\n",
        "for r in result:\n",
        "  print(r)"
      ],
      "execution_count": null,
      "outputs": []
    },
    {
      "cell_type": "markdown",
      "source": [
        "### Sets\n",
        "A set is an unordered collection with no duplicate elements."
      ],
      "metadata": {
        "id": "hl2sA6BB3wwE"
      }
    },
    {
      "cell_type": "code",
      "source": [
        "basket = {'apple', 'orange', 'apple', 'pear', 'orange', 'banana'}\n",
        "print(basket)                      # show that duplicates have been removed\n",
        "print('orange' in basket)                 # fast membership testing\n",
        "print('onion' in basket)"
      ],
      "metadata": {
        "id": "tpKQSg5g3xIY"
      },
      "execution_count": null,
      "outputs": []
    },
    {
      "cell_type": "markdown",
      "source": [
        "### Dictionary\n",
        "\n",
        "Dictionaries are also named as “associative memories” or “associative arrays”. Unlike sequences, which are indexed by a range of numbers, dictionaries are indexed by keys, which can be any immutable type; strings and numbers can always be keys."
      ],
      "metadata": {
        "id": "gHANQbtOK8KT"
      }
    },
    {
      "cell_type": "code",
      "source": [
        "extensions = {'sandro': 3257, 'leonardo': 3236}\n",
        "extensions['biblioteca'] = 3001\n",
        "print(extensions)\n",
        "print(extensions['sandro'])\n",
        "del extensions['biblioteca']\n",
        "extensions['nude'] = 3055\n",
        "print(\"Extensions: \", extensions)\n",
        "print(\"Extension keys: \", list(extensions))\n",
        "print(\"Extensions sorted: \", sorted(extensions))\n",
        "print('nude' in extensions)\n",
        "print('nude' not in extensions)"
      ],
      "metadata": {
        "id": "ok8pDaYbK9zP"
      },
      "execution_count": null,
      "outputs": []
    },
    {
      "cell_type": "code",
      "source": [
        "print(dict([('data center', 3028), ('coordenacao academica', 3022), ('coordenacao administrativa', 3024)]))"
      ],
      "metadata": {
        "id": "EbXOL0GfSkHB"
      },
      "execution_count": null,
      "outputs": []
    }
  ]
}