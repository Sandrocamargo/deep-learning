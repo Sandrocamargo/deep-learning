{
  "nbformat": 4,
  "nbformat_minor": 0,
  "metadata": {
    "colab": {
      "provenance": []
    },
    "kernelspec": {
      "name": "python3",
      "display_name": "Python 3"
    }
  },
  "cells": [
    {
      "cell_type": "markdown",
      "metadata": {
        "id": "ow8Frl0avFP4"
      },
      "source": [
        "# Course: Deep Learning\n",
        "# Author: Sandro da Silva Camargo <sandrocamargo@unipampa.edu.br>\n",
        "# Python Fundamentals\n",
        "\n",
        "This notebook aims to present the basic elements of python language."
      ]
    },
    {
      "cell_type": "markdown",
      "metadata": {
        "id": "QFEbAnVYtZU4"
      },
      "source": [
        "#**Data Types**\n",
        "\n",
        "In programming, data type is a very important concept.\n",
        "\n",
        "Variables in a computer program can store data of different types\n",
        "\n",
        "Python has the following data types built-in by default, in these categories:\n",
        "\n",
        "Text Type:\tstr\n",
        "\n",
        "\n",
        "*   Text Type: str\n",
        "*   Numeric Types: int, float, and complex\n",
        "*   Sequenct Types: list, tuple, and range\n",
        "*   Mapping Type: dict\n",
        "*   Set Types: set, frozenset\n",
        "*   Boolean Type: bool\n",
        "*   Binary Types: bytes, bytearray, memoryview\n",
        "*   None Type: NoneType\n",
        "\n",
        "Int: Int are in decimal base by default, but it is possible to use binary (0b), octal (0o) and Hexadecimal (0x).\n",
        "Bool: 0=False, 1=True"
      ]
    },
    {
      "cell_type": "code",
      "metadata": {
        "id": "YgWOhR67tWfB",
        "outputId": "0e3174ba-81b2-4e1b-fcdd-c6c37bc64162",
        "colab": {
          "base_uri": "https://localhost:8080/"
        }
      },
      "source": [
        "# Creating an int variable\n",
        "x = 10 # Setting a decimal value\n",
        "xx = 101\n",
        "print(\"Integer:\", x)\n",
        "\n",
        "y = 123456789012345678901234567890123456789012345678901234567890123456789012345678901234567890\n",
        "print(\"Big int:\", y)\n",
        "\n",
        "x = 0b1011 # setting a binary value\n",
        "print(\"Binary:\", x)\n",
        "print(\"Binary:\", bin(x))\n",
        "\n",
        "x = 0o77 # setting a octal value\n",
        "print(\"Octal:\", x)\n",
        "print(\"Octal:\", oct(x))\n",
        "\n",
        "x = 0xB0CA # setting a hexadecimal value\n",
        "print(\"Hexadecimal:\", x)\n",
        "print(\"Hexadecimal:\", hex(x))"
      ],
      "execution_count": null,
      "outputs": [
        {
          "output_type": "stream",
          "name": "stdout",
          "text": [
            "Integer: 10\n",
            "Big int: 123456789012345678901234567890123456789012345678901234567890123456789012345678901234567890\n",
            "Binary: 11\n",
            "Binary: 0b1011\n",
            "Octal: 63\n",
            "Octal: 0o77\n",
            "Hexadecimal: 45258\n",
            "Hexadecimal: 0xb0ca\n"
          ]
        }
      ]
    },
    {
      "cell_type": "code",
      "source": [
        "# Creating a boolean variable\n",
        "x = bool(1)\n",
        "print(x)\n",
        "\n",
        "x = bool(0)\n",
        "print(x)"
      ],
      "metadata": {
        "colab": {
          "base_uri": "https://localhost:8080/"
        },
        "id": "966_vOdfSnFG",
        "outputId": "84690cd2-2c10-400d-b176-9230ea32acdf"
      },
      "execution_count": null,
      "outputs": [
        {
          "output_type": "stream",
          "name": "stdout",
          "text": [
            "True\n",
            "False\n"
          ]
        }
      ]
    },
    {
      "cell_type": "markdown",
      "metadata": {
        "id": "DtYKmYHrxy_T"
      },
      "source": [
        "String variables must be between quotation marks."
      ]
    },
    {
      "cell_type": "code",
      "metadata": {
        "id": "DWA0lKIy551U",
        "outputId": "c206b3e1-0b5e-40b9-cfd9-2dde33f855cc",
        "colab": {
          "base_uri": "https://localhost:8080/"
        }
      },
      "source": [
        "x = \"Good morning\"\n",
        "print(x)\n",
        "x = 'Good afternoon'\n",
        "print(x)"
      ],
      "execution_count": null,
      "outputs": [
        {
          "output_type": "stream",
          "name": "stdout",
          "text": [
            "Good morning\n",
            "Good afternoon\n"
          ]
        }
      ]
    },
    {
      "cell_type": "markdown",
      "metadata": {
        "id": "h6i2UbgJ9yBE"
      },
      "source": [
        "Floating point variables can be either: float or complex."
      ]
    },
    {
      "cell_type": "code",
      "metadata": {
        "id": "zHQKjZKA9yku",
        "outputId": "446f6e4a-22ea-47ab-8d6f-b1dedbe705fe",
        "colab": {
          "base_uri": "https://localhost:8080/"
        }
      },
      "source": [
        "x = 0.123456789012345678901234567890123456789012345678901234567890\n",
        "print(\"Floating point number:\", x)\n",
        "x = 3+1j\n",
        "print(\"Complex number:\", x)"
      ],
      "execution_count": null,
      "outputs": [
        {
          "output_type": "stream",
          "name": "stdout",
          "text": [
            "Floating point number: 0.12345678901234568\n",
            "Complex number: (3+1j)\n"
          ]
        }
      ]
    },
    {
      "cell_type": "markdown",
      "metadata": {
        "id": "aAmzsNpUJiIf"
      },
      "source": [
        "# Data types conversion\n",
        "\n",
        "Data type conversion can be done with the functions: int, float, bool, str."
      ]
    },
    {
      "cell_type": "code",
      "metadata": {
        "id": "FDBpdc9_Jizz",
        "outputId": "fecf4d42-9b49-4e6a-8198-a2e4b791e3d7",
        "colab": {
          "base_uri": "https://localhost:8080/"
        }
      },
      "source": [
        "x = \"2019\"\n",
        "print(x)\n",
        "\n",
        "#x = x+1 # Data type Error\n",
        "\n",
        "y = int(x)+1\n",
        "print(y)\n",
        "\n",
        "y = float(x)+1\n",
        "print(y)\n",
        "\n",
        "x = 3.1415\n",
        "print(int(x))"
      ],
      "execution_count": null,
      "outputs": [
        {
          "output_type": "stream",
          "name": "stdout",
          "text": [
            "2019\n",
            "2020\n",
            "2020.0\n",
            "3\n"
          ]
        }
      ]
    },
    {
      "cell_type": "markdown",
      "metadata": {
        "id": "VAheDJhxO4fx"
      },
      "source": [
        "# Arithmetic Operators\n",
        "The arithmetic operators are +, -, \\*, /, //, %, \\*\\*.\n",
        "\n",
        "\\/\\/ represents integer division\n",
        "\n",
        "\\% represents the remainder\n",
        "\n",
        "\\*\\* represents power"
      ]
    },
    {
      "cell_type": "code",
      "metadata": {
        "id": "DyzyJ3FHO5EX",
        "outputId": "ab3fe40e-9053-4326-ef68-8405c167c383",
        "colab": {
          "base_uri": "https://localhost:8080/"
        }
      },
      "source": [
        "x = 3\n",
        "y = 2\n",
        "print(\"Add:\", x+y)\n",
        "print(\"Subtract:\", x-y)\n",
        "print(\"Multiply:\", x*y)\n",
        "print(\"Division:\", x/y)\n",
        "print(\"Integer division:\",x//y)\n",
        "print(\"Remainder:\",x%y)\n",
        "print(\"Power:\",x**y)\n"
      ],
      "execution_count": null,
      "outputs": [
        {
          "output_type": "stream",
          "name": "stdout",
          "text": [
            "Add: 5\n",
            "Subtract: 1\n",
            "Multiply: 6\n",
            "Division: 1.5\n",
            "Integer division: 1\n",
            "Remainder: 1\n",
            "Power: 9\n"
          ]
        }
      ]
    },
    {
      "cell_type": "code",
      "metadata": {
        "id": "2reG8HJGxzxT",
        "outputId": "5569cb46-b7cd-4eca-d4e6-855cc6c7df13",
        "colab": {
          "base_uri": "https://localhost:8080/"
        }
      },
      "source": [
        "x = 0x00CA\n",
        "y = 0x00B0\n",
        "\n",
        "print(x+y)\n",
        "print(bin(x**y))"
      ],
      "execution_count": null,
      "outputs": [
        {
          "output_type": "stream",
          "name": "stdout",
          "text": [
            "378\n",
            "0b1110010111110101000001001101100000111011111011100010101100110101000000011000000101010000101101110101001110000000101001111010010011110110001110011110111001000001001001111011110110111110110011000101010100011101010110000011101000001111001001010000110001111010000001110010000011000000110111111010111111000010101111110101100110001111110011000001001101101111000010101011000000010001001101110111011110001100100101010001110010001101111011110110110001111101110111011000000101001011000000000011000000100101001101101011110011011000111010110011000011111001110000001011011110010011100100101011100101110000010010011111010011110010101010010101000100000000111111010001101001011001001111110110000001100011011010100011110111001111111001111111101000111101100001010110111001011100001111101000110111110101011100010111100111100001100110010000101001000101100000011010100000101010100001011010001010011110001011111011100110110000100111001110011001011011010000001011001101110111001101010101011010111110101000001110101010110111111001101001010101101001011010110100010011101010100001000101100000011010000111100001110010011010111111010101110001101100010001001111011000011100001101011110001101110100000100000000000000000000000000000000000000000000000000000000000000000000000000000000000000000000000000000000000000000000000000000000000000000000000000000000000000000000000000000000\n"
          ]
        }
      ]
    },
    {
      "cell_type": "markdown",
      "metadata": {
        "id": "ozMxSVMAR3_-"
      },
      "source": [
        "# Logical operators\n",
        "\n",
        "Basic logical operators are and, or e not."
      ]
    },
    {
      "cell_type": "code",
      "metadata": {
        "id": "CWKFDPkYR4gt",
        "outputId": "fcad3dd4-0159-4465-931d-69eea308a359",
        "colab": {
          "base_uri": "https://localhost:8080/"
        }
      },
      "source": [
        "x = 0b1010\n",
        "y = 0b0101\n",
        "z = 1\n",
        "\n",
        "print(bin(x and y))\n",
        "print(x and y)\n",
        "print(bin(x or y))\n",
        "print(not(z))\n"
      ],
      "execution_count": null,
      "outputs": [
        {
          "output_type": "stream",
          "name": "stdout",
          "text": [
            "0b101\n",
            "5\n",
            "0b1010\n",
            "False\n"
          ]
        }
      ]
    },
    {
      "cell_type": "markdown",
      "metadata": {
        "id": "8xpArAkGW6jM"
      },
      "source": [
        "# Data input\n",
        "\n",
        "Data input can be done with input function."
      ]
    },
    {
      "cell_type": "code",
      "metadata": {
        "id": "xB8-M_a5W6-D",
        "outputId": "d4ea70d8-7636-4526-c58d-35153dae14cf",
        "colab": {
          "base_uri": "https://localhost:8080/"
        }
      },
      "source": [
        "name = input(\"What is your name?\")\n",
        "age = input(\"How old are you?\")\n",
        "print(\"%s is %d years old.\" %(str(name), int(age)))"
      ],
      "execution_count": null,
      "outputs": [
        {
          "output_type": "stream",
          "name": "stdout",
          "text": [
            "What is your name? Sandro\n",
            "How old are you?46\n",
            " Sandro is 46 years old.\n"
          ]
        }
      ]
    },
    {
      "cell_type": "markdown",
      "metadata": {
        "id": "WF9_2J-yZKvu"
      },
      "source": [
        "# Selection/Decision control statements\n",
        "\n",
        "\n",
        "Control statements available in python are (if), (if-else), (if-elif), and (if-elif-else)."
      ]
    },
    {
      "cell_type": "code",
      "metadata": {
        "id": "Y4N-TUKLZLSs",
        "outputId": "77c8b423-7fd6-489d-8ef8-dd10647f7f20",
        "colab": {
          "base_uri": "https://localhost:8080/"
        }
      },
      "source": [
        "x = input(\"Please, type an integer number:\")\n",
        "\n",
        "if (int(x)%2==0):\n",
        "  print(\"This number is even.\")"
      ],
      "execution_count": null,
      "outputs": [
        {
          "name": "stdout",
          "output_type": "stream",
          "text": [
            "Please, type an integer number:1\n"
          ]
        }
      ]
    },
    {
      "cell_type": "code",
      "metadata": {
        "id": "65nsXR9zai1e",
        "outputId": "7dbd609b-1d96-48da-9185-17f62448c1b8",
        "colab": {
          "base_uri": "https://localhost:8080/"
        }
      },
      "source": [
        "x = input(\"Please, type an integer number:\")\n",
        "\n",
        "if (int(x)%2==0):\n",
        "  print(\"This number is even.\")\n",
        "else:\n",
        "  print(\"This number is odd.\")"
      ],
      "execution_count": null,
      "outputs": [
        {
          "output_type": "stream",
          "name": "stdout",
          "text": [
            "Please, type an integer number:88\n",
            "This number is even.\n"
          ]
        }
      ]
    },
    {
      "cell_type": "code",
      "metadata": {
        "id": "DtftwZQFcKME",
        "outputId": "7b7260a1-f9fe-45e1-df9b-5e95ce84cc4a",
        "colab": {
          "base_uri": "https://localhost:8080/"
        }
      },
      "source": [
        "x = input(\"Please, type an integer number:\")\n",
        "\n",
        "if (int(x)%2==1):\n",
        "  print(\"This number is odd.\")\n",
        "else:\n",
        "  if(int(x)%10==0):\n",
        "    print(\"This number is even and it is multiple of 10.\")\n",
        "  else:\n",
        "    print(\"This number is even and it is not multiple of 10.\")"
      ],
      "execution_count": null,
      "outputs": [
        {
          "output_type": "stream",
          "name": "stdout",
          "text": [
            "Please, type an integer number:100\n",
            "This number is even and it is multiple of 10.\n"
          ]
        }
      ]
    },
    {
      "cell_type": "code",
      "metadata": {
        "id": "Tdci2fRZe4rU",
        "outputId": "27dcf5c2-7ea8-427c-fb39-c083f1e87eaa",
        "colab": {
          "base_uri": "https://localhost:8080/"
        }
      },
      "source": [
        "op = input(\"Having the numbers 10 and 5, choose one of this arithmetic operators: +, -, * ou /\")\n",
        "x1 = 10\n",
        "x2 = 5\n",
        "\n",
        "if (op==\"+\"):\n",
        "  print(x1 + x2)\n",
        "elif (op==\"-\"):\n",
        "  print(x1 - x2)\n",
        "elif (op==\"*\"):\n",
        "  print(x1 * x2)\n",
        "elif (op==\"/\"):\n",
        "  print(x1 / x2)\n",
        "elif (op==\"**\"):\n",
        "  print(x1**x2)\n",
        "else:\n",
        "  print(\"Unrecognized operator.\")"
      ],
      "execution_count": null,
      "outputs": [
        {
          "output_type": "stream",
          "name": "stdout",
          "text": [
            "Having the numbers 10 and 5, choose one of this arithmetic operators: +, -, * ou /**\n",
            "100000\n"
          ]
        }
      ]
    },
    {
      "cell_type": "markdown",
      "source": [
        "### Match\n",
        "\n",
        "A match statement gets an expression and compares its value to successive patterns given as one or more case blocks."
      ],
      "metadata": {
        "id": "TaVFxV-sXFSe"
      }
    },
    {
      "cell_type": "code",
      "source": [
        "def internet_error(status):\n",
        "  match status:\n",
        "    case 400:\n",
        "      return \"Bad request\"\n",
        "    case 404:\n",
        "      return \"Not found\"\n",
        "    case 418:\n",
        "      return \"I'm a teapot\"\n",
        "    case _:\n",
        "      return \"Something's wrong with the internet\"\n",
        "\n",
        "internet_error(400)"
      ],
      "metadata": {
        "colab": {
          "base_uri": "https://localhost:8080/",
          "height": 35
        },
        "id": "DOi13cPfXGxV",
        "outputId": "9086c52a-a66f-453b-b770-09bdbb4d776e"
      },
      "execution_count": null,
      "outputs": [
        {
          "output_type": "execute_result",
          "data": {
            "text/plain": [
              "'Bad request'"
            ],
            "application/vnd.google.colaboratory.intrinsic+json": {
              "type": "string"
            }
          },
          "metadata": {},
          "execution_count": 2
        }
      ]
    },
    {
      "cell_type": "markdown",
      "metadata": {
        "id": "VcirM0tJel7D"
      },
      "source": [
        "# Repetition Statements\n",
        "\n",
        "\n",
        "Basic repetition statements are (while) e (for)."
      ]
    },
    {
      "cell_type": "code",
      "metadata": {
        "id": "AvuTYZmnfDHu",
        "outputId": "fcd8b6ce-318c-4afb-8f24-59a23603ec25",
        "colab": {
          "base_uri": "https://localhost:8080/"
        }
      },
      "source": [
        "i=1\n",
        "while i<=20:\n",
        "  print(i, end=\",\")\n",
        "  i=i+1\n",
        "print(\".\")"
      ],
      "execution_count": null,
      "outputs": [
        {
          "output_type": "stream",
          "name": "stdout",
          "text": [
            "1,2,3,4,5,6,7,8,9,10,11,12,13,14,15,16,17,18,19,20,.\n"
          ]
        }
      ]
    },
    {
      "cell_type": "code",
      "metadata": {
        "id": "KMX5HNKUfPWi",
        "outputId": "e2629e0e-9a0d-40d8-b7df-fbf9065ca300",
        "colab": {
          "base_uri": "https://localhost:8080/"
        }
      },
      "source": [
        "for i in [2,4,7,8,9]:\n",
        "  print(i, end=\" \")\n",
        "print(\".\")"
      ],
      "execution_count": null,
      "outputs": [
        {
          "output_type": "stream",
          "name": "stdout",
          "text": [
            "2 4 7 8 9 .\n"
          ]
        }
      ]
    },
    {
      "cell_type": "code",
      "metadata": {
        "id": "LbVMLpQwfpCj",
        "outputId": "6a9b3e8d-901f-4fc1-a648-4290e2bc78cf",
        "colab": {
          "base_uri": "https://localhost:8080/"
        }
      },
      "source": [
        "for i in range(10,20):\n",
        "  print(i, end=\" \")\n",
        "print(\".\")"
      ],
      "execution_count": null,
      "outputs": [
        {
          "output_type": "stream",
          "name": "stdout",
          "text": [
            "10 11 12 13 14 15 16 17 18 19 .\n"
          ]
        }
      ]
    },
    {
      "cell_type": "code",
      "metadata": {
        "id": "IlkiM-lDfuHD",
        "outputId": "d555da73-82e7-46b6-a775-00c8324984b3",
        "colab": {
          "base_uri": "https://localhost:8080/"
        }
      },
      "source": [
        "for i in range(1,20,4):\n",
        "  print(i, end=\" \")\n",
        "print(\".\")"
      ],
      "execution_count": null,
      "outputs": [
        {
          "output_type": "stream",
          "name": "stdout",
          "text": [
            "1 5 9 13 17 .\n"
          ]
        }
      ]
    },
    {
      "cell_type": "code",
      "metadata": {
        "id": "t1cSXXKOytKJ",
        "outputId": "2154d76d-85ba-4715-ab73-ba0b6e22f0c3",
        "colab": {
          "base_uri": "https://localhost:8080/"
        }
      },
      "source": [
        "x = input(\"Type a number: \")\n",
        "x = int(x)\n",
        "\n",
        "resp = 1\n",
        "for i in range(1,(x+1)):\n",
        "  resp = resp * i\n",
        "\n",
        "print(\"The factorial of %d is %d.\" %(int(x),int(resp)))"
      ],
      "execution_count": null,
      "outputs": [
        {
          "output_type": "stream",
          "name": "stdout",
          "text": [
            "Type a number: 8\n",
            "The factorial of 8 is 40320.\n"
          ]
        }
      ]
    },
    {
      "cell_type": "markdown",
      "metadata": {
        "id": "gC-DHMaSTfRW"
      },
      "source": [
        "# Functions\n",
        "\n",
        "A function is a block of code, which was designed to perform a single action, organized to be reused.\n",
        "\n",
        "A function is supposed to have some basic elements:\n",
        "- Functions begin by keyword def, followed by the function name and parentheses to receive the parameters.\n",
        "- All the parameters must be in the parentheses.\n",
        "- The first element of a function should be the documentation.\n",
        "- A block of code which is inside a function begins with colon and must be indended.\n",
        "- return command ends a function and returns the result to the place where the function was invoked. If no argument is provided, the function returns nothing.\n"
      ]
    },
    {
      "cell_type": "code",
      "metadata": {
        "id": "r3YteC9uT61D"
      },
      "source": [
        "def evenorodd(n):\n",
        "  \"This is a function to test if a number is even or odd. The function receives a single input.\"\n",
        "  if n%2==0:\n",
        "    result = \"even\"\n",
        "  else:\n",
        "    result = \"odd\"\n",
        "  return result"
      ],
      "execution_count": null,
      "outputs": []
    },
    {
      "cell_type": "code",
      "metadata": {
        "id": "dP9TNz1RUME-",
        "outputId": "1a4f826a-a4be-4863-a919-eb1b968ac964",
        "colab": {
          "base_uri": "https://localhost:8080/"
        }
      },
      "source": [
        "age = input(\"What is your age:\")\n",
        "resp = evenorodd(int(age))\n",
        "print(\"%d is %s.\" %(int(age), resp))\n"
      ],
      "execution_count": null,
      "outputs": [
        {
          "output_type": "stream",
          "name": "stdout",
          "text": [
            "What is your age:9\n",
            "9 is odd.\n"
          ]
        }
      ]
    },
    {
      "cell_type": "code",
      "metadata": {
        "id": "oqkurjS-UanG"
      },
      "source": [
        "def divisible(x,y):\n",
        "  \"This function receives two inputs and returns the information about the divisibility.\"\n",
        "  if x%y==0:\n",
        "    result = \"is divisible\"\n",
        "  else:\n",
        "    result = \"is not divisible\"\n",
        "  return result\n"
      ],
      "execution_count": null,
      "outputs": []
    },
    {
      "cell_type": "code",
      "metadata": {
        "id": "-IJZtSZ6VPjl",
        "outputId": "afd60b39-a60a-4e2e-f16f-4a3030317f7a",
        "colab": {
          "base_uri": "https://localhost:8080/"
        }
      },
      "source": [
        "entrada1 = input(\"Type the first number:\")\n",
        "entrada2 = input(\"Type the second number:\")\n",
        "resp = divisible(int(entrada1),int(entrada2))\n",
        "print(\"%d %s by %d.\" %(int(entrada1), resp, int(entrada2)))"
      ],
      "execution_count": null,
      "outputs": [
        {
          "output_type": "stream",
          "name": "stdout",
          "text": [
            "Type the first number:101\n",
            "Type the second number:3\n",
            "101 is not divisible by 3.\n"
          ]
        }
      ]
    },
    {
      "cell_type": "markdown",
      "metadata": {
        "id": "b7rqq9dydCMZ"
      },
      "source": [
        "A function is recursive if, in their body, there is a call to itself."
      ]
    },
    {
      "cell_type": "code",
      "metadata": {
        "id": "wN8tNYLedhdO"
      },
      "source": [
        "def fat(n):\n",
        "  \"This is a recursive function to compute the factorial.\"\n",
        "  if n==0:\n",
        "    return 1\n",
        "  else:\n",
        "    return n*fat(n-1)"
      ],
      "execution_count": null,
      "outputs": []
    },
    {
      "cell_type": "code",
      "metadata": {
        "id": "UVHsWxXRdpu9",
        "outputId": "5015a998-de2c-4839-dfeb-bd734127a913",
        "colab": {
          "base_uri": "https://localhost:8080/"
        }
      },
      "source": [
        "number = input(\"Please, type a number:\")\n",
        "print(\"The factorial of %d is %d.\" %(int(number), fat(int(number))))"
      ],
      "execution_count": null,
      "outputs": [
        {
          "output_type": "stream",
          "name": "stdout",
          "text": [
            "Please, type a number:7\n",
            "The factorial of 7 is 5040.\n"
          ]
        }
      ]
    },
    {
      "cell_type": "markdown",
      "metadata": {
        "id": "eEIA5DCiPQHz"
      },
      "source": [
        "# Variables Scope"
      ]
    },
    {
      "cell_type": "code",
      "metadata": {
        "id": "bMdK0xtEPQnb",
        "outputId": "2202cda4-9267-4566-8fc0-9c0618307f86",
        "colab": {
          "base_uri": "https://localhost:8080/"
        }
      },
      "source": [
        "# The id() function returns a unique id for the specified object\n",
        "def passing_parameters(x):\n",
        "    \"This function presents variables and their contexts\"\n",
        "    print(\"x=\",x,\" id=\",id(x))\n",
        "    x=14\n",
        "    print(\"x=\",x,\" id=\",id(x))\n",
        "\n",
        "x = 12\n",
        "print(\"x=\",x,\" id=\",id(x))\n",
        "passing_parameters(x)\n",
        "print(\"x=\",x,\" id=\",id(x))"
      ],
      "execution_count": null,
      "outputs": [
        {
          "output_type": "stream",
          "name": "stdout",
          "text": [
            "x= 12  id= 11122944\n",
            "x= 12  id= 11122944\n",
            "x= 14  id= 11123008\n",
            "x= 12  id= 11122944\n"
          ]
        }
      ]
    },
    {
      "cell_type": "markdown",
      "metadata": {
        "id": "eryW0Q4heqn-"
      },
      "source": [
        "# Data Structures\n",
        "\n",
        "The data structures are vectors, matrices, strings and tuples.\n",
        "\n",
        "A vector is a unidimensional data structure which contains elements of the same type."
      ]
    },
    {
      "cell_type": "code",
      "metadata": {
        "id": "AOXzxWE5e6Bw",
        "outputId": "d743f1b1-57d1-4968-e4a2-d612b893c92b",
        "colab": {
          "base_uri": "https://localhost:8080/"
        }
      },
      "source": [
        "vetor=[4,3,2,1]\n",
        "\n",
        "print(\"The first element of this vector is %d.\" %int(vetor[0]))\n",
        "print(\"The forth element of this vector is %d.\" %int(vetor[3]))\n",
        "print(vetor)"
      ],
      "execution_count": null,
      "outputs": [
        {
          "output_type": "stream",
          "name": "stdout",
          "text": [
            "The first element of this vector is 4.\n",
            "The forth element of this vector is 1.\n",
            "[4, 3, 2, 1]\n"
          ]
        }
      ]
    },
    {
      "cell_type": "code",
      "metadata": {
        "id": "Nll4cqbUgc-k",
        "outputId": "034a5d0c-e912-4548-f8b8-d4f1654cbf64",
        "colab": {
          "base_uri": "https://localhost:8080/"
        }
      },
      "source": [
        "vetor=[]\n",
        "for i in range(0,10):\n",
        "  vetor.append(i*3)\n",
        "\n",
        "print(\"The vector has %d elements.\" %len(vetor))\n",
        "\n",
        "for i in range(0,len(vetor)):\n",
        "  print(\"Position[\",i,\"]: Value \",vetor[i])\n",
        "\n",
        "print(\"Original vector: \", vetor)\n",
        "\n",
        "vetor.remove(6) # Remove this value\n",
        "vetor.insert(1,30) # Insert element 30 at position 1\n",
        "print(vetor)\n",
        "vetor.pop(0) # Remove element at a given position\n",
        "print(vetor)\n",
        "print(vetor.count(21)) # Count the number of times this element appears\n",
        "print(vetor.index(27)) # Position of this element"
      ],
      "execution_count": null,
      "outputs": [
        {
          "output_type": "stream",
          "name": "stdout",
          "text": [
            "The vector has 10 elements.\n",
            "Position[ 0 ]: Value  0\n",
            "Position[ 1 ]: Value  3\n",
            "Position[ 2 ]: Value  6\n",
            "Position[ 3 ]: Value  9\n",
            "Position[ 4 ]: Value  12\n",
            "Position[ 5 ]: Value  15\n",
            "Position[ 6 ]: Value  18\n",
            "Position[ 7 ]: Value  21\n",
            "Position[ 8 ]: Value  24\n",
            "Position[ 9 ]: Value  27\n",
            "Original vector:  [0, 3, 6, 9, 12, 15, 18, 21, 24, 27]\n",
            "[0, 30, 3, 9, 12, 15, 18, 21, 24, 27]\n",
            "[30, 3, 9, 12, 15, 18, 21, 24, 27]\n",
            "1\n",
            "8\n"
          ]
        }
      ]
    },
    {
      "cell_type": "code",
      "source": [
        "vetor.reverse()\n",
        "print(\"Reversed vector: \")\n",
        "print(vetor)\n",
        "vetor.sort()\n",
        "print(\"Sorted vector: \")\n",
        "print(vetor)\n",
        "vetor.clear()\n",
        "print(\"Empty vector: \")\n",
        "print(vetor)"
      ],
      "metadata": {
        "colab": {
          "base_uri": "https://localhost:8080/"
        },
        "id": "A05EC-I2FJV9",
        "outputId": "c74785d0-f2fe-45df-e2f7-fdd179e9a908"
      },
      "execution_count": null,
      "outputs": [
        {
          "output_type": "stream",
          "name": "stdout",
          "text": [
            "Reversed vector: \n",
            "[27, 24, 21, 18, 15, 12, 9, 3, 30]\n",
            "Sorted vector: \n",
            "[3, 9, 12, 15, 18, 21, 24, 27, 30]\n",
            "Empty vector: \n",
            "[]\n"
          ]
        }
      ]
    },
    {
      "cell_type": "markdown",
      "source": [
        "### Using list as stack"
      ],
      "metadata": {
        "id": "Vm_Kjj_k05kv"
      }
    },
    {
      "cell_type": "code",
      "source": [
        "stack = [3, 4, 5]\n",
        "stack.append(6)\n",
        "stack.append(7)\n",
        "print(stack)\n",
        "stack.pop()\n",
        "print(stack)\n",
        "stack.pop()\n",
        "print(stack)\n",
        "stack.pop()\n",
        "print(stack)"
      ],
      "metadata": {
        "colab": {
          "base_uri": "https://localhost:8080/"
        },
        "id": "99CSOVfI02zv",
        "outputId": "af0b5499-43bd-4001-f787-2b6d7c75e868"
      },
      "execution_count": 1,
      "outputs": [
        {
          "output_type": "stream",
          "name": "stdout",
          "text": [
            "[3, 4, 5, 6, 7]\n",
            "[3, 4, 5, 6]\n",
            "[3, 4, 5]\n",
            "[3, 4]\n"
          ]
        }
      ]
    },
    {
      "cell_type": "markdown",
      "source": [
        "### Using list as queue"
      ],
      "metadata": {
        "id": "2JHbNLtc1R95"
      }
    },
    {
      "cell_type": "code",
      "source": [
        "from collections import deque\n",
        "\n",
        "queue = deque([\"Gabriel\", \"João\", \"Vinícius\"])\n",
        "queue.append(\"Antonio\")         # Antonio arrives\n",
        "queue.append(\"Sandro\")          # Sandro arrives\n",
        "queue.popleft()                 # The first to arrive now leaves\n",
        "queue.popleft()                 # The second to arrive now leaves\n",
        "print(queue)                    # Remaining queue in order of arrival"
      ],
      "metadata": {
        "colab": {
          "base_uri": "https://localhost:8080/"
        },
        "id": "cQl5KK651Tm2",
        "outputId": "eee9b554-d683-48e3-ac8e-61629bf1ec22"
      },
      "execution_count": 2,
      "outputs": [
        {
          "output_type": "stream",
          "name": "stdout",
          "text": [
            "deque(['Vinícius', 'Antonio', 'Sandro'])\n"
          ]
        }
      ]
    },
    {
      "cell_type": "markdown",
      "metadata": {
        "id": "JozPcaA8kYLi"
      },
      "source": [
        "### A matrix is a bidimensional structure which contains a set of data of the same type."
      ]
    },
    {
      "cell_type": "code",
      "metadata": {
        "id": "cNqICJNYkZNk",
        "outputId": "6c7f242b-4cdf-41c9-eaf5-8d57ad85f68b",
        "colab": {
          "base_uri": "https://localhost:8080/",
          "height": 69
        }
      },
      "source": [
        "matrizstr =  [[\"\",\"X\",\"\"],\n",
        "          [\"\",\"\",\"X\"],\n",
        "          [\"\",\"X\",\"\"],\n",
        "          [\"X\",\"\",\"\"],\n",
        "          [\"\",\"X\",\"\"],\n",
        "          [\"\",\"\",\"X\"],\n",
        "          [\"\",\"X\",\"\"]]\n",
        "print(matrizstr)\n",
        "\n",
        "matrizint =  [[0,\"\",0],\n",
        "          [0,0,1],\n",
        "          [0,1,0],\n",
        "          [1,0,0],\n",
        "          [0,1,0],\n",
        "          [0,0,1],\n",
        "          [0,1,0]]\n",
        "print(matrizint)\n",
        "matrizint[0][1]=0\n",
        "matrizint[0][0]=1\n",
        "print(matrizint)"
      ],
      "execution_count": null,
      "outputs": [
        {
          "output_type": "stream",
          "text": [
            "[['', 'X', ''], ['', '', 'X'], ['', 'X', ''], ['X', '', ''], ['', 'X', ''], ['', '', 'X'], ['', 'X', '']]\n",
            "[[0, '', 0], [0, 0, 1], [0, 1, 0], [1, 0, 0], [0, 1, 0], [0, 0, 1], [0, 1, 0]]\n",
            "[[1, 0, 0], [0, 0, 1], [0, 1, 0], [1, 0, 0], [0, 1, 0], [0, 0, 1], [0, 1, 0]]\n"
          ],
          "name": "stdout"
        }
      ]
    },
    {
      "cell_type": "code",
      "metadata": {
        "id": "aXRSW4WJpfLQ",
        "outputId": "c4186909-c2bf-4acf-a994-9ca4ca622df6",
        "colab": {
          "base_uri": "https://localhost:8080/",
          "height": 52
        }
      },
      "source": [
        "vetor1 = [1, 2, 3]\n",
        "vetor2 = [4, 5, 6]\n",
        "vetor3 = [7, 8, 9]\n",
        "vetor2.append(vetor3)\n",
        "vetor1.append(vetor2)\n",
        "print(vetor1)\n",
        "print(vetor1[3])"
      ],
      "execution_count": null,
      "outputs": [
        {
          "output_type": "stream",
          "text": [
            "[1, 2, 3, [4, 5, 6, [7, 8, 9]]]\n",
            "[4, 5, 6, [7, 8, 9]]\n"
          ],
          "name": "stdout"
        }
      ]
    },
    {
      "cell_type": "markdown",
      "metadata": {
        "id": "EfWOM6_DshAD"
      },
      "source": [
        "### Tuple\n",
        "Tuple is a sequence of references to objects. These objects can be of different data types.\n",
        "\n"
      ]
    },
    {
      "cell_type": "code",
      "metadata": {
        "id": "aipe_4H8ti_x",
        "outputId": "d428dc7c-ff26-465f-9f0e-5873a74eccd8",
        "colab": {
          "base_uri": "https://localhost:8080/"
        },
        "collapsed": true
      },
      "source": [
        "#@title\n",
        "course = (\"Deep Learning\", 50, 60,30,0)\n",
        "print(course)\n",
        "\n",
        "result = (\"Success\",\"Fail Grade\",\"Fail Frequency\")\n",
        "print(result)\n",
        "\n",
        "for r in result:\n",
        "  print(r)"
      ],
      "execution_count": null,
      "outputs": [
        {
          "output_type": "stream",
          "name": "stdout",
          "text": [
            "('Deep Learning', 50, 60, 30, 0)\n",
            "('Success', 'Fail Grade', 'Fail Frequency')\n",
            "Success\n",
            "Fail Grade\n",
            "Fail Frequency\n"
          ]
        }
      ]
    },
    {
      "cell_type": "markdown",
      "source": [
        "### Sets\n",
        "A set is an unordered collection with no duplicate elements."
      ],
      "metadata": {
        "id": "hl2sA6BB3wwE"
      }
    },
    {
      "cell_type": "code",
      "source": [
        "basket = {'apple', 'orange', 'apple', 'pear', 'orange', 'banana'}\n",
        "print(basket)                      # show that duplicates have been removed\n",
        "print('orange' in basket)                 # fast membership testing\n",
        "print('onion' in basket)"
      ],
      "metadata": {
        "colab": {
          "base_uri": "https://localhost:8080/"
        },
        "id": "tpKQSg5g3xIY",
        "outputId": "849568d1-ea41-4e8e-b2bf-b3ba44d23b9b"
      },
      "execution_count": 3,
      "outputs": [
        {
          "output_type": "stream",
          "name": "stdout",
          "text": [
            "{'apple', 'orange', 'banana', 'pear'}\n",
            "True\n",
            "False\n"
          ]
        }
      ]
    },
    {
      "cell_type": "markdown",
      "source": [
        "### Dictionary\n",
        "\n",
        "Dictionaries are also named as “associative memories” or “associative arrays”. Unlike sequences, which are indexed by a range of numbers, dictionaries are indexed by keys, which can be any immutable type; strings and numbers can always be keys."
      ],
      "metadata": {
        "id": "gHANQbtOK8KT"
      }
    },
    {
      "cell_type": "code",
      "source": [
        "extensions = {'sandro': 3257, 'leonardo': 3236}\n",
        "extensions['biblioteca'] = 3001\n",
        "print(extensions)\n",
        "print(extensions['sandro'])\n",
        "del extensions['biblioteca']\n",
        "extensions['nude'] = 3055\n",
        "print(\"Extensions: \", extensions)\n",
        "print(\"Extension keys: \", list(extensions))\n",
        "print(\"Extensions sorted: \", sorted(extensions))\n",
        "print('nude' in extensions)\n",
        "print('nude' not in extensions)"
      ],
      "metadata": {
        "colab": {
          "base_uri": "https://localhost:8080/"
        },
        "id": "ok8pDaYbK9zP",
        "outputId": "f6817657-b899-4692-f721-3c6028f3db77"
      },
      "execution_count": null,
      "outputs": [
        {
          "output_type": "stream",
          "name": "stdout",
          "text": [
            "{'sandro': 3257, 'leonardo': 3236, 'biblioteca': 3001}\n",
            "3257\n",
            "Extensions:  {'sandro': 3257, 'leonardo': 3236, 'nude': 3055}\n",
            "Extension keys:  ['sandro', 'leonardo', 'nude']\n",
            "Extensions sorted:  ['leonardo', 'nude', 'sandro']\n",
            "True\n",
            "False\n"
          ]
        }
      ]
    },
    {
      "cell_type": "code",
      "source": [
        "print(dict([('data center', 3028), ('coordenacao academica', 3022), ('coordenacao administrativa', 3024)]))"
      ],
      "metadata": {
        "colab": {
          "base_uri": "https://localhost:8080/"
        },
        "id": "EbXOL0GfSkHB",
        "outputId": "85a7a5a7-815e-468b-8509-8e8142abf262"
      },
      "execution_count": 4,
      "outputs": [
        {
          "output_type": "stream",
          "name": "stdout",
          "text": [
            "{'data center': 3028, 'coordenacao academica': 3022, 'coordenacao administrativa': 3024}\n"
          ]
        }
      ]
    }
  ]
}