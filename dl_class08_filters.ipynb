{
  "nbformat": 4,
  "nbformat_minor": 0,
  "metadata": {
    "colab": {
      "provenance": []
    },
    "kernelspec": {
      "name": "python3",
      "display_name": "Python 3"
    },
    "language_info": {
      "name": "python"
    }
  },
  "cells": [
    {
      "cell_type": "markdown",
      "source": [
        "# Course: Deep Learning\n",
        "## Author: Sandro Camargo sandrocamargo@unipampa.edu.br\n",
        "\n",
        "Basic about Filters\n",
        "\n",
        "To open this code in your Google Colab environment, [click here](https://colab.research.google.com/github/Sandrocamargo/deep-learning/blob/master/dl_class09_filters.ipynb).\n",
        "\n",
        "Loading libraries"
      ],
      "metadata": {
        "id": "5SegFunZ1bgj"
      }
    },
    {
      "cell_type": "code",
      "source": [
        "# Loading packages\n",
        "import cv2 # OpenCV Library - Image Manipulation\n",
        "import urllib # Load image from a website\n",
        "import numpy as np\n",
        "from google.colab.patches import cv2_imshow\n",
        "import matplotlib.pyplot as plt"
      ],
      "metadata": {
        "id": "PmtQ6iF6rWfa"
      },
      "execution_count": null,
      "outputs": []
    },
    {
      "cell_type": "code",
      "source": [
        "# Loading image\n",
        "req = urllib.request.urlopen('https://cursos.unipampa.edu.br/cursos/ppgcap/wp-content/themes/cursos_unipampa/images/logo_unipampa.png')\n",
        "arr = np.asarray(bytearray(req.read()), dtype=np.uint8)\n",
        "img = cv2.imdecode(arr, -1) # 'Load it as it is\n",
        "\n",
        "cv2_imshow(img)"
      ],
      "metadata": {
        "id": "MiPwQkAis_qt"
      },
      "execution_count": null,
      "outputs": []
    },
    {
      "cell_type": "code",
      "source": [
        "# Horizontal Edges Detection\n",
        "MyKernel = np.array([[1,1,1],[0,0,0],[-1,-1,-1]]) # Defining Filter\n",
        "MyKernel_Effect_Img = cv2.filter2D(src=img, kernel=MyKernel, ddepth=-1) # Applying filter\n",
        "plt.figure()\n",
        "plt.imshow(MyKernel_Effect_Img,cmap=\"gray\")\n",
        "plt.axis(\"off\")\n",
        "plt.show()"
      ],
      "metadata": {
        "id": "XtaYfX1xxvlY"
      },
      "execution_count": null,
      "outputs": []
    },
    {
      "cell_type": "code",
      "source": [
        "# Vertical Edges Detection\n",
        "MyKernel = np.array([[1,0,-1],[1,0,-1],[1,0,-1]])\n",
        "MyKernel_Effect_Img = cv2.filter2D(src=img, kernel=MyKernel, ddepth=-1)\n",
        "plt.figure()\n",
        "plt.imshow(MyKernel_Effect_Img,cmap=\"gray\")\n",
        "plt.axis(\"off\")\n",
        "plt.show()"
      ],
      "metadata": {
        "id": "FSSlm44izPdu"
      },
      "execution_count": null,
      "outputs": []
    },
    {
      "cell_type": "code",
      "source": [
        "# Luminosity Changes Detection\n",
        "MyKernel = np.array([[-1,-1,-1],[-1,8,-1],[-1,-1,-1]])\n",
        "MyKernel_Effect_Img = cv2.filter2D(src=img, kernel=MyKernel, ddepth=-1)\n",
        "plt.figure()\n",
        "plt.imshow(MyKernel_Effect_Img,cmap=\"gray\")\n",
        "plt.axis(\"off\")\n",
        "plt.show()"
      ],
      "metadata": {
        "id": "krf-SdiUzX8c"
      },
      "execution_count": null,
      "outputs": []
    },
    {
      "cell_type": "code",
      "source": [
        "# Blur Edges\n",
        "MyKernel = np.array([[1/9,1/9,1/9],[1/9,1/9,1/9],[1/9,1/9,1/9]])\n",
        "MyKernel_Effect_Img = cv2.filter2D(src=img, kernel=MyKernel, ddepth=-1)\n",
        "plt.figure()\n",
        "plt.imshow(MyKernel_Effect_Img,cmap=\"gray\")\n",
        "plt.axis(\"off\")\n",
        "plt.show()"
      ],
      "metadata": {
        "id": "VK-o2vfUzjTq"
      },
      "execution_count": null,
      "outputs": []
    },
    {
      "cell_type": "code",
      "source": [
        "# Emboss Filter\n",
        "Emboss_Kernel = np.array([[0,-1,-1],[1,0,-1],[1,1,0]])\n",
        "Emboss_Effect_Img = cv2.filter2D(src=img, kernel=Emboss_Kernel, ddepth=-1)\n",
        "plt.figure()\n",
        "plt.imshow(Emboss_Effect_Img,cmap=\"gray\")\n",
        "plt.axis(\"off\")\n",
        "plt.show()"
      ],
      "metadata": {
        "id": "TF7HDNZupWMm"
      },
      "execution_count": null,
      "outputs": []
    },
    {
      "cell_type": "code",
      "source": [
        "# Emboss Filter\n",
        "Emboss_Kernel = np.array([[-1,0,1],[-1,0,1],[-1,0,1]])\n",
        "Emboss_Effect_Img = cv2.filter2D(src=img, kernel=Emboss_Kernel, ddepth=-1)\n",
        "plt.figure()\n",
        "plt.imshow(Emboss_Effect_Img,cmap=\"gray\")\n",
        "plt.axis(\"off\")\n",
        "plt.show()"
      ],
      "metadata": {
        "id": "51P_Xi8uxUwN"
      },
      "execution_count": null,
      "outputs": []
    },
    {
      "cell_type": "code",
      "source": [
        "Sharpen_Kernel = np.array([[-1, -1, -1], [-1, 9, -1], [-1, -1, -1]])\n",
        "Sharpen_Effect_Img = cv2.filter2D(src=img, kernel=Sharpen_Kernel, ddepth=-1)\n",
        "plt.figure()\n",
        "plt.imshow(Sharpen_Effect_Img,cmap=\"gray\")\n",
        "plt.axis(\"off\")\n",
        "plt.show()"
      ],
      "metadata": {
        "id": "DO6OsIDjtZmj"
      },
      "execution_count": null,
      "outputs": []
    },
    {
      "cell_type": "code",
      "source": [
        "Sepia_Kernel = np.array([[0.272, 0.534, 0.131],[0.349, 0.686, 0.168],[0.393, 0.769, 0.189]])\n",
        "Sepia_Effect_Img = cv2.filter2D(src=img, kernel=Sepia_Kernel, ddepth=-1)\n",
        "plt.figure(figsize=(8,8))\n",
        "plt.imshow(Sepia_Effect_Img,cmap=\"gray\")\n",
        "plt.axis(\"off\")\n",
        "plt.show()"
      ],
      "metadata": {
        "id": "ARmf3jqbtjDu"
      },
      "execution_count": null,
      "outputs": []
    },
    {
      "cell_type": "code",
      "source": [
        "Blur_Effect_Img = cv2.GaussianBlur(img, (15, 15), 0)\n",
        "plt.figure(figsize=(8,8))\n",
        "plt.imshow(Blur_Effect_Img,cmap=\"gray\")\n",
        "plt.axis(\"off\")\n",
        "plt.show()"
      ],
      "metadata": {
        "id": "NaF2NyLAtokg"
      },
      "execution_count": null,
      "outputs": []
    }
  ]
}