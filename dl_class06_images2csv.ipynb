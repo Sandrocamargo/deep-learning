{
  "cells": [
    {
      "cell_type": "markdown",
      "source": [
        "Open many images in a single folder and generate a CSV file"
      ],
      "metadata": {
        "id": "gGHksWT3MIYF"
      }
    },
    {
      "cell_type": "code",
      "source": [
        "import matplotlib.pyplot as plt   # plotting library\n",
        "from PIL import Image             # PIL:Python Imaging Library\n",
        "import os"
      ],
      "metadata": {
        "id": "2ZTsXPUb2Uhv"
      },
      "execution_count": null,
      "outputs": []
    },
    {
      "cell_type": "code",
      "source": [
        "# Mount my google drive\n",
        "from google.colab import drive\n",
        "drive.mount('/content/drive',force_remount=True)"
      ],
      "metadata": {
        "id": "z1pYtwqh2nmo"
      },
      "execution_count": null,
      "outputs": []
    },
    {
      "cell_type": "code",
      "source": [
        "# Opening a folder in my google drive\n",
        "folder ='/content/drive/MyDrive/parte0/'\n",
        "#load images from folder\n",
        "filelist=os.listdir(folder)\n",
        "im_data = list()\n",
        "print(filelist)"
      ],
      "metadata": {
        "id": "NZi1cZwHWlL2"
      },
      "execution_count": null,
      "outputs": []
    },
    {
      "cell_type": "code",
      "source": [
        "cont=0\n",
        "output = open('csvfile.csv','w')\n",
        "\n",
        "for file in filelist:\n",
        "  rgb_im = Image.open(folder+file)\n",
        "  im_data = list()\n",
        "  for x in range(rgb_im.size[0]):\n",
        "    for y in range(rgb_im.size[1]):\n",
        "      r, g, b = rgb_im.getpixel((x, y))\n",
        "      im_data.append(r)\n",
        "      im_data.append(g)\n",
        "      im_data.append(b)\n",
        "      output.write(str(r)+','+str(g)+','+str(b)+',')\n",
        "  output.write('\\n')\n",
        "  im_data=list()\n",
        "  cont=cont+1\n",
        "print(str(cont)+ ' images were processed.')\n",
        "\n",
        "output.close()"
      ],
      "metadata": {
        "id": "qWrM02HvOdlX"
      },
      "execution_count": null,
      "outputs": []
    }
  ],
  "metadata": {
    "colab": {
      "provenance": []
    },
    "kernelspec": {
      "display_name": "Python 3",
      "name": "python3"
    }
  },
  "nbformat": 4,
  "nbformat_minor": 0
}