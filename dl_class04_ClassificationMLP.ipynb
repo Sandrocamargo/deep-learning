{
  "cells": [
    {
      "cell_type": "markdown",
      "metadata": {
        "id": "9feqnHODNlEV"
      },
      "source": [
        "# Course: Deep Learning\n",
        "# Author: Sandro Camargo <sandrocamargo@unipampa.edu.br>\n",
        "# Classification with Multi Layer Perceptron Example Urban Land Cover\n",
        "# Dataset: https://archive.ics.uci.edu/ml/datasets/Urban+Land+Cover"
      ]
    },
    {
      "cell_type": "markdown",
      "metadata": {
        "id": "NVnjeeftXQl6"
      },
      "source": [
        "A Python library is a collection of related functions. A library contains bundles of encapsuated code which can be used repeatedly in different programs."
      ]
    },
    {
      "cell_type": "code",
      "execution_count": 1,
      "metadata": {
        "id": "lt7-B5mnWZRb"
      },
      "outputs": [],
      "source": [
        "# Import Libraries\n",
        "import keras # Neural Network Library\n",
        "from keras import layers # Layers to a neural network\n",
        "from keras import optimizers # optimizers\n",
        "import pandas as pd # Data Manipulation library\n",
        "import numpy as np # Fast Numeric Computing library\n",
        "import tensorflow as tf # Optimizers\n",
        "import matplotlib.pyplot as plt # Plot library\n",
        "from sklearn.preprocessing import MinMaxScaler, label_binarize\n",
        "from sklearn.metrics import confusion_matrix, accuracy_score, classification_report, ConfusionMatrixDisplay"
      ]
    },
    {
      "cell_type": "code",
      "source": [
        "import urllib.request\n",
        "urllib.request.urlretrieve(\"https://archive.ics.uci.edu/ml/machine-learning-databases/00295/Urban%20land%20cover.zip\", \"urbanlandcover.zip\")"
      ],
      "metadata": {
        "colab": {
          "base_uri": "https://localhost:8080/"
        },
        "id": "-GBAxPnYnm_2",
        "outputId": "cb8ff5a0-d714-4b32-8590-a179c4357d96"
      },
      "execution_count": 2,
      "outputs": [
        {
          "output_type": "execute_result",
          "data": {
            "text/plain": [
              "('urbanlandcover.zip', <http.client.HTTPMessage at 0x7a7593a1c790>)"
            ]
          },
          "metadata": {},
          "execution_count": 2
        }
      ]
    },
    {
      "cell_type": "code",
      "source": [
        "import zipfile\n",
        "with zipfile.ZipFile(\"urbanlandcover.zip\", 'r') as zip_ref:\n",
        "    zip_ref.extractall(\"/content/\")"
      ],
      "metadata": {
        "id": "GB1X3Jtcn428"
      },
      "execution_count": 3,
      "outputs": []
    },
    {
      "cell_type": "code",
      "execution_count": 4,
      "metadata": {
        "colab": {
          "base_uri": "https://localhost:8080/"
        },
        "id": "pBNiKzKsWtW9",
        "outputId": "ee1d8cdc-e783-4e35-c9be-c61046c0fe4c"
      },
      "outputs": [
        {
          "output_type": "stream",
          "name": "stdout",
          "text": [
            "<class 'pandas.core.frame.DataFrame'>\n",
            "RangeIndex: 168 entries, 0 to 167\n",
            "Columns: 148 entries, class to GLCM3_140\n",
            "dtypes: float64(133), int64(14), object(1)\n",
            "memory usage: 194.4+ KB\n"
          ]
        }
      ],
      "source": [
        "# Loading training dataset\n",
        "data = pd.read_csv('training.csv', delimiter=\",\", header=0)\n",
        "# About the parameters\n",
        "# Header=1: column names (day, month, year, ...) are in the line 1 of this CSV file.\n",
        "# skiprows=[124,125,126,170]: this lines, which not contains valid data, are not imported. If this parameter is missing, all lines are imported.\n",
        "# usecols=list(range(0,13)): The last column, which is named Classes, is not imported. If this parameter is missing, all columns are imported.\n",
        "\n",
        "# inspecting columns and data types from \"data\" dataframe\n",
        "data.info()"
      ]
    },
    {
      "cell_type": "code",
      "source": [
        "datatest = pd.read_csv('testing.csv', delimiter=\",\", header=0)\n",
        "datatest.info()"
      ],
      "metadata": {
        "colab": {
          "base_uri": "https://localhost:8080/"
        },
        "id": "cexznDgEqlWB",
        "outputId": "24306f0c-29f7-4f36-e0b4-84710b942c46"
      },
      "execution_count": 5,
      "outputs": [
        {
          "output_type": "stream",
          "name": "stdout",
          "text": [
            "<class 'pandas.core.frame.DataFrame'>\n",
            "RangeIndex: 507 entries, 0 to 506\n",
            "Columns: 148 entries, class to GLCM3_140\n",
            "dtypes: float64(133), int64(14), object(1)\n",
            "memory usage: 586.3+ KB\n"
          ]
        }
      ]
    },
    {
      "cell_type": "code",
      "source": [
        "classes = data.iloc[:,0]\n",
        "data.drop(data.columns[[0]], axis=1, inplace=True)\n",
        "scaler = MinMaxScaler()\n",
        "print(scaler.fit(data))\n",
        "MinMaxScaler()\n",
        "data = pd.DataFrame(scaler.transform(data))"
      ],
      "metadata": {
        "colab": {
          "base_uri": "https://localhost:8080/"
        },
        "id": "I2gEa1Jtq7Jh",
        "outputId": "824f66bc-7957-46dc-92ca-870d398aea5d"
      },
      "execution_count": 6,
      "outputs": [
        {
          "output_type": "stream",
          "name": "stdout",
          "text": [
            "MinMaxScaler()\n"
          ]
        }
      ]
    },
    {
      "cell_type": "code",
      "source": [
        "classestest = datatest.iloc[:,0]\n",
        "datatest.drop(datatest.columns[[0]], axis=1, inplace=True)\n",
        "scalertest = MinMaxScaler()\n",
        "print(scalertest.fit(datatest))\n",
        "MinMaxScaler()\n",
        "datatest = pd.DataFrame(scaler.transform(datatest))"
      ],
      "metadata": {
        "colab": {
          "base_uri": "https://localhost:8080/"
        },
        "id": "B8w9bBdnq_PK",
        "outputId": "4fd08ec6-6bb1-4233-c7fb-84a1cfbd3702"
      },
      "execution_count": 7,
      "outputs": [
        {
          "output_type": "stream",
          "name": "stdout",
          "text": [
            "MinMaxScaler()\n"
          ]
        }
      ]
    },
    {
      "cell_type": "markdown",
      "metadata": {
        "id": "tmq8UTaXdFtF"
      },
      "source": [
        "The dataset must be randomly splitted in two parts: training set and testing set. The main approaches to split are holdout and n-fold cross validation.\n",
        "*   Training set is used for building (training) the model.\n",
        "*   Testing set is used for testing the generalization ability of the model built.\n",
        "\n",
        "Moreover, inputs($x$) and outputs($y$) must be splitted in each set.\n",
        "\n",
        "\n"
      ]
    },
    {
      "cell_type": "code",
      "execution_count": 8,
      "metadata": {
        "colab": {
          "base_uri": "https://localhost:8080/"
        },
        "id": "-vjSR2UWY3gi",
        "outputId": "9af36d7d-81fd-46a1-a543-7f1f53af7160"
      },
      "outputs": [
        {
          "output_type": "stream",
          "name": "stdout",
          "text": [
            "The training dataset (inputs) dimensions are:  (168, 147)\n",
            "The training dataset (outputs) dimensions are:  (168, 9)\n",
            "The testing dataset (inputs) dimensions are:  (507, 147)\n",
            "The testing dataset (outputs) dimensions are:  (507, 9)\n"
          ]
        }
      ],
      "source": [
        "# Creating the training dataset\n",
        "train_x = data\n",
        "train_y = label_binarize(classes, classes=['tree ', 'grass ', 'soil ', 'concrete ', 'asphalt ', 'building ', 'car ', 'pool ', 'shadow '])\n",
        "\n",
        "# Creating the testing dataset\n",
        "test_x = datatest\n",
        "test_y = label_binarize(classestest, classes=['tree ', 'grass ', 'soil ', 'concrete ', 'asphalt ', 'building ', 'car ', 'pool ', 'shadow '])\n",
        "\n",
        "# Verifying dataset dimensions\n",
        "print('The training dataset (inputs) dimensions are: ', train_x.shape)\n",
        "print('The training dataset (outputs) dimensions are: ', train_y.shape)\n",
        "print('The testing dataset (inputs) dimensions are: ', test_x.shape)\n",
        "print('The testing dataset (outputs) dimensions are: ', test_y.shape)"
      ]
    },
    {
      "cell_type": "markdown",
      "metadata": {
        "id": "_8NAHkCSh5sr"
      },
      "source": [
        "After creating the datasets, the next step is defining the architecture of our model.\n",
        "\n",
        "It must be defined:\n",
        "\n",
        "\n",
        "*   Architecture: in terms of neurons and layers\n",
        "*   Optimizer: is the algorithm or method used to change the weights in order to minimize the loss function.\n",
        "\n",
        "The last step is compiling the model. In this step the loss function, the optimizer and the evaluation metrics must be defined."
      ]
    },
    {
      "cell_type": "code",
      "execution_count": 9,
      "metadata": {
        "id": "zmnZB0CRWVPI"
      },
      "outputs": [],
      "source": [
        "# Function to define model architecture\n",
        "def build_model():\n",
        "  # Defining the architecture\n",
        "  # Sequential = Feedforward Neural Network\n",
        "  # 1 single neuron\n",
        "  # input_shape is the amount of columns from training set\n",
        "  model = keras.Sequential([\n",
        "        layers.Dense(18, input_shape = [len(train_x.columns)], activation=\"relu\"),\n",
        "        layers.Dense(12, activation=\"relu\"),\n",
        "        layers.Dense(9, activation=\"softmax\")\n",
        "  ])\n",
        "\n",
        "  # Defining the optimizer\n",
        "  optimizer = tf.keras.optimizers.RMSprop(\n",
        "      learning_rate = 0.001)\n",
        "\n",
        "  # Mean Squared Error (MSE) is the default loss function in regression models\n",
        "  model.compile(loss = 'categorical_crossentropy',\n",
        "      optimizer = optimizer,\n",
        "      metrics = ['categorical_crossentropy','accuracy'])\n",
        "\n",
        "  return model"
      ]
    },
    {
      "cell_type": "markdown",
      "metadata": {
        "id": "8ZMgKCn8jouX"
      },
      "source": [
        "Just for curiosity, you should observe how many parameters ($\\theta$) your model has.\n",
        "At this point, your model is built."
      ]
    },
    {
      "cell_type": "code",
      "execution_count": 10,
      "metadata": {
        "colab": {
          "base_uri": "https://localhost:8080/"
        },
        "id": "a0C1tp1naRoS",
        "outputId": "e9325086-179d-4f67-cec2-259fa539116d"
      },
      "outputs": [
        {
          "output_type": "stream",
          "name": "stdout",
          "text": [
            "Model: \"sequential\"\n",
            "_________________________________________________________________\n",
            " Layer (type)                Output Shape              Param #   \n",
            "=================================================================\n",
            " dense (Dense)               (None, 18)                2664      \n",
            "                                                                 \n",
            " dense_1 (Dense)             (None, 12)                228       \n",
            "                                                                 \n",
            " dense_2 (Dense)             (None, 9)                 117       \n",
            "                                                                 \n",
            "=================================================================\n",
            "Total params: 3009 (11.75 KB)\n",
            "Trainable params: 3009 (11.75 KB)\n",
            "Non-trainable params: 0 (0.00 Byte)\n",
            "_________________________________________________________________\n"
          ]
        }
      ],
      "source": [
        "model = build_model()\n",
        "model.summary()"
      ]
    },
    {
      "cell_type": "markdown",
      "metadata": {
        "id": "SoQyGcmFWOGS"
      },
      "source": [
        "After creating the model, it must be trained (fitted).\n",
        "Training is done using training set and the amount of epochs must be defined."
      ]
    },
    {
      "cell_type": "code",
      "execution_count": 11,
      "metadata": {
        "colab": {
          "base_uri": "https://localhost:8080/"
        },
        "id": "R-Y4iU2naonL",
        "outputId": "cadff29d-fa25-4404-de0f-0dc6a518489b"
      },
      "outputs": [
        {
          "output_type": "stream",
          "name": "stdout",
          "text": [
            "Epoch 1/250\n",
            "6/6 [==============================] - 2s 9ms/step - loss: 2.2203 - categorical_crossentropy: 2.2203 - accuracy: 0.1310\n",
            "Epoch 2/250\n",
            "6/6 [==============================] - 0s 7ms/step - loss: 2.1552 - categorical_crossentropy: 2.1552 - accuracy: 0.2262\n",
            "Epoch 3/250\n",
            "6/6 [==============================] - 0s 5ms/step - loss: 2.1304 - categorical_crossentropy: 2.1304 - accuracy: 0.2143\n",
            "Epoch 4/250\n",
            "6/6 [==============================] - 0s 5ms/step - loss: 2.1010 - categorical_crossentropy: 2.1010 - accuracy: 0.2381\n",
            "Epoch 5/250\n",
            "6/6 [==============================] - 0s 5ms/step - loss: 2.0787 - categorical_crossentropy: 2.0787 - accuracy: 0.2440\n",
            "Epoch 6/250\n",
            "6/6 [==============================] - 0s 6ms/step - loss: 2.0639 - categorical_crossentropy: 2.0639 - accuracy: 0.2262\n",
            "Epoch 7/250\n",
            "6/6 [==============================] - 0s 5ms/step - loss: 2.0355 - categorical_crossentropy: 2.0355 - accuracy: 0.2857\n",
            "Epoch 8/250\n",
            "6/6 [==============================] - 0s 5ms/step - loss: 2.0061 - categorical_crossentropy: 2.0061 - accuracy: 0.3214\n",
            "Epoch 9/250\n",
            "6/6 [==============================] - 0s 6ms/step - loss: 1.9776 - categorical_crossentropy: 1.9776 - accuracy: 0.3036\n",
            "Epoch 10/250\n",
            "6/6 [==============================] - 0s 6ms/step - loss: 1.9509 - categorical_crossentropy: 1.9509 - accuracy: 0.3274\n",
            "Epoch 11/250\n",
            "6/6 [==============================] - 0s 7ms/step - loss: 1.9142 - categorical_crossentropy: 1.9142 - accuracy: 0.3452\n",
            "Epoch 12/250\n",
            "6/6 [==============================] - 0s 5ms/step - loss: 1.8837 - categorical_crossentropy: 1.8837 - accuracy: 0.3214\n",
            "Epoch 13/250\n",
            "6/6 [==============================] - 0s 6ms/step - loss: 1.8518 - categorical_crossentropy: 1.8518 - accuracy: 0.3274\n",
            "Epoch 14/250\n",
            "6/6 [==============================] - 0s 10ms/step - loss: 1.8238 - categorical_crossentropy: 1.8238 - accuracy: 0.3750\n",
            "Epoch 15/250\n",
            "6/6 [==============================] - 0s 6ms/step - loss: 1.7869 - categorical_crossentropy: 1.7869 - accuracy: 0.3750\n",
            "Epoch 16/250\n",
            "6/6 [==============================] - 0s 6ms/step - loss: 1.7525 - categorical_crossentropy: 1.7525 - accuracy: 0.3631\n",
            "Epoch 17/250\n",
            "6/6 [==============================] - 0s 6ms/step - loss: 1.7191 - categorical_crossentropy: 1.7191 - accuracy: 0.3750\n",
            "Epoch 18/250\n",
            "6/6 [==============================] - 0s 5ms/step - loss: 1.6835 - categorical_crossentropy: 1.6835 - accuracy: 0.4226\n",
            "Epoch 19/250\n",
            "6/6 [==============================] - 0s 8ms/step - loss: 1.6502 - categorical_crossentropy: 1.6502 - accuracy: 0.4107\n",
            "Epoch 20/250\n",
            "6/6 [==============================] - 0s 5ms/step - loss: 1.6217 - categorical_crossentropy: 1.6217 - accuracy: 0.4345\n",
            "Epoch 21/250\n",
            "6/6 [==============================] - 0s 11ms/step - loss: 1.5847 - categorical_crossentropy: 1.5847 - accuracy: 0.4524\n",
            "Epoch 22/250\n",
            "6/6 [==============================] - 0s 15ms/step - loss: 1.5623 - categorical_crossentropy: 1.5623 - accuracy: 0.4583\n",
            "Epoch 23/250\n",
            "6/6 [==============================] - 0s 7ms/step - loss: 1.5218 - categorical_crossentropy: 1.5218 - accuracy: 0.4762\n",
            "Epoch 24/250\n",
            "6/6 [==============================] - 0s 5ms/step - loss: 1.4922 - categorical_crossentropy: 1.4922 - accuracy: 0.4821\n",
            "Epoch 25/250\n",
            "6/6 [==============================] - 0s 5ms/step - loss: 1.4634 - categorical_crossentropy: 1.4634 - accuracy: 0.5179\n",
            "Epoch 26/250\n",
            "6/6 [==============================] - 0s 7ms/step - loss: 1.4316 - categorical_crossentropy: 1.4316 - accuracy: 0.5119\n",
            "Epoch 27/250\n",
            "6/6 [==============================] - 0s 5ms/step - loss: 1.4044 - categorical_crossentropy: 1.4044 - accuracy: 0.5238\n",
            "Epoch 28/250\n",
            "6/6 [==============================] - 0s 5ms/step - loss: 1.3746 - categorical_crossentropy: 1.3746 - accuracy: 0.5536\n",
            "Epoch 29/250\n",
            "6/6 [==============================] - 0s 5ms/step - loss: 1.3408 - categorical_crossentropy: 1.3408 - accuracy: 0.5298\n",
            "Epoch 30/250\n",
            "6/6 [==============================] - 0s 5ms/step - loss: 1.3103 - categorical_crossentropy: 1.3103 - accuracy: 0.5595\n",
            "Epoch 31/250\n",
            "6/6 [==============================] - 0s 6ms/step - loss: 1.2832 - categorical_crossentropy: 1.2832 - accuracy: 0.5893\n",
            "Epoch 32/250\n",
            "6/6 [==============================] - 0s 7ms/step - loss: 1.2562 - categorical_crossentropy: 1.2562 - accuracy: 0.6250\n",
            "Epoch 33/250\n",
            "6/6 [==============================] - 0s 10ms/step - loss: 1.2276 - categorical_crossentropy: 1.2276 - accuracy: 0.6012\n",
            "Epoch 34/250\n",
            "6/6 [==============================] - 0s 9ms/step - loss: 1.1976 - categorical_crossentropy: 1.1976 - accuracy: 0.6190\n",
            "Epoch 35/250\n",
            "6/6 [==============================] - 0s 7ms/step - loss: 1.1664 - categorical_crossentropy: 1.1664 - accuracy: 0.6310\n",
            "Epoch 36/250\n",
            "6/6 [==============================] - 0s 6ms/step - loss: 1.1503 - categorical_crossentropy: 1.1503 - accuracy: 0.6488\n",
            "Epoch 37/250\n",
            "6/6 [==============================] - 0s 7ms/step - loss: 1.1200 - categorical_crossentropy: 1.1200 - accuracy: 0.6726\n",
            "Epoch 38/250\n",
            "6/6 [==============================] - 0s 6ms/step - loss: 1.0961 - categorical_crossentropy: 1.0961 - accuracy: 0.6845\n",
            "Epoch 39/250\n",
            "6/6 [==============================] - 0s 7ms/step - loss: 1.0753 - categorical_crossentropy: 1.0753 - accuracy: 0.6905\n",
            "Epoch 40/250\n",
            "6/6 [==============================] - 0s 5ms/step - loss: 1.0593 - categorical_crossentropy: 1.0593 - accuracy: 0.6726\n",
            "Epoch 41/250\n",
            "6/6 [==============================] - 0s 6ms/step - loss: 1.0399 - categorical_crossentropy: 1.0399 - accuracy: 0.6429\n",
            "Epoch 42/250\n",
            "6/6 [==============================] - 0s 19ms/step - loss: 1.0163 - categorical_crossentropy: 1.0163 - accuracy: 0.6845\n",
            "Epoch 43/250\n",
            "6/6 [==============================] - 0s 8ms/step - loss: 1.0007 - categorical_crossentropy: 1.0007 - accuracy: 0.6786\n",
            "Epoch 44/250\n",
            "6/6 [==============================] - 0s 9ms/step - loss: 0.9807 - categorical_crossentropy: 0.9807 - accuracy: 0.7083\n",
            "Epoch 45/250\n",
            "6/6 [==============================] - 0s 5ms/step - loss: 0.9632 - categorical_crossentropy: 0.9632 - accuracy: 0.6786\n",
            "Epoch 46/250\n",
            "6/6 [==============================] - 0s 10ms/step - loss: 0.9523 - categorical_crossentropy: 0.9523 - accuracy: 0.6786\n",
            "Epoch 47/250\n",
            "6/6 [==============================] - 0s 4ms/step - loss: 0.9381 - categorical_crossentropy: 0.9381 - accuracy: 0.6607\n",
            "Epoch 48/250\n",
            "6/6 [==============================] - 0s 8ms/step - loss: 0.9214 - categorical_crossentropy: 0.9214 - accuracy: 0.6607\n",
            "Epoch 49/250\n",
            "6/6 [==============================] - 0s 9ms/step - loss: 0.8991 - categorical_crossentropy: 0.8991 - accuracy: 0.7143\n",
            "Epoch 50/250\n",
            "6/6 [==============================] - 0s 6ms/step - loss: 0.8898 - categorical_crossentropy: 0.8898 - accuracy: 0.7202\n",
            "Epoch 51/250\n",
            "6/6 [==============================] - 0s 6ms/step - loss: 0.8767 - categorical_crossentropy: 0.8767 - accuracy: 0.7024\n",
            "Epoch 52/250\n",
            "6/6 [==============================] - 0s 24ms/step - loss: 0.8653 - categorical_crossentropy: 0.8653 - accuracy: 0.7024\n",
            "Epoch 53/250\n",
            "6/6 [==============================] - 0s 9ms/step - loss: 0.8466 - categorical_crossentropy: 0.8466 - accuracy: 0.7381\n",
            "Epoch 54/250\n",
            "6/6 [==============================] - 0s 5ms/step - loss: 0.8351 - categorical_crossentropy: 0.8351 - accuracy: 0.7560\n",
            "Epoch 55/250\n",
            "6/6 [==============================] - 0s 5ms/step - loss: 0.8226 - categorical_crossentropy: 0.8226 - accuracy: 0.7262\n",
            "Epoch 56/250\n",
            "6/6 [==============================] - 0s 5ms/step - loss: 0.8165 - categorical_crossentropy: 0.8165 - accuracy: 0.7619\n",
            "Epoch 57/250\n",
            "6/6 [==============================] - 0s 16ms/step - loss: 0.8055 - categorical_crossentropy: 0.8055 - accuracy: 0.7679\n",
            "Epoch 58/250\n",
            "6/6 [==============================] - 0s 6ms/step - loss: 0.7860 - categorical_crossentropy: 0.7860 - accuracy: 0.7738\n",
            "Epoch 59/250\n",
            "6/6 [==============================] - 0s 6ms/step - loss: 0.7830 - categorical_crossentropy: 0.7830 - accuracy: 0.7798\n",
            "Epoch 60/250\n",
            "6/6 [==============================] - 0s 5ms/step - loss: 0.7809 - categorical_crossentropy: 0.7809 - accuracy: 0.7679\n",
            "Epoch 61/250\n",
            "6/6 [==============================] - 0s 9ms/step - loss: 0.7623 - categorical_crossentropy: 0.7623 - accuracy: 0.7798\n",
            "Epoch 62/250\n",
            "6/6 [==============================] - 0s 8ms/step - loss: 0.7529 - categorical_crossentropy: 0.7529 - accuracy: 0.7262\n",
            "Epoch 63/250\n",
            "6/6 [==============================] - 0s 4ms/step - loss: 0.7385 - categorical_crossentropy: 0.7385 - accuracy: 0.7798\n",
            "Epoch 64/250\n",
            "6/6 [==============================] - 0s 5ms/step - loss: 0.7387 - categorical_crossentropy: 0.7387 - accuracy: 0.7679\n",
            "Epoch 65/250\n",
            "6/6 [==============================] - 0s 7ms/step - loss: 0.7315 - categorical_crossentropy: 0.7315 - accuracy: 0.7738\n",
            "Epoch 66/250\n",
            "6/6 [==============================] - 0s 5ms/step - loss: 0.7192 - categorical_crossentropy: 0.7192 - accuracy: 0.7738\n",
            "Epoch 67/250\n",
            "6/6 [==============================] - 0s 6ms/step - loss: 0.7110 - categorical_crossentropy: 0.7110 - accuracy: 0.8274\n",
            "Epoch 68/250\n",
            "6/6 [==============================] - 0s 10ms/step - loss: 0.7047 - categorical_crossentropy: 0.7047 - accuracy: 0.7798\n",
            "Epoch 69/250\n",
            "6/6 [==============================] - 0s 9ms/step - loss: 0.6958 - categorical_crossentropy: 0.6958 - accuracy: 0.8036\n",
            "Epoch 70/250\n",
            "6/6 [==============================] - 0s 8ms/step - loss: 0.6859 - categorical_crossentropy: 0.6859 - accuracy: 0.7917\n",
            "Epoch 71/250\n",
            "6/6 [==============================] - 0s 7ms/step - loss: 0.6853 - categorical_crossentropy: 0.6853 - accuracy: 0.7619\n",
            "Epoch 72/250\n",
            "6/6 [==============================] - 0s 7ms/step - loss: 0.6773 - categorical_crossentropy: 0.6773 - accuracy: 0.8274\n",
            "Epoch 73/250\n",
            "6/6 [==============================] - 0s 5ms/step - loss: 0.6662 - categorical_crossentropy: 0.6662 - accuracy: 0.7917\n",
            "Epoch 74/250\n",
            "6/6 [==============================] - 0s 6ms/step - loss: 0.6543 - categorical_crossentropy: 0.6543 - accuracy: 0.8036\n",
            "Epoch 75/250\n",
            "6/6 [==============================] - 0s 6ms/step - loss: 0.6498 - categorical_crossentropy: 0.6498 - accuracy: 0.8155\n",
            "Epoch 76/250\n",
            "6/6 [==============================] - 0s 6ms/step - loss: 0.6360 - categorical_crossentropy: 0.6360 - accuracy: 0.8274\n",
            "Epoch 77/250\n",
            "6/6 [==============================] - 0s 7ms/step - loss: 0.6431 - categorical_crossentropy: 0.6431 - accuracy: 0.8393\n",
            "Epoch 78/250\n",
            "6/6 [==============================] - 0s 5ms/step - loss: 0.6365 - categorical_crossentropy: 0.6365 - accuracy: 0.8036\n",
            "Epoch 79/250\n",
            "6/6 [==============================] - 0s 6ms/step - loss: 0.6244 - categorical_crossentropy: 0.6244 - accuracy: 0.8452\n",
            "Epoch 80/250\n",
            "6/6 [==============================] - 0s 8ms/step - loss: 0.6144 - categorical_crossentropy: 0.6144 - accuracy: 0.8452\n",
            "Epoch 81/250\n",
            "6/6 [==============================] - 0s 6ms/step - loss: 0.6095 - categorical_crossentropy: 0.6095 - accuracy: 0.8333\n",
            "Epoch 82/250\n",
            "6/6 [==============================] - 0s 12ms/step - loss: 0.6013 - categorical_crossentropy: 0.6013 - accuracy: 0.8333\n",
            "Epoch 83/250\n",
            "6/6 [==============================] - 0s 5ms/step - loss: 0.5989 - categorical_crossentropy: 0.5989 - accuracy: 0.8452\n",
            "Epoch 84/250\n",
            "6/6 [==============================] - 0s 5ms/step - loss: 0.5931 - categorical_crossentropy: 0.5931 - accuracy: 0.8512\n",
            "Epoch 85/250\n",
            "6/6 [==============================] - 0s 5ms/step - loss: 0.5810 - categorical_crossentropy: 0.5810 - accuracy: 0.8512\n",
            "Epoch 86/250\n",
            "6/6 [==============================] - 0s 5ms/step - loss: 0.5811 - categorical_crossentropy: 0.5811 - accuracy: 0.8571\n",
            "Epoch 87/250\n",
            "6/6 [==============================] - 0s 5ms/step - loss: 0.5794 - categorical_crossentropy: 0.5794 - accuracy: 0.8512\n",
            "Epoch 88/250\n",
            "6/6 [==============================] - 0s 5ms/step - loss: 0.5635 - categorical_crossentropy: 0.5635 - accuracy: 0.8631\n",
            "Epoch 89/250\n",
            "6/6 [==============================] - 0s 9ms/step - loss: 0.5649 - categorical_crossentropy: 0.5649 - accuracy: 0.8333\n",
            "Epoch 90/250\n",
            "6/6 [==============================] - 0s 19ms/step - loss: 0.5536 - categorical_crossentropy: 0.5536 - accuracy: 0.8631\n",
            "Epoch 91/250\n",
            "6/6 [==============================] - 0s 15ms/step - loss: 0.5511 - categorical_crossentropy: 0.5511 - accuracy: 0.8452\n",
            "Epoch 92/250\n",
            "6/6 [==============================] - 0s 5ms/step - loss: 0.5537 - categorical_crossentropy: 0.5537 - accuracy: 0.8631\n",
            "Epoch 93/250\n",
            "6/6 [==============================] - 0s 6ms/step - loss: 0.5453 - categorical_crossentropy: 0.5453 - accuracy: 0.8750\n",
            "Epoch 94/250\n",
            "6/6 [==============================] - 0s 5ms/step - loss: 0.5507 - categorical_crossentropy: 0.5507 - accuracy: 0.8333\n",
            "Epoch 95/250\n",
            "6/6 [==============================] - 0s 8ms/step - loss: 0.5312 - categorical_crossentropy: 0.5312 - accuracy: 0.8810\n",
            "Epoch 96/250\n",
            "6/6 [==============================] - 0s 4ms/step - loss: 0.5284 - categorical_crossentropy: 0.5284 - accuracy: 0.8750\n",
            "Epoch 97/250\n",
            "6/6 [==============================] - 0s 7ms/step - loss: 0.5213 - categorical_crossentropy: 0.5213 - accuracy: 0.8750\n",
            "Epoch 98/250\n",
            "6/6 [==============================] - 0s 6ms/step - loss: 0.5237 - categorical_crossentropy: 0.5237 - accuracy: 0.8750\n",
            "Epoch 99/250\n",
            "6/6 [==============================] - 0s 5ms/step - loss: 0.5134 - categorical_crossentropy: 0.5134 - accuracy: 0.8750\n",
            "Epoch 100/250\n",
            "6/6 [==============================] - 0s 6ms/step - loss: 0.5130 - categorical_crossentropy: 0.5130 - accuracy: 0.8750\n",
            "Epoch 101/250\n",
            "6/6 [==============================] - 0s 5ms/step - loss: 0.5038 - categorical_crossentropy: 0.5038 - accuracy: 0.8571\n",
            "Epoch 102/250\n",
            "6/6 [==============================] - 0s 5ms/step - loss: 0.4973 - categorical_crossentropy: 0.4973 - accuracy: 0.8929\n",
            "Epoch 103/250\n",
            "6/6 [==============================] - 0s 5ms/step - loss: 0.4942 - categorical_crossentropy: 0.4942 - accuracy: 0.8869\n",
            "Epoch 104/250\n",
            "6/6 [==============================] - 0s 5ms/step - loss: 0.5019 - categorical_crossentropy: 0.5019 - accuracy: 0.8750\n",
            "Epoch 105/250\n",
            "6/6 [==============================] - 0s 6ms/step - loss: 0.4864 - categorical_crossentropy: 0.4864 - accuracy: 0.8750\n",
            "Epoch 106/250\n",
            "6/6 [==============================] - 0s 5ms/step - loss: 0.4778 - categorical_crossentropy: 0.4778 - accuracy: 0.8810\n",
            "Epoch 107/250\n",
            "6/6 [==============================] - 0s 5ms/step - loss: 0.4818 - categorical_crossentropy: 0.4818 - accuracy: 0.8690\n",
            "Epoch 108/250\n",
            "6/6 [==============================] - 0s 6ms/step - loss: 0.4737 - categorical_crossentropy: 0.4737 - accuracy: 0.8988\n",
            "Epoch 109/250\n",
            "6/6 [==============================] - 0s 6ms/step - loss: 0.4695 - categorical_crossentropy: 0.4695 - accuracy: 0.8810\n",
            "Epoch 110/250\n",
            "6/6 [==============================] - 0s 6ms/step - loss: 0.4615 - categorical_crossentropy: 0.4615 - accuracy: 0.9167\n",
            "Epoch 111/250\n",
            "6/6 [==============================] - 0s 18ms/step - loss: 0.4615 - categorical_crossentropy: 0.4615 - accuracy: 0.8810\n",
            "Epoch 112/250\n",
            "6/6 [==============================] - 0s 15ms/step - loss: 0.4593 - categorical_crossentropy: 0.4593 - accuracy: 0.8988\n",
            "Epoch 113/250\n",
            "6/6 [==============================] - 0s 8ms/step - loss: 0.4528 - categorical_crossentropy: 0.4528 - accuracy: 0.8810\n",
            "Epoch 114/250\n",
            "6/6 [==============================] - 0s 7ms/step - loss: 0.4499 - categorical_crossentropy: 0.4499 - accuracy: 0.8869\n",
            "Epoch 115/250\n",
            "6/6 [==============================] - 0s 9ms/step - loss: 0.4445 - categorical_crossentropy: 0.4445 - accuracy: 0.8988\n",
            "Epoch 116/250\n",
            "6/6 [==============================] - 0s 15ms/step - loss: 0.4422 - categorical_crossentropy: 0.4422 - accuracy: 0.8929\n",
            "Epoch 117/250\n",
            "6/6 [==============================] - 0s 8ms/step - loss: 0.4335 - categorical_crossentropy: 0.4335 - accuracy: 0.8988\n",
            "Epoch 118/250\n",
            "6/6 [==============================] - 0s 19ms/step - loss: 0.4397 - categorical_crossentropy: 0.4397 - accuracy: 0.8988\n",
            "Epoch 119/250\n",
            "6/6 [==============================] - 0s 9ms/step - loss: 0.4294 - categorical_crossentropy: 0.4294 - accuracy: 0.8929\n",
            "Epoch 120/250\n",
            "6/6 [==============================] - 0s 11ms/step - loss: 0.4304 - categorical_crossentropy: 0.4304 - accuracy: 0.9107\n",
            "Epoch 121/250\n",
            "6/6 [==============================] - 0s 8ms/step - loss: 0.4307 - categorical_crossentropy: 0.4307 - accuracy: 0.8869\n",
            "Epoch 122/250\n",
            "6/6 [==============================] - 0s 15ms/step - loss: 0.4191 - categorical_crossentropy: 0.4191 - accuracy: 0.8929\n",
            "Epoch 123/250\n",
            "6/6 [==============================] - 0s 22ms/step - loss: 0.4124 - categorical_crossentropy: 0.4124 - accuracy: 0.9048\n",
            "Epoch 124/250\n",
            "6/6 [==============================] - 0s 13ms/step - loss: 0.4154 - categorical_crossentropy: 0.4154 - accuracy: 0.9107\n",
            "Epoch 125/250\n",
            "6/6 [==============================] - 0s 16ms/step - loss: 0.4156 - categorical_crossentropy: 0.4156 - accuracy: 0.8929\n",
            "Epoch 126/250\n",
            "6/6 [==============================] - 0s 12ms/step - loss: 0.4084 - categorical_crossentropy: 0.4084 - accuracy: 0.8988\n",
            "Epoch 127/250\n",
            "6/6 [==============================] - 0s 11ms/step - loss: 0.4012 - categorical_crossentropy: 0.4012 - accuracy: 0.9107\n",
            "Epoch 128/250\n",
            "6/6 [==============================] - 0s 12ms/step - loss: 0.4057 - categorical_crossentropy: 0.4057 - accuracy: 0.8929\n",
            "Epoch 129/250\n",
            "6/6 [==============================] - 0s 11ms/step - loss: 0.4030 - categorical_crossentropy: 0.4030 - accuracy: 0.9286\n",
            "Epoch 130/250\n",
            "6/6 [==============================] - 0s 19ms/step - loss: 0.3930 - categorical_crossentropy: 0.3930 - accuracy: 0.9107\n",
            "Epoch 131/250\n",
            "6/6 [==============================] - 0s 18ms/step - loss: 0.3919 - categorical_crossentropy: 0.3919 - accuracy: 0.8869\n",
            "Epoch 132/250\n",
            "6/6 [==============================] - 0s 9ms/step - loss: 0.3820 - categorical_crossentropy: 0.3820 - accuracy: 0.9286\n",
            "Epoch 133/250\n",
            "6/6 [==============================] - 0s 17ms/step - loss: 0.3930 - categorical_crossentropy: 0.3930 - accuracy: 0.9048\n",
            "Epoch 134/250\n",
            "6/6 [==============================] - 0s 10ms/step - loss: 0.3766 - categorical_crossentropy: 0.3766 - accuracy: 0.9048\n",
            "Epoch 135/250\n",
            "6/6 [==============================] - 0s 11ms/step - loss: 0.3742 - categorical_crossentropy: 0.3742 - accuracy: 0.8988\n",
            "Epoch 136/250\n",
            "6/6 [==============================] - 0s 8ms/step - loss: 0.3848 - categorical_crossentropy: 0.3848 - accuracy: 0.9107\n",
            "Epoch 137/250\n",
            "6/6 [==============================] - 0s 18ms/step - loss: 0.3756 - categorical_crossentropy: 0.3756 - accuracy: 0.9107\n",
            "Epoch 138/250\n",
            "6/6 [==============================] - 0s 10ms/step - loss: 0.3640 - categorical_crossentropy: 0.3640 - accuracy: 0.9345\n",
            "Epoch 139/250\n",
            "6/6 [==============================] - 0s 8ms/step - loss: 0.3686 - categorical_crossentropy: 0.3686 - accuracy: 0.9107\n",
            "Epoch 140/250\n",
            "6/6 [==============================] - 0s 9ms/step - loss: 0.3730 - categorical_crossentropy: 0.3730 - accuracy: 0.9107\n",
            "Epoch 141/250\n",
            "6/6 [==============================] - 0s 7ms/step - loss: 0.3588 - categorical_crossentropy: 0.3588 - accuracy: 0.9167\n",
            "Epoch 142/250\n",
            "6/6 [==============================] - 0s 8ms/step - loss: 0.3581 - categorical_crossentropy: 0.3581 - accuracy: 0.9226\n",
            "Epoch 143/250\n",
            "6/6 [==============================] - 0s 11ms/step - loss: 0.3602 - categorical_crossentropy: 0.3602 - accuracy: 0.9048\n",
            "Epoch 144/250\n",
            "6/6 [==============================] - 0s 9ms/step - loss: 0.3519 - categorical_crossentropy: 0.3519 - accuracy: 0.9345\n",
            "Epoch 145/250\n",
            "6/6 [==============================] - 0s 15ms/step - loss: 0.3504 - categorical_crossentropy: 0.3504 - accuracy: 0.9107\n",
            "Epoch 146/250\n",
            "6/6 [==============================] - 0s 11ms/step - loss: 0.3491 - categorical_crossentropy: 0.3491 - accuracy: 0.9345\n",
            "Epoch 147/250\n",
            "6/6 [==============================] - 0s 9ms/step - loss: 0.3499 - categorical_crossentropy: 0.3499 - accuracy: 0.9107\n",
            "Epoch 148/250\n",
            "6/6 [==============================] - 0s 10ms/step - loss: 0.3424 - categorical_crossentropy: 0.3424 - accuracy: 0.9345\n",
            "Epoch 149/250\n",
            "6/6 [==============================] - 0s 12ms/step - loss: 0.3367 - categorical_crossentropy: 0.3367 - accuracy: 0.9464\n",
            "Epoch 150/250\n",
            "6/6 [==============================] - 0s 9ms/step - loss: 0.3420 - categorical_crossentropy: 0.3420 - accuracy: 0.9226\n",
            "Epoch 151/250\n",
            "6/6 [==============================] - 0s 14ms/step - loss: 0.3374 - categorical_crossentropy: 0.3374 - accuracy: 0.9405\n",
            "Epoch 152/250\n",
            "6/6 [==============================] - 0s 11ms/step - loss: 0.3343 - categorical_crossentropy: 0.3343 - accuracy: 0.9286\n",
            "Epoch 153/250\n",
            "6/6 [==============================] - 0s 13ms/step - loss: 0.3358 - categorical_crossentropy: 0.3358 - accuracy: 0.9345\n",
            "Epoch 154/250\n",
            "6/6 [==============================] - 0s 9ms/step - loss: 0.3382 - categorical_crossentropy: 0.3382 - accuracy: 0.9345\n",
            "Epoch 155/250\n",
            "6/6 [==============================] - 0s 12ms/step - loss: 0.3251 - categorical_crossentropy: 0.3251 - accuracy: 0.9226\n",
            "Epoch 156/250\n",
            "6/6 [==============================] - 0s 12ms/step - loss: 0.3244 - categorical_crossentropy: 0.3244 - accuracy: 0.9583\n",
            "Epoch 157/250\n",
            "6/6 [==============================] - 0s 23ms/step - loss: 0.3257 - categorical_crossentropy: 0.3257 - accuracy: 0.9286\n",
            "Epoch 158/250\n",
            "6/6 [==============================] - 0s 12ms/step - loss: 0.3230 - categorical_crossentropy: 0.3230 - accuracy: 0.9405\n",
            "Epoch 159/250\n",
            "6/6 [==============================] - 0s 14ms/step - loss: 0.3252 - categorical_crossentropy: 0.3252 - accuracy: 0.9226\n",
            "Epoch 160/250\n",
            "6/6 [==============================] - 0s 10ms/step - loss: 0.3122 - categorical_crossentropy: 0.3122 - accuracy: 0.9524\n",
            "Epoch 161/250\n",
            "6/6 [==============================] - 0s 20ms/step - loss: 0.3136 - categorical_crossentropy: 0.3136 - accuracy: 0.9464\n",
            "Epoch 162/250\n",
            "6/6 [==============================] - 0s 15ms/step - loss: 0.3156 - categorical_crossentropy: 0.3156 - accuracy: 0.9286\n",
            "Epoch 163/250\n",
            "6/6 [==============================] - 0s 11ms/step - loss: 0.3161 - categorical_crossentropy: 0.3161 - accuracy: 0.9345\n",
            "Epoch 164/250\n",
            "6/6 [==============================] - 0s 11ms/step - loss: 0.3128 - categorical_crossentropy: 0.3128 - accuracy: 0.9286\n",
            "Epoch 165/250\n",
            "6/6 [==============================] - 0s 7ms/step - loss: 0.3052 - categorical_crossentropy: 0.3052 - accuracy: 0.9583\n",
            "Epoch 166/250\n",
            "6/6 [==============================] - 0s 18ms/step - loss: 0.3120 - categorical_crossentropy: 0.3120 - accuracy: 0.9524\n",
            "Epoch 167/250\n",
            "6/6 [==============================] - 0s 10ms/step - loss: 0.3031 - categorical_crossentropy: 0.3031 - accuracy: 0.9345\n",
            "Epoch 168/250\n",
            "6/6 [==============================] - 0s 8ms/step - loss: 0.3020 - categorical_crossentropy: 0.3020 - accuracy: 0.9405\n",
            "Epoch 169/250\n",
            "6/6 [==============================] - 0s 8ms/step - loss: 0.2977 - categorical_crossentropy: 0.2977 - accuracy: 0.9524\n",
            "Epoch 170/250\n",
            "6/6 [==============================] - 0s 6ms/step - loss: 0.2938 - categorical_crossentropy: 0.2938 - accuracy: 0.9464\n",
            "Epoch 171/250\n",
            "6/6 [==============================] - 0s 9ms/step - loss: 0.3004 - categorical_crossentropy: 0.3004 - accuracy: 0.9464\n",
            "Epoch 172/250\n",
            "6/6 [==============================] - 0s 5ms/step - loss: 0.2951 - categorical_crossentropy: 0.2951 - accuracy: 0.9583\n",
            "Epoch 173/250\n",
            "6/6 [==============================] - 0s 5ms/step - loss: 0.2918 - categorical_crossentropy: 0.2918 - accuracy: 0.9524\n",
            "Epoch 174/250\n",
            "6/6 [==============================] - 0s 19ms/step - loss: 0.2973 - categorical_crossentropy: 0.2973 - accuracy: 0.9464\n",
            "Epoch 175/250\n",
            "6/6 [==============================] - 0s 11ms/step - loss: 0.2844 - categorical_crossentropy: 0.2844 - accuracy: 0.9405\n",
            "Epoch 176/250\n",
            "6/6 [==============================] - 0s 8ms/step - loss: 0.2857 - categorical_crossentropy: 0.2857 - accuracy: 0.9464\n",
            "Epoch 177/250\n",
            "6/6 [==============================] - 0s 6ms/step - loss: 0.2861 - categorical_crossentropy: 0.2861 - accuracy: 0.9464\n",
            "Epoch 178/250\n",
            "6/6 [==============================] - 0s 11ms/step - loss: 0.2801 - categorical_crossentropy: 0.2801 - accuracy: 0.9464\n",
            "Epoch 179/250\n",
            "6/6 [==============================] - 0s 13ms/step - loss: 0.2873 - categorical_crossentropy: 0.2873 - accuracy: 0.9405\n",
            "Epoch 180/250\n",
            "6/6 [==============================] - 0s 7ms/step - loss: 0.2851 - categorical_crossentropy: 0.2851 - accuracy: 0.9345\n",
            "Epoch 181/250\n",
            "6/6 [==============================] - 0s 15ms/step - loss: 0.2807 - categorical_crossentropy: 0.2807 - accuracy: 0.9405\n",
            "Epoch 182/250\n",
            "6/6 [==============================] - 0s 11ms/step - loss: 0.2844 - categorical_crossentropy: 0.2844 - accuracy: 0.9405\n",
            "Epoch 183/250\n",
            "6/6 [==============================] - 0s 6ms/step - loss: 0.2767 - categorical_crossentropy: 0.2767 - accuracy: 0.9524\n",
            "Epoch 184/250\n",
            "6/6 [==============================] - 0s 7ms/step - loss: 0.2721 - categorical_crossentropy: 0.2721 - accuracy: 0.9405\n",
            "Epoch 185/250\n",
            "6/6 [==============================] - 0s 10ms/step - loss: 0.2723 - categorical_crossentropy: 0.2723 - accuracy: 0.9464\n",
            "Epoch 186/250\n",
            "6/6 [==============================] - 0s 7ms/step - loss: 0.2683 - categorical_crossentropy: 0.2683 - accuracy: 0.9583\n",
            "Epoch 187/250\n",
            "6/6 [==============================] - 0s 8ms/step - loss: 0.2642 - categorical_crossentropy: 0.2642 - accuracy: 0.9464\n",
            "Epoch 188/250\n",
            "6/6 [==============================] - 0s 10ms/step - loss: 0.2698 - categorical_crossentropy: 0.2698 - accuracy: 0.9524\n",
            "Epoch 189/250\n",
            "6/6 [==============================] - 0s 5ms/step - loss: 0.2636 - categorical_crossentropy: 0.2636 - accuracy: 0.9464\n",
            "Epoch 190/250\n",
            "6/6 [==============================] - 0s 8ms/step - loss: 0.2591 - categorical_crossentropy: 0.2591 - accuracy: 0.9524\n",
            "Epoch 191/250\n",
            "6/6 [==============================] - 0s 6ms/step - loss: 0.2596 - categorical_crossentropy: 0.2596 - accuracy: 0.9583\n",
            "Epoch 192/250\n",
            "6/6 [==============================] - 0s 6ms/step - loss: 0.2679 - categorical_crossentropy: 0.2679 - accuracy: 0.9524\n",
            "Epoch 193/250\n",
            "6/6 [==============================] - 0s 8ms/step - loss: 0.2495 - categorical_crossentropy: 0.2495 - accuracy: 0.9405\n",
            "Epoch 194/250\n",
            "6/6 [==============================] - 0s 9ms/step - loss: 0.2606 - categorical_crossentropy: 0.2606 - accuracy: 0.9464\n",
            "Epoch 195/250\n",
            "6/6 [==============================] - 0s 5ms/step - loss: 0.2581 - categorical_crossentropy: 0.2581 - accuracy: 0.9524\n",
            "Epoch 196/250\n",
            "6/6 [==============================] - 0s 6ms/step - loss: 0.2487 - categorical_crossentropy: 0.2487 - accuracy: 0.9643\n",
            "Epoch 197/250\n",
            "6/6 [==============================] - 0s 6ms/step - loss: 0.2649 - categorical_crossentropy: 0.2649 - accuracy: 0.9345\n",
            "Epoch 198/250\n",
            "6/6 [==============================] - 0s 10ms/step - loss: 0.2494 - categorical_crossentropy: 0.2494 - accuracy: 0.9524\n",
            "Epoch 199/250\n",
            "6/6 [==============================] - 0s 9ms/step - loss: 0.2492 - categorical_crossentropy: 0.2492 - accuracy: 0.9524\n",
            "Epoch 200/250\n",
            "6/6 [==============================] - 0s 9ms/step - loss: 0.2516 - categorical_crossentropy: 0.2516 - accuracy: 0.9583\n",
            "Epoch 201/250\n",
            "6/6 [==============================] - 0s 8ms/step - loss: 0.2454 - categorical_crossentropy: 0.2454 - accuracy: 0.9524\n",
            "Epoch 202/250\n",
            "6/6 [==============================] - 0s 9ms/step - loss: 0.2511 - categorical_crossentropy: 0.2511 - accuracy: 0.9464\n",
            "Epoch 203/250\n",
            "6/6 [==============================] - 0s 6ms/step - loss: 0.2422 - categorical_crossentropy: 0.2422 - accuracy: 0.9524\n",
            "Epoch 204/250\n",
            "6/6 [==============================] - 0s 7ms/step - loss: 0.2433 - categorical_crossentropy: 0.2433 - accuracy: 0.9464\n",
            "Epoch 205/250\n",
            "6/6 [==============================] - 0s 17ms/step - loss: 0.2470 - categorical_crossentropy: 0.2470 - accuracy: 0.9464\n",
            "Epoch 206/250\n",
            "6/6 [==============================] - 0s 6ms/step - loss: 0.2423 - categorical_crossentropy: 0.2423 - accuracy: 0.9405\n",
            "Epoch 207/250\n",
            "6/6 [==============================] - 0s 8ms/step - loss: 0.2365 - categorical_crossentropy: 0.2365 - accuracy: 0.9583\n",
            "Epoch 208/250\n",
            "6/6 [==============================] - 0s 6ms/step - loss: 0.2341 - categorical_crossentropy: 0.2341 - accuracy: 0.9583\n",
            "Epoch 209/250\n",
            "6/6 [==============================] - 0s 9ms/step - loss: 0.2306 - categorical_crossentropy: 0.2306 - accuracy: 0.9643\n",
            "Epoch 210/250\n",
            "6/6 [==============================] - 0s 12ms/step - loss: 0.2371 - categorical_crossentropy: 0.2371 - accuracy: 0.9464\n",
            "Epoch 211/250\n",
            "6/6 [==============================] - 0s 4ms/step - loss: 0.2346 - categorical_crossentropy: 0.2346 - accuracy: 0.9345\n",
            "Epoch 212/250\n",
            "6/6 [==============================] - 0s 15ms/step - loss: 0.2337 - categorical_crossentropy: 0.2337 - accuracy: 0.9524\n",
            "Epoch 213/250\n",
            "6/6 [==============================] - 0s 5ms/step - loss: 0.2254 - categorical_crossentropy: 0.2254 - accuracy: 0.9524\n",
            "Epoch 214/250\n",
            "6/6 [==============================] - 0s 15ms/step - loss: 0.2276 - categorical_crossentropy: 0.2276 - accuracy: 0.9583\n",
            "Epoch 215/250\n",
            "6/6 [==============================] - 0s 8ms/step - loss: 0.2291 - categorical_crossentropy: 0.2291 - accuracy: 0.9583\n",
            "Epoch 216/250\n",
            "6/6 [==============================] - 0s 14ms/step - loss: 0.2262 - categorical_crossentropy: 0.2262 - accuracy: 0.9524\n",
            "Epoch 217/250\n",
            "6/6 [==============================] - 0s 9ms/step - loss: 0.2196 - categorical_crossentropy: 0.2196 - accuracy: 0.9583\n",
            "Epoch 218/250\n",
            "6/6 [==============================] - 0s 14ms/step - loss: 0.2219 - categorical_crossentropy: 0.2219 - accuracy: 0.9702\n",
            "Epoch 219/250\n",
            "6/6 [==============================] - 0s 18ms/step - loss: 0.2190 - categorical_crossentropy: 0.2190 - accuracy: 0.9583\n",
            "Epoch 220/250\n",
            "6/6 [==============================] - 0s 15ms/step - loss: 0.2173 - categorical_crossentropy: 0.2173 - accuracy: 0.9583\n",
            "Epoch 221/250\n",
            "6/6 [==============================] - 0s 9ms/step - loss: 0.2238 - categorical_crossentropy: 0.2238 - accuracy: 0.9583\n",
            "Epoch 222/250\n",
            "6/6 [==============================] - 0s 8ms/step - loss: 0.2091 - categorical_crossentropy: 0.2091 - accuracy: 0.9583\n",
            "Epoch 223/250\n",
            "6/6 [==============================] - 0s 6ms/step - loss: 0.2179 - categorical_crossentropy: 0.2179 - accuracy: 0.9583\n",
            "Epoch 224/250\n",
            "6/6 [==============================] - 0s 6ms/step - loss: 0.2135 - categorical_crossentropy: 0.2135 - accuracy: 0.9583\n",
            "Epoch 225/250\n",
            "6/6 [==============================] - 0s 8ms/step - loss: 0.2147 - categorical_crossentropy: 0.2147 - accuracy: 0.9583\n",
            "Epoch 226/250\n",
            "6/6 [==============================] - 0s 5ms/step - loss: 0.2099 - categorical_crossentropy: 0.2099 - accuracy: 0.9643\n",
            "Epoch 227/250\n",
            "6/6 [==============================] - 0s 5ms/step - loss: 0.2099 - categorical_crossentropy: 0.2099 - accuracy: 0.9643\n",
            "Epoch 228/250\n",
            "6/6 [==============================] - 0s 8ms/step - loss: 0.2089 - categorical_crossentropy: 0.2089 - accuracy: 0.9583\n",
            "Epoch 229/250\n",
            "6/6 [==============================] - 0s 5ms/step - loss: 0.2016 - categorical_crossentropy: 0.2016 - accuracy: 0.9583\n",
            "Epoch 230/250\n",
            "6/6 [==============================] - 0s 5ms/step - loss: 0.2062 - categorical_crossentropy: 0.2062 - accuracy: 0.9702\n",
            "Epoch 231/250\n",
            "6/6 [==============================] - 0s 6ms/step - loss: 0.2040 - categorical_crossentropy: 0.2040 - accuracy: 0.9583\n",
            "Epoch 232/250\n",
            "6/6 [==============================] - 0s 7ms/step - loss: 0.2067 - categorical_crossentropy: 0.2067 - accuracy: 0.9464\n",
            "Epoch 233/250\n",
            "6/6 [==============================] - 0s 7ms/step - loss: 0.2003 - categorical_crossentropy: 0.2003 - accuracy: 0.9583\n",
            "Epoch 234/250\n",
            "6/6 [==============================] - 0s 9ms/step - loss: 0.2114 - categorical_crossentropy: 0.2114 - accuracy: 0.9464\n",
            "Epoch 235/250\n",
            "6/6 [==============================] - 0s 10ms/step - loss: 0.1978 - categorical_crossentropy: 0.1978 - accuracy: 0.9702\n",
            "Epoch 236/250\n",
            "6/6 [==============================] - 0s 16ms/step - loss: 0.1973 - categorical_crossentropy: 0.1973 - accuracy: 0.9524\n",
            "Epoch 237/250\n",
            "6/6 [==============================] - 0s 7ms/step - loss: 0.1924 - categorical_crossentropy: 0.1924 - accuracy: 0.9524\n",
            "Epoch 238/250\n",
            "6/6 [==============================] - 0s 9ms/step - loss: 0.1951 - categorical_crossentropy: 0.1951 - accuracy: 0.9643\n",
            "Epoch 239/250\n",
            "6/6 [==============================] - 0s 9ms/step - loss: 0.2048 - categorical_crossentropy: 0.2048 - accuracy: 0.9583\n",
            "Epoch 240/250\n",
            "6/6 [==============================] - 0s 11ms/step - loss: 0.1887 - categorical_crossentropy: 0.1887 - accuracy: 0.9702\n",
            "Epoch 241/250\n",
            "6/6 [==============================] - 0s 8ms/step - loss: 0.1933 - categorical_crossentropy: 0.1933 - accuracy: 0.9583\n",
            "Epoch 242/250\n",
            "6/6 [==============================] - 0s 10ms/step - loss: 0.1899 - categorical_crossentropy: 0.1899 - accuracy: 0.9524\n",
            "Epoch 243/250\n",
            "6/6 [==============================] - 0s 15ms/step - loss: 0.1893 - categorical_crossentropy: 0.1893 - accuracy: 0.9643\n",
            "Epoch 244/250\n",
            "6/6 [==============================] - 0s 9ms/step - loss: 0.1904 - categorical_crossentropy: 0.1904 - accuracy: 0.9464\n",
            "Epoch 245/250\n",
            "6/6 [==============================] - 0s 10ms/step - loss: 0.1872 - categorical_crossentropy: 0.1872 - accuracy: 0.9643\n",
            "Epoch 246/250\n",
            "6/6 [==============================] - 0s 9ms/step - loss: 0.1835 - categorical_crossentropy: 0.1835 - accuracy: 0.9643\n",
            "Epoch 247/250\n",
            "6/6 [==============================] - 0s 7ms/step - loss: 0.1880 - categorical_crossentropy: 0.1880 - accuracy: 0.9524\n",
            "Epoch 248/250\n",
            "6/6 [==============================] - 0s 9ms/step - loss: 0.1831 - categorical_crossentropy: 0.1831 - accuracy: 0.9583\n",
            "Epoch 249/250\n",
            "6/6 [==============================] - 0s 15ms/step - loss: 0.1857 - categorical_crossentropy: 0.1857 - accuracy: 0.9524\n",
            "Epoch 250/250\n",
            "6/6 [==============================] - 0s 7ms/step - loss: 0.1785 - categorical_crossentropy: 0.1785 - accuracy: 0.9583\n"
          ]
        }
      ],
      "source": [
        "EPOCHS = 250\n",
        "\n",
        "history = model.fit(\n",
        "    train_x, train_y, epochs = EPOCHS, verbose = 1\n",
        ")"
      ]
    },
    {
      "cell_type": "markdown",
      "metadata": {
        "id": "b5znM4xvHLcp"
      },
      "source": [
        "This plot should be generated just to inspect the learning convergence.\n",
        "It is expected a decreasing of the loss function value through the epochs.\n"
      ]
    },
    {
      "cell_type": "code",
      "execution_count": 12,
      "metadata": {
        "colab": {
          "base_uri": "https://localhost:8080/",
          "height": 472
        },
        "collapsed": true,
        "id": "LfbEFBSHz7KC",
        "outputId": "743e9429-87e6-4903-e342-74e29704a863"
      },
      "outputs": [
        {
          "output_type": "display_data",
          "data": {
            "text/plain": [
              "<Figure size 640x480 with 1 Axes>"
            ],
            "image/png": "[encoded data removed]"
          },
          "metadata": {}
        }
      ],
      "source": [
        "plt.plot(history.history['categorical_crossentropy'])\n",
        "plt.title('Training Categorical Cross Entropy')\n",
        "plt.ylabel('Categorical Cross Entropy')\n",
        "plt.xlabel('Epoch')\n",
        "plt.legend(['Error'], loc='upper right')\n",
        "plt.savefig(\"trainingerror.pdf\")\n",
        "plt.show()"
      ]
    },
    {
      "cell_type": "code",
      "source": [
        "plt.plot(history.history['accuracy'])\n",
        "plt.title('Training Accuracy')\n",
        "plt.ylabel('Accuracy')\n",
        "plt.xlabel('Epoch')\n",
        "plt.legend(['Accuracy'], loc='lower right')\n",
        "plt.savefig(\"trainingaccuracy.pdf\")\n",
        "plt.show()"
      ],
      "metadata": {
        "colab": {
          "base_uri": "https://localhost:8080/",
          "height": 472
        },
        "id": "kcKssf0sOqFY",
        "outputId": "f823dd7a-e873-4b1e-aff1-b12a71eb810b"
      },
      "execution_count": 13,
      "outputs": [
        {
          "output_type": "display_data",
          "data": {
            "text/plain": [
              "<Figure size 640x480 with 1 Axes>"
            ],
            "image/png": "[encoded data removed]"
          },
          "metadata": {}
        }
      ]
    },
    {
      "cell_type": "markdown",
      "metadata": {
        "id": "YTqSvbNeOJG5"
      },
      "source": [
        "After the training process, the knowledge learnt by a neural network is stored in its weights."
      ]
    },
    {
      "cell_type": "markdown",
      "metadata": {
        "id": "J9ZQbtPLOfze"
      },
      "source": [
        "After the training process, the model should be tested in order to measure its quality, it means, how good are its predictions. The model must be evaluated using the testing set, which is composed by samples that are not in the training set. In regression problems, the correlation coefficient is the default metric to measure the model quality.\n",
        "The correlation coefficient is computed using real outputs ($y$) and predicted outputs ($\\hat{y}$). Correlation coefficient can vary between 0 (bad predictions) and 1 (perfect predictions)."
      ]
    },
    {
      "cell_type": "code",
      "execution_count": 14,
      "metadata": {
        "id": "l5PeLuUK06cw",
        "colab": {
          "base_uri": "https://localhost:8080/"
        },
        "outputId": "f7f1cc4b-ba9c-4556-b04e-42dec900c668"
      },
      "outputs": [
        {
          "output_type": "stream",
          "name": "stdout",
          "text": [
            "16/16 [==============================] - 0s 5ms/step\n",
            "[[78 25  0  2  3  1  1  1  1]\n",
            " [ 4 49  5  1  0  0  0  0  0]\n",
            " [ 0  6 10  5  0  1  1  0  0]\n",
            " [ 0  0  3 77  0 23  1  0  0]\n",
            " [ 0  0  0  0 35  1  0  0  7]\n",
            " [ 0  1  1  7  0 68  0  1  0]\n",
            " [ 2  2  1  1  0  2 18  0  1]\n",
            " [ 0  0  0  0  0  0  0 12  3]\n",
            " [ 5  0  0  0  7  1  0  0 33]]\n",
            "              precision    recall  f1-score   support\n",
            "\n",
            "       tree        0.88      0.70      0.78       112\n",
            "      grass        0.59      0.83      0.69        59\n",
            "       soil        0.50      0.43      0.47        23\n",
            "   concrete        0.83      0.74      0.78       104\n",
            "    asphalt        0.78      0.81      0.80        43\n",
            "   building        0.70      0.87      0.78        78\n",
            "        car        0.86      0.67      0.75        27\n",
            "       pool        0.86      0.80      0.83        15\n",
            "     shadow        0.73      0.72      0.73        46\n",
            "\n",
            "    accuracy                           0.75       507\n",
            "   macro avg       0.75      0.73      0.73       507\n",
            "weighted avg       0.77      0.75      0.75       507\n",
            "\n",
            "The accuracy on the test set is equal to: 0.7495 \n"
          ]
        }
      ],
      "source": [
        "test_predictions = model.predict(test_x) # predict randon activities with the built linear regression model\n",
        "print(confusion_matrix(test_predictions.argmax(axis=1), test_y.argmax(axis=1)))\n",
        "print(classification_report(test_predictions.argmax(axis=1), test_y.argmax(axis=1), target_names=['tree ', 'grass ', 'soil ', 'concrete ', 'asphalt ', 'building ', 'car ', 'pool ', 'shadow ']))\n",
        "print('The accuracy on the test set is equal to: %.4f ' % accuracy_score(test_predictions.argmax(axis=1), test_y.argmax(axis=1)))"
      ]
    },
    {
      "cell_type": "code",
      "source": [
        "cm = confusion_matrix(test_predictions.argmax(axis=1), test_y.argmax(axis=1))\n",
        "disp = ConfusionMatrixDisplay(confusion_matrix=cm, display_labels=['tree', 'grass', 'soil', 'conc', 'asph', 'build', 'car', 'pool', 'shad'])\n",
        "disp.plot(cmap=\"bwr\")\n",
        "plt.title('Confusion Matrix for Testing Set')\n",
        "plt.savefig(\"confusionmatrix.pdf\")\n",
        "plt.show()"
      ],
      "metadata": {
        "colab": {
          "base_uri": "https://localhost:8080/",
          "height": 472
        },
        "id": "FCqcb_ajIXIx",
        "outputId": "58e6bb85-af7d-40ab-d169-77e3107242e2"
      },
      "execution_count": 15,
      "outputs": [
        {
          "output_type": "display_data",
          "data": {
            "text/plain": [
              "<Figure size 640x480 with 2 Axes>"
            ],
            "image/png": "[encoded data removed]"
          },
          "metadata": {}
        }
      ]
    },
    {
      "cell_type": "code",
      "execution_count": 16,
      "metadata": {
        "id": "Q2EHI_hd4OdI",
        "colab": {
          "base_uri": "https://localhost:8080/"
        },
        "outputId": "31952915-2e6b-4b10-d219-6813e6964179"
      },
      "outputs": [
        {
          "output_type": "stream",
          "name": "stdout",
          "text": [
            "6/6 [==============================] - 0s 6ms/step\n",
            "[[16  2  0  0  0  0  0  0  0]\n",
            " [ 0 27  0  0  0  0  0  0  0]\n",
            " [ 1  0 13  0  0  0  0  0  0]\n",
            " [ 0  0  1 22  0  0  0  0  0]\n",
            " [ 0  0  0  0 13  0  0  0  0]\n",
            " [ 0  0  0  1  0 25  0  1  0]\n",
            " [ 0  0  0  0  0  0 15  0  0]\n",
            " [ 0  0  0  0  0  0  0 14  0]\n",
            " [ 0  0  0  0  1  0  0  0 16]]\n",
            "              precision    recall  f1-score   support\n",
            "\n",
            "       tree        0.94      0.89      0.91        18\n",
            "      grass        0.93      1.00      0.96        27\n",
            "       soil        0.93      0.93      0.93        14\n",
            "   concrete        0.96      0.96      0.96        23\n",
            "    asphalt        0.93      1.00      0.96        13\n",
            "   building        1.00      0.93      0.96        27\n",
            "        car        1.00      1.00      1.00        15\n",
            "       pool        0.93      1.00      0.97        14\n",
            "     shadow        1.00      0.94      0.97        17\n",
            "\n",
            "    accuracy                           0.96       168\n",
            "   macro avg       0.96      0.96      0.96       168\n",
            "weighted avg       0.96      0.96      0.96       168\n",
            "\n",
            "The accuracy on the training set is equal to: 0.9583 \n"
          ]
        }
      ],
      "source": [
        "train_predictions = model.predict(train_x)\n",
        "print(confusion_matrix(train_predictions.argmax(axis=1), train_y.argmax(axis=1)))\n",
        "print(classification_report(train_predictions.argmax(axis=1), train_y.argmax(axis=1), target_names=['tree ', 'grass ', 'soil ', 'concrete ', 'asphalt ', 'building ', 'car ', 'pool ', 'shadow ']))\n",
        "print('The accuracy on the training set is equal to: %.4f ' % accuracy_score(train_predictions.argmax(axis=1), train_y.argmax(axis=1)))"
      ]
    },
    {
      "cell_type": "code",
      "source": [
        "!pip3 install visualkeras\n",
        "import visualkeras\n",
        "\n",
        "visualkeras.layered_view(model).show() # display using your system viewer\n",
        "#visualkeras.layered_view(model, to_file='output.png') # write to disk\n",
        "#visualkeras.layered_view(model, to_file='output.png').show() # write and show\n",
        "\n",
        "visualkeras.layered_view(model)"
      ],
      "metadata": {
        "id": "WgGp0yrGCLVj",
        "outputId": "558c720a-eb0f-4fe7-e993-3fdb77c46b91",
        "colab": {
          "base_uri": "https://localhost:8080/",
          "height": 200
        }
      },
      "execution_count": 19,
      "outputs": [
        {
          "output_type": "stream",
          "name": "stdout",
          "text": [
            "Collecting visualkeras\n",
            "  Downloading visualkeras-0.0.2-py3-none-any.whl (12 kB)\n",
            "Requirement already satisfied: pillow>=6.2.0 in /usr/local/lib/python3.10/dist-packages (from visualkeras) (9.4.0)\n",
            "Requirement already satisfied: numpy>=1.18.1 in /usr/local/lib/python3.10/dist-packages (from visualkeras) (1.23.5)\n",
            "Collecting aggdraw>=1.3.11 (from visualkeras)\n",
            "  Downloading aggdraw-1.3.16-cp310-cp310-manylinux_2_17_x86_64.manylinux2014_x86_64.whl (993 kB)\n",
            "\u001b[2K     \u001b[90m━━━━━━━━━━━━━━━━━━━━━━━━━━━━━━━━━━━━━━\u001b[0m \u001b[32m993.0/993.0 kB\u001b[0m \u001b[31m11.4 MB/s\u001b[0m eta \u001b[36m0:00:00\u001b[0m\n",
            "\u001b[?25hInstalling collected packages: aggdraw, visualkeras\n",
            "Successfully installed aggdraw-1.3.16 visualkeras-0.0.2\n"
          ]
        },
        {
          "output_type": "execute_result",
          "data": {
            "text/plain": [
              "<PIL.Image.Image image mode=RGBA size=107x27>"
            ],
            "image/png": "[encoded data removed]"
          },
          "metadata": {},
          "execution_count": 19
        }
      ]
    }
  ],
  "metadata": {
    "colab": {
      "provenance": []
    },
    "kernelspec": {
      "display_name": "Python 3",
      "name": "python3"
    },
    "language_info": {
      "name": "python"
    }
  },
  "nbformat": 4,
  "nbformat_minor": 0
}