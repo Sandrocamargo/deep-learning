{
  "cells": [
    {
      "cell_type": "markdown",
      "metadata": {
        "id": "9feqnHODNlEV"
      },
      "source": [
        "# Course: Deep Learning\n",
        "# Author: Sandro Camargo <sandrocamargo@unipampa.edu.br>\n",
        "# Classification with Multi Layer Perceptron Example Urban Land Cover\n",
        "# Dataset: https://archive.ics.uci.edu/ml/datasets/Urban+Land+Cover"
      ]
    },
    {
      "cell_type": "markdown",
      "metadata": {
        "id": "NVnjeeftXQl6"
      },
      "source": [
        "A Python library is a collection of related functions. A library contains bundles of encapsuated code which can be used repeatedly in different programs."
      ]
    },
    {
      "cell_type": "code",
      "execution_count": null,
      "metadata": {
        "id": "lt7-B5mnWZRb"
      },
      "outputs": [],
      "source": [
        "# Import Libraries\n",
        "import keras # Neural Network Library\n",
        "from keras import layers # Layers to a neural network\n",
        "from keras import optimizers # optimizers\n",
        "import pandas as pd # Data Manipulation library\n",
        "import numpy as np # Fast Numeric Computing library\n",
        "import tensorflow as tf # Optimizers\n",
        "import matplotlib.pyplot as plt # Plot library\n",
        "from sklearn.preprocessing import MinMaxScaler, label_binarize\n",
        "from sklearn.metrics import confusion_matrix, accuracy_score, classification_report, ConfusionMatrixDisplay"
      ]
    },
    {
      "cell_type": "code",
      "source": [
        "import urllib.request\n",
        "urllib.request.urlretrieve(\"https://archive.ics.uci.edu/ml/machine-learning-databases/00295/Urban%20land%20cover.zip\", \"urbanlandcover.zip\")"
      ],
      "metadata": {
        "colab": {
          "base_uri": "https://localhost:8080/"
        },
        "id": "-GBAxPnYnm_2",
        "outputId": "e057e26c-1f2b-4178-92af-dd1ab3eabb4b"
      },
      "execution_count": null,
      "outputs": [
        {
          "output_type": "execute_result",
          "data": {
            "text/plain": [
              "('urbanlandcover.zip', <http.client.HTTPMessage at 0x7f9f9f217290>)"
            ]
          },
          "metadata": {},
          "execution_count": 2
        }
      ]
    },
    {
      "cell_type": "code",
      "source": [
        "import zipfile\n",
        "with zipfile.ZipFile(\"urbanlandcover.zip\", 'r') as zip_ref:\n",
        "    zip_ref.extractall(\"/content/\")"
      ],
      "metadata": {
        "id": "GB1X3Jtcn428"
      },
      "execution_count": null,
      "outputs": []
    },
    {
      "cell_type": "code",
      "execution_count": null,
      "metadata": {
        "colab": {
          "base_uri": "https://localhost:8080/"
        },
        "id": "pBNiKzKsWtW9",
        "outputId": "4b318945-4bdf-43a5-a48c-c29e2768c917"
      },
      "outputs": [
        {
          "output_type": "stream",
          "name": "stdout",
          "text": [
            "<class 'pandas.core.frame.DataFrame'>\n",
            "RangeIndex: 168 entries, 0 to 167\n",
            "Columns: 148 entries, class to GLCM3_140\n",
            "dtypes: float64(133), int64(14), object(1)\n",
            "memory usage: 194.4+ KB\n"
          ]
        }
      ],
      "source": [
        "# Loading training dataset\n",
        "data = pd.read_csv('training.csv', delimiter=\",\", header=0)\n",
        "# About the parameters\n",
        "# Header=1: column names (day, month, year, ...) are in the line 1 of this CSV file. \n",
        "# skiprows=[124,125,126,170]: this lines, which not contains valid data, are not imported. If this parameter is missing, all lines are imported.\n",
        "# usecols=list(range(0,13)): The last column, which is named Classes, is not imported. If this parameter is missing, all columns are imported.\n",
        "\n",
        "# inspecting columns and data types from \"data\" dataframe\n",
        "data.info()"
      ]
    },
    {
      "cell_type": "code",
      "source": [
        "datatest = pd.read_csv('testing.csv', delimiter=\",\", header=0)\n",
        "datatest.info()"
      ],
      "metadata": {
        "colab": {
          "base_uri": "https://localhost:8080/"
        },
        "id": "cexznDgEqlWB",
        "outputId": "e4b7ca1d-67ac-4f42-b665-45b56ef1aac8"
      },
      "execution_count": null,
      "outputs": [
        {
          "output_type": "stream",
          "name": "stdout",
          "text": [
            "<class 'pandas.core.frame.DataFrame'>\n",
            "RangeIndex: 507 entries, 0 to 506\n",
            "Columns: 148 entries, class to GLCM3_140\n",
            "dtypes: float64(133), int64(14), object(1)\n",
            "memory usage: 586.3+ KB\n"
          ]
        }
      ]
    },
    {
      "cell_type": "code",
      "source": [
        "classes = data.iloc[:,0]\n",
        "data.drop(data.columns[[0]], axis=1, inplace=True)\n",
        "scaler = MinMaxScaler()\n",
        "print(scaler.fit(data))\n",
        "MinMaxScaler()\n",
        "data = pd.DataFrame(scaler.transform(data))"
      ],
      "metadata": {
        "colab": {
          "base_uri": "https://localhost:8080/"
        },
        "id": "I2gEa1Jtq7Jh",
        "outputId": "86926890-e83e-4a23-ac96-8a2c965abc38"
      },
      "execution_count": null,
      "outputs": [
        {
          "output_type": "stream",
          "name": "stdout",
          "text": [
            "MinMaxScaler()\n"
          ]
        }
      ]
    },
    {
      "cell_type": "code",
      "source": [
        "classestest = datatest.iloc[:,0]\n",
        "datatest.drop(datatest.columns[[0]], axis=1, inplace=True)\n",
        "scalertest = MinMaxScaler()\n",
        "print(scalertest.fit(datatest))\n",
        "MinMaxScaler()\n",
        "datatest = pd.DataFrame(scaler.transform(datatest))"
      ],
      "metadata": {
        "colab": {
          "base_uri": "https://localhost:8080/"
        },
        "id": "B8w9bBdnq_PK",
        "outputId": "af6483f9-66bd-49c4-a988-323405ac2620"
      },
      "execution_count": null,
      "outputs": [
        {
          "output_type": "stream",
          "name": "stdout",
          "text": [
            "MinMaxScaler()\n"
          ]
        }
      ]
    },
    {
      "cell_type": "markdown",
      "metadata": {
        "id": "tmq8UTaXdFtF"
      },
      "source": [
        "The dataset must be randomly splitted in two parts: training set and testing set. The main approaches to split are holdout and n-fold cross validation.\n",
        "*   Training set is used for building (training) the model. \n",
        "*   Testing set is used for testing the generalization ability of the model built.\n",
        "\n",
        "Moreover, inputs($x$) and outputs($y$) must be splitted in each set. \n",
        "\n",
        "\n"
      ]
    },
    {
      "cell_type": "code",
      "execution_count": null,
      "metadata": {
        "colab": {
          "base_uri": "https://localhost:8080/"
        },
        "id": "-vjSR2UWY3gi",
        "outputId": "abfe31a8-92b9-42d3-b2c8-88c5c76456d3"
      },
      "outputs": [
        {
          "output_type": "stream",
          "name": "stdout",
          "text": [
            "The training dataset (inputs) dimensions are:  (168, 147)\n",
            "The training dataset (outputs) dimensions are:  (168, 9)\n",
            "The testing dataset (inputs) dimensions are:  (507, 147)\n",
            "The testing dataset (outputs) dimensions are:  (507, 9)\n"
          ]
        }
      ],
      "source": [
        "# Creating the training dataset \n",
        "train_x = data\n",
        "train_y = label_binarize(classes, classes=['tree ', 'grass ', 'soil ', 'concrete ', 'asphalt ', 'building ', 'car ', 'pool ', 'shadow '])\n",
        "\n",
        "# Creating the testing dataset \n",
        "test_x = datatest\n",
        "test_y = label_binarize(classestest, classes=['tree ', 'grass ', 'soil ', 'concrete ', 'asphalt ', 'building ', 'car ', 'pool ', 'shadow '])\n",
        "\n",
        "# Verifying dataset dimensions\n",
        "print('The training dataset (inputs) dimensions are: ', train_x.shape)\n",
        "print('The training dataset (outputs) dimensions are: ', train_y.shape)\n",
        "print('The testing dataset (inputs) dimensions are: ', test_x.shape)\n",
        "print('The testing dataset (outputs) dimensions are: ', test_y.shape)"
      ]
    },
    {
      "cell_type": "markdown",
      "metadata": {
        "id": "_8NAHkCSh5sr"
      },
      "source": [
        "After creating the datasets, the next step is defining the architecture of our model.\n",
        "\n",
        "It must be defined:\n",
        "\n",
        "\n",
        "*   Architecture: in terms of neurons and layers\n",
        "*   Optimizer: is the algorithm or method used to change the weights in order to minimize the loss function.\n",
        "\n",
        "The last step is compiling the model. In this step the loss function, the optimizer and the evaluation metrics must be defined."
      ]
    },
    {
      "cell_type": "code",
      "execution_count": null,
      "metadata": {
        "id": "zmnZB0CRWVPI"
      },
      "outputs": [],
      "source": [
        "# Function to define model architecture\n",
        "def build_model():\n",
        "  # Defining the architecture\n",
        "  # Sequential = Feedforward Neural Network\n",
        "  # 1 single neuron\n",
        "  # input_shape is the amount of columns from training set\n",
        "  model = keras.Sequential([\n",
        "        layers.Dense(9, input_shape = [len(train_x.columns)], activation=\"relu\"),\n",
        "        layers.Dense(9, activation=\"softmax\")\n",
        "  ])\n",
        "\n",
        "  # Defining the optimizer\n",
        "  optimizer = tf.keras.optimizers.RMSprop(\n",
        "      learning_rate = 0.001)\n",
        "  \n",
        "  # Mean Squared Error (MSE) is the default loss function in regression models\n",
        "  model.compile(loss = 'categorical_crossentropy',\n",
        "      optimizer = optimizer,\n",
        "      metrics = ['categorical_crossentropy','accuracy'])\n",
        "  \n",
        "  return model"
      ]
    },
    {
      "cell_type": "markdown",
      "metadata": {
        "id": "8ZMgKCn8jouX"
      },
      "source": [
        "Just for curiosity, you should observe how many parameters ($\\theta$) your model has.\n",
        "At this point, your model is built."
      ]
    },
    {
      "cell_type": "code",
      "execution_count": null,
      "metadata": {
        "colab": {
          "base_uri": "https://localhost:8080/"
        },
        "id": "a0C1tp1naRoS",
        "outputId": "f74627b9-45b8-46b0-8193-e79479d8fde5"
      },
      "outputs": [
        {
          "output_type": "stream",
          "name": "stdout",
          "text": [
            "Model: \"sequential\"\n",
            "_________________________________________________________________\n",
            " Layer (type)                Output Shape              Param #   \n",
            "=================================================================\n",
            " dense (Dense)               (None, 9)                 1332      \n",
            "                                                                 \n",
            " dense_1 (Dense)             (None, 9)                 90        \n",
            "                                                                 \n",
            "=================================================================\n",
            "Total params: 1,422\n",
            "Trainable params: 1,422\n",
            "Non-trainable params: 0\n",
            "_________________________________________________________________\n"
          ]
        }
      ],
      "source": [
        "model = build_model()\n",
        "model.summary()"
      ]
    },
    {
      "cell_type": "markdown",
      "metadata": {
        "id": "SoQyGcmFWOGS"
      },
      "source": [
        "After creating the model, it must be trained (fitted).\n",
        "Training is done using training set and the amount of epochs must be defined."
      ]
    },
    {
      "cell_type": "code",
      "execution_count": null,
      "metadata": {
        "colab": {
          "base_uri": "https://localhost:8080/"
        },
        "id": "R-Y4iU2naonL",
        "outputId": "b13a1583-408f-465a-e4d8-122840b50b27"
      },
      "outputs": [
        {
          "output_type": "stream",
          "name": "stdout",
          "text": [
            "Epoch 1/200\n",
            "6/6 [==============================] - 1s 3ms/step - loss: 2.2800 - categorical_crossentropy: 2.2800 - accuracy: 0.1131\n",
            "Epoch 2/200\n",
            "6/6 [==============================] - 0s 3ms/step - loss: 2.1827 - categorical_crossentropy: 2.1827 - accuracy: 0.1905\n",
            "Epoch 3/200\n",
            "6/6 [==============================] - 0s 3ms/step - loss: 2.1475 - categorical_crossentropy: 2.1475 - accuracy: 0.2083\n",
            "Epoch 4/200\n",
            "6/6 [==============================] - 0s 7ms/step - loss: 2.1124 - categorical_crossentropy: 2.1124 - accuracy: 0.2202\n",
            "Epoch 5/200\n",
            "6/6 [==============================] - 0s 3ms/step - loss: 2.0847 - categorical_crossentropy: 2.0847 - accuracy: 0.2143\n",
            "Epoch 6/200\n",
            "6/6 [==============================] - 0s 3ms/step - loss: 2.0514 - categorical_crossentropy: 2.0514 - accuracy: 0.2381\n",
            "Epoch 7/200\n",
            "6/6 [==============================] - 0s 3ms/step - loss: 2.0215 - categorical_crossentropy: 2.0215 - accuracy: 0.2500\n",
            "Epoch 8/200\n",
            "6/6 [==============================] - 0s 4ms/step - loss: 1.9932 - categorical_crossentropy: 1.9932 - accuracy: 0.2917\n",
            "Epoch 9/200\n",
            "6/6 [==============================] - 0s 5ms/step - loss: 1.9659 - categorical_crossentropy: 1.9659 - accuracy: 0.2738\n",
            "Epoch 10/200\n",
            "6/6 [==============================] - 0s 3ms/step - loss: 1.9440 - categorical_crossentropy: 1.9440 - accuracy: 0.3095\n",
            "Epoch 11/200\n",
            "6/6 [==============================] - 0s 3ms/step - loss: 1.9138 - categorical_crossentropy: 1.9138 - accuracy: 0.3095\n",
            "Epoch 12/200\n",
            "6/6 [==============================] - 0s 7ms/step - loss: 1.8949 - categorical_crossentropy: 1.8949 - accuracy: 0.3095\n",
            "Epoch 13/200\n",
            "6/6 [==============================] - 0s 3ms/step - loss: 1.8623 - categorical_crossentropy: 1.8623 - accuracy: 0.3155\n",
            "Epoch 14/200\n",
            "6/6 [==============================] - 0s 3ms/step - loss: 1.8337 - categorical_crossentropy: 1.8337 - accuracy: 0.3274\n",
            "Epoch 15/200\n",
            "6/6 [==============================] - 0s 7ms/step - loss: 1.8103 - categorical_crossentropy: 1.8103 - accuracy: 0.3036\n",
            "Epoch 16/200\n",
            "6/6 [==============================] - 0s 3ms/step - loss: 1.7843 - categorical_crossentropy: 1.7843 - accuracy: 0.3631\n",
            "Epoch 17/200\n",
            "6/6 [==============================] - 0s 6ms/step - loss: 1.7585 - categorical_crossentropy: 1.7585 - accuracy: 0.3512\n",
            "Epoch 18/200\n",
            "6/6 [==============================] - 0s 6ms/step - loss: 1.7362 - categorical_crossentropy: 1.7362 - accuracy: 0.3869\n",
            "Epoch 19/200\n",
            "6/6 [==============================] - 0s 7ms/step - loss: 1.7108 - categorical_crossentropy: 1.7108 - accuracy: 0.4167\n",
            "Epoch 20/200\n",
            "6/6 [==============================] - 0s 4ms/step - loss: 1.6888 - categorical_crossentropy: 1.6888 - accuracy: 0.4583\n",
            "Epoch 21/200\n",
            "6/6 [==============================] - 0s 6ms/step - loss: 1.6622 - categorical_crossentropy: 1.6622 - accuracy: 0.4821\n",
            "Epoch 22/200\n",
            "6/6 [==============================] - 0s 3ms/step - loss: 1.6401 - categorical_crossentropy: 1.6401 - accuracy: 0.4643\n",
            "Epoch 23/200\n",
            "6/6 [==============================] - 0s 3ms/step - loss: 1.6163 - categorical_crossentropy: 1.6163 - accuracy: 0.4702\n",
            "Epoch 24/200\n",
            "6/6 [==============================] - 0s 5ms/step - loss: 1.5929 - categorical_crossentropy: 1.5929 - accuracy: 0.5060\n",
            "Epoch 25/200\n",
            "6/6 [==============================] - 0s 4ms/step - loss: 1.5763 - categorical_crossentropy: 1.5763 - accuracy: 0.5119\n",
            "Epoch 26/200\n",
            "6/6 [==============================] - 0s 5ms/step - loss: 1.5516 - categorical_crossentropy: 1.5516 - accuracy: 0.5238\n",
            "Epoch 27/200\n",
            "6/6 [==============================] - 0s 3ms/step - loss: 1.5287 - categorical_crossentropy: 1.5287 - accuracy: 0.5000\n",
            "Epoch 28/200\n",
            "6/6 [==============================] - 0s 3ms/step - loss: 1.5047 - categorical_crossentropy: 1.5047 - accuracy: 0.5417\n",
            "Epoch 29/200\n",
            "6/6 [==============================] - 0s 3ms/step - loss: 1.4826 - categorical_crossentropy: 1.4826 - accuracy: 0.5655\n",
            "Epoch 30/200\n",
            "6/6 [==============================] - 0s 3ms/step - loss: 1.4629 - categorical_crossentropy: 1.4629 - accuracy: 0.5714\n",
            "Epoch 31/200\n",
            "6/6 [==============================] - 0s 4ms/step - loss: 1.4380 - categorical_crossentropy: 1.4380 - accuracy: 0.5655\n",
            "Epoch 32/200\n",
            "6/6 [==============================] - 0s 4ms/step - loss: 1.4177 - categorical_crossentropy: 1.4177 - accuracy: 0.5774\n",
            "Epoch 33/200\n",
            "6/6 [==============================] - 0s 3ms/step - loss: 1.3951 - categorical_crossentropy: 1.3951 - accuracy: 0.5952\n",
            "Epoch 34/200\n",
            "6/6 [==============================] - 0s 7ms/step - loss: 1.3734 - categorical_crossentropy: 1.3734 - accuracy: 0.6131\n",
            "Epoch 35/200\n",
            "6/6 [==============================] - 0s 6ms/step - loss: 1.3509 - categorical_crossentropy: 1.3509 - accuracy: 0.6071\n",
            "Epoch 36/200\n",
            "6/6 [==============================] - 0s 3ms/step - loss: 1.3359 - categorical_crossentropy: 1.3359 - accuracy: 0.6310\n",
            "Epoch 37/200\n",
            "6/6 [==============================] - 0s 6ms/step - loss: 1.3132 - categorical_crossentropy: 1.3132 - accuracy: 0.6310\n",
            "Epoch 38/200\n",
            "6/6 [==============================] - 0s 3ms/step - loss: 1.3000 - categorical_crossentropy: 1.3000 - accuracy: 0.5893\n",
            "Epoch 39/200\n",
            "6/6 [==============================] - 0s 3ms/step - loss: 1.2802 - categorical_crossentropy: 1.2802 - accuracy: 0.6190\n",
            "Epoch 40/200\n",
            "6/6 [==============================] - 0s 3ms/step - loss: 1.2592 - categorical_crossentropy: 1.2592 - accuracy: 0.6310\n",
            "Epoch 41/200\n",
            "6/6 [==============================] - 0s 3ms/step - loss: 1.2442 - categorical_crossentropy: 1.2442 - accuracy: 0.6369\n",
            "Epoch 42/200\n",
            "6/6 [==============================] - 0s 3ms/step - loss: 1.2284 - categorical_crossentropy: 1.2284 - accuracy: 0.6548\n",
            "Epoch 43/200\n",
            "6/6 [==============================] - 0s 6ms/step - loss: 1.2135 - categorical_crossentropy: 1.2135 - accuracy: 0.6905\n",
            "Epoch 44/200\n",
            "6/6 [==============================] - 0s 3ms/step - loss: 1.1950 - categorical_crossentropy: 1.1950 - accuracy: 0.6667\n",
            "Epoch 45/200\n",
            "6/6 [==============================] - 0s 5ms/step - loss: 1.1761 - categorical_crossentropy: 1.1761 - accuracy: 0.6905\n",
            "Epoch 46/200\n",
            "6/6 [==============================] - 0s 3ms/step - loss: 1.1595 - categorical_crossentropy: 1.1595 - accuracy: 0.7083\n",
            "Epoch 47/200\n",
            "6/6 [==============================] - 0s 4ms/step - loss: 1.1423 - categorical_crossentropy: 1.1423 - accuracy: 0.6845\n",
            "Epoch 48/200\n",
            "6/6 [==============================] - 0s 3ms/step - loss: 1.1257 - categorical_crossentropy: 1.1257 - accuracy: 0.7202\n",
            "Epoch 49/200\n",
            "6/6 [==============================] - 0s 5ms/step - loss: 1.1080 - categorical_crossentropy: 1.1080 - accuracy: 0.7024\n",
            "Epoch 50/200\n",
            "6/6 [==============================] - 0s 4ms/step - loss: 1.0921 - categorical_crossentropy: 1.0921 - accuracy: 0.7202\n",
            "Epoch 51/200\n",
            "6/6 [==============================] - 0s 4ms/step - loss: 1.0781 - categorical_crossentropy: 1.0781 - accuracy: 0.7500\n",
            "Epoch 52/200\n",
            "6/6 [==============================] - 0s 3ms/step - loss: 1.0589 - categorical_crossentropy: 1.0589 - accuracy: 0.7202\n",
            "Epoch 53/200\n",
            "6/6 [==============================] - 0s 3ms/step - loss: 1.0450 - categorical_crossentropy: 1.0450 - accuracy: 0.7440\n",
            "Epoch 54/200\n",
            "6/6 [==============================] - 0s 3ms/step - loss: 1.0277 - categorical_crossentropy: 1.0277 - accuracy: 0.7560\n",
            "Epoch 55/200\n",
            "6/6 [==============================] - 0s 3ms/step - loss: 1.0178 - categorical_crossentropy: 1.0178 - accuracy: 0.7560\n",
            "Epoch 56/200\n",
            "6/6 [==============================] - 0s 3ms/step - loss: 0.9995 - categorical_crossentropy: 0.9995 - accuracy: 0.7440\n",
            "Epoch 57/200\n",
            "6/6 [==============================] - 0s 7ms/step - loss: 0.9865 - categorical_crossentropy: 0.9865 - accuracy: 0.7679\n",
            "Epoch 58/200\n",
            "6/6 [==============================] - 0s 4ms/step - loss: 0.9752 - categorical_crossentropy: 0.9752 - accuracy: 0.7738\n",
            "Epoch 59/200\n",
            "6/6 [==============================] - 0s 3ms/step - loss: 0.9623 - categorical_crossentropy: 0.9623 - accuracy: 0.7798\n",
            "Epoch 60/200\n",
            "6/6 [==============================] - 0s 3ms/step - loss: 0.9482 - categorical_crossentropy: 0.9482 - accuracy: 0.7738\n",
            "Epoch 61/200\n",
            "6/6 [==============================] - 0s 3ms/step - loss: 0.9388 - categorical_crossentropy: 0.9388 - accuracy: 0.7798\n",
            "Epoch 62/200\n",
            "6/6 [==============================] - 0s 3ms/step - loss: 0.9291 - categorical_crossentropy: 0.9291 - accuracy: 0.7798\n",
            "Epoch 63/200\n",
            "6/6 [==============================] - 0s 3ms/step - loss: 0.9165 - categorical_crossentropy: 0.9165 - accuracy: 0.7798\n",
            "Epoch 64/200\n",
            "6/6 [==============================] - 0s 3ms/step - loss: 0.9033 - categorical_crossentropy: 0.9033 - accuracy: 0.8036\n",
            "Epoch 65/200\n",
            "6/6 [==============================] - 0s 3ms/step - loss: 0.8953 - categorical_crossentropy: 0.8953 - accuracy: 0.7798\n",
            "Epoch 66/200\n",
            "6/6 [==============================] - 0s 8ms/step - loss: 0.8861 - categorical_crossentropy: 0.8861 - accuracy: 0.8095\n",
            "Epoch 67/200\n",
            "6/6 [==============================] - 0s 5ms/step - loss: 0.8730 - categorical_crossentropy: 0.8730 - accuracy: 0.8095\n",
            "Epoch 68/200\n",
            "6/6 [==============================] - 0s 3ms/step - loss: 0.8659 - categorical_crossentropy: 0.8659 - accuracy: 0.7976\n",
            "Epoch 69/200\n",
            "6/6 [==============================] - 0s 2ms/step - loss: 0.8553 - categorical_crossentropy: 0.8553 - accuracy: 0.7976\n",
            "Epoch 70/200\n",
            "6/6 [==============================] - 0s 2ms/step - loss: 0.8454 - categorical_crossentropy: 0.8454 - accuracy: 0.8095\n",
            "Epoch 71/200\n",
            "6/6 [==============================] - 0s 3ms/step - loss: 0.8382 - categorical_crossentropy: 0.8382 - accuracy: 0.7976\n",
            "Epoch 72/200\n",
            "6/6 [==============================] - 0s 2ms/step - loss: 0.8273 - categorical_crossentropy: 0.8273 - accuracy: 0.8274\n",
            "Epoch 73/200\n",
            "6/6 [==============================] - 0s 3ms/step - loss: 0.8181 - categorical_crossentropy: 0.8181 - accuracy: 0.8155\n",
            "Epoch 74/200\n",
            "6/6 [==============================] - 0s 3ms/step - loss: 0.8082 - categorical_crossentropy: 0.8082 - accuracy: 0.7976\n",
            "Epoch 75/200\n",
            "6/6 [==============================] - 0s 4ms/step - loss: 0.8003 - categorical_crossentropy: 0.8003 - accuracy: 0.8155\n",
            "Epoch 76/200\n",
            "6/6 [==============================] - 0s 3ms/step - loss: 0.7946 - categorical_crossentropy: 0.7946 - accuracy: 0.8095\n",
            "Epoch 77/200\n",
            "6/6 [==============================] - 0s 3ms/step - loss: 0.7875 - categorical_crossentropy: 0.7875 - accuracy: 0.8095\n",
            "Epoch 78/200\n",
            "6/6 [==============================] - 0s 3ms/step - loss: 0.7737 - categorical_crossentropy: 0.7737 - accuracy: 0.8214\n",
            "Epoch 79/200\n",
            "6/6 [==============================] - 0s 4ms/step - loss: 0.7702 - categorical_crossentropy: 0.7702 - accuracy: 0.8274\n",
            "Epoch 80/200\n",
            "6/6 [==============================] - 0s 3ms/step - loss: 0.7680 - categorical_crossentropy: 0.7680 - accuracy: 0.8333\n",
            "Epoch 81/200\n",
            "6/6 [==============================] - 0s 3ms/step - loss: 0.7522 - categorical_crossentropy: 0.7522 - accuracy: 0.8095\n",
            "Epoch 82/200\n",
            "6/6 [==============================] - 0s 3ms/step - loss: 0.7485 - categorical_crossentropy: 0.7485 - accuracy: 0.8333\n",
            "Epoch 83/200\n",
            "6/6 [==============================] - 0s 4ms/step - loss: 0.7412 - categorical_crossentropy: 0.7412 - accuracy: 0.8333\n",
            "Epoch 84/200\n",
            "6/6 [==============================] - 0s 6ms/step - loss: 0.7340 - categorical_crossentropy: 0.7340 - accuracy: 0.8333\n",
            "Epoch 85/200\n",
            "6/6 [==============================] - 0s 3ms/step - loss: 0.7261 - categorical_crossentropy: 0.7261 - accuracy: 0.8155\n",
            "Epoch 86/200\n",
            "6/6 [==============================] - 0s 5ms/step - loss: 0.7239 - categorical_crossentropy: 0.7239 - accuracy: 0.8095\n",
            "Epoch 87/200\n",
            "6/6 [==============================] - 0s 4ms/step - loss: 0.7104 - categorical_crossentropy: 0.7104 - accuracy: 0.8393\n",
            "Epoch 88/200\n",
            "6/6 [==============================] - 0s 3ms/step - loss: 0.7084 - categorical_crossentropy: 0.7084 - accuracy: 0.8333\n",
            "Epoch 89/200\n",
            "6/6 [==============================] - 0s 4ms/step - loss: 0.7037 - categorical_crossentropy: 0.7037 - accuracy: 0.8393\n",
            "Epoch 90/200\n",
            "6/6 [==============================] - 0s 6ms/step - loss: 0.6942 - categorical_crossentropy: 0.6942 - accuracy: 0.8393\n",
            "Epoch 91/200\n",
            "6/6 [==============================] - 0s 3ms/step - loss: 0.6899 - categorical_crossentropy: 0.6899 - accuracy: 0.8274\n",
            "Epoch 92/200\n",
            "6/6 [==============================] - 0s 3ms/step - loss: 0.6851 - categorical_crossentropy: 0.6851 - accuracy: 0.8333\n",
            "Epoch 93/200\n",
            "6/6 [==============================] - 0s 3ms/step - loss: 0.6787 - categorical_crossentropy: 0.6787 - accuracy: 0.8214\n",
            "Epoch 94/200\n",
            "6/6 [==============================] - 0s 3ms/step - loss: 0.6736 - categorical_crossentropy: 0.6736 - accuracy: 0.8333\n",
            "Epoch 95/200\n",
            "6/6 [==============================] - 0s 3ms/step - loss: 0.6688 - categorical_crossentropy: 0.6688 - accuracy: 0.8512\n",
            "Epoch 96/200\n",
            "6/6 [==============================] - 0s 4ms/step - loss: 0.6639 - categorical_crossentropy: 0.6639 - accuracy: 0.8333\n",
            "Epoch 97/200\n",
            "6/6 [==============================] - 0s 4ms/step - loss: 0.6559 - categorical_crossentropy: 0.6559 - accuracy: 0.8393\n",
            "Epoch 98/200\n",
            "6/6 [==============================] - 0s 4ms/step - loss: 0.6530 - categorical_crossentropy: 0.6530 - accuracy: 0.8333\n",
            "Epoch 99/200\n",
            "6/6 [==============================] - 0s 6ms/step - loss: 0.6493 - categorical_crossentropy: 0.6493 - accuracy: 0.8214\n",
            "Epoch 100/200\n",
            "6/6 [==============================] - 0s 3ms/step - loss: 0.6432 - categorical_crossentropy: 0.6432 - accuracy: 0.8393\n",
            "Epoch 101/200\n",
            "6/6 [==============================] - 0s 3ms/step - loss: 0.6373 - categorical_crossentropy: 0.6373 - accuracy: 0.8333\n",
            "Epoch 102/200\n",
            "6/6 [==============================] - 0s 3ms/step - loss: 0.6295 - categorical_crossentropy: 0.6295 - accuracy: 0.8333\n",
            "Epoch 103/200\n",
            "6/6 [==============================] - 0s 3ms/step - loss: 0.6275 - categorical_crossentropy: 0.6275 - accuracy: 0.8333\n",
            "Epoch 104/200\n",
            "6/6 [==============================] - 0s 3ms/step - loss: 0.6240 - categorical_crossentropy: 0.6240 - accuracy: 0.8333\n",
            "Epoch 105/200\n",
            "6/6 [==============================] - 0s 4ms/step - loss: 0.6164 - categorical_crossentropy: 0.6164 - accuracy: 0.8333\n",
            "Epoch 106/200\n",
            "6/6 [==============================] - 0s 3ms/step - loss: 0.6134 - categorical_crossentropy: 0.6134 - accuracy: 0.8274\n",
            "Epoch 107/200\n",
            "6/6 [==============================] - 0s 3ms/step - loss: 0.6101 - categorical_crossentropy: 0.6101 - accuracy: 0.8333\n",
            "Epoch 108/200\n",
            "6/6 [==============================] - 0s 3ms/step - loss: 0.6029 - categorical_crossentropy: 0.6029 - accuracy: 0.8393\n",
            "Epoch 109/200\n",
            "6/6 [==============================] - 0s 4ms/step - loss: 0.6028 - categorical_crossentropy: 0.6028 - accuracy: 0.8333\n",
            "Epoch 110/200\n",
            "6/6 [==============================] - 0s 4ms/step - loss: 0.5932 - categorical_crossentropy: 0.5932 - accuracy: 0.8452\n",
            "Epoch 111/200\n",
            "6/6 [==============================] - 0s 4ms/step - loss: 0.5890 - categorical_crossentropy: 0.5890 - accuracy: 0.8512\n",
            "Epoch 112/200\n",
            "6/6 [==============================] - 0s 3ms/step - loss: 0.5882 - categorical_crossentropy: 0.5882 - accuracy: 0.8393\n",
            "Epoch 113/200\n",
            "6/6 [==============================] - 0s 4ms/step - loss: 0.5823 - categorical_crossentropy: 0.5823 - accuracy: 0.8393\n",
            "Epoch 114/200\n",
            "6/6 [==============================] - 0s 3ms/step - loss: 0.5785 - categorical_crossentropy: 0.5785 - accuracy: 0.8571\n",
            "Epoch 115/200\n",
            "6/6 [==============================] - 0s 5ms/step - loss: 0.5755 - categorical_crossentropy: 0.5755 - accuracy: 0.8393\n",
            "Epoch 116/200\n",
            "6/6 [==============================] - 0s 3ms/step - loss: 0.5721 - categorical_crossentropy: 0.5721 - accuracy: 0.8571\n",
            "Epoch 117/200\n",
            "6/6 [==============================] - 0s 3ms/step - loss: 0.5692 - categorical_crossentropy: 0.5692 - accuracy: 0.8631\n",
            "Epoch 118/200\n",
            "6/6 [==============================] - 0s 2ms/step - loss: 0.5634 - categorical_crossentropy: 0.5634 - accuracy: 0.8512\n",
            "Epoch 119/200\n",
            "6/6 [==============================] - 0s 3ms/step - loss: 0.5643 - categorical_crossentropy: 0.5643 - accuracy: 0.8631\n",
            "Epoch 120/200\n",
            "6/6 [==============================] - 0s 3ms/step - loss: 0.5580 - categorical_crossentropy: 0.5580 - accuracy: 0.8512\n",
            "Epoch 121/200\n",
            "6/6 [==============================] - 0s 3ms/step - loss: 0.5565 - categorical_crossentropy: 0.5565 - accuracy: 0.8393\n",
            "Epoch 122/200\n",
            "6/6 [==============================] - 0s 3ms/step - loss: 0.5506 - categorical_crossentropy: 0.5506 - accuracy: 0.8571\n",
            "Epoch 123/200\n",
            "6/6 [==============================] - 0s 3ms/step - loss: 0.5484 - categorical_crossentropy: 0.5484 - accuracy: 0.8512\n",
            "Epoch 124/200\n",
            "6/6 [==============================] - 0s 4ms/step - loss: 0.5445 - categorical_crossentropy: 0.5445 - accuracy: 0.8512\n",
            "Epoch 125/200\n",
            "6/6 [==============================] - 0s 3ms/step - loss: 0.5395 - categorical_crossentropy: 0.5395 - accuracy: 0.8512\n",
            "Epoch 126/200\n",
            "6/6 [==============================] - 0s 3ms/step - loss: 0.5391 - categorical_crossentropy: 0.5391 - accuracy: 0.8512\n",
            "Epoch 127/200\n",
            "6/6 [==============================] - 0s 4ms/step - loss: 0.5352 - categorical_crossentropy: 0.5352 - accuracy: 0.8571\n",
            "Epoch 128/200\n",
            "6/6 [==============================] - 0s 3ms/step - loss: 0.5323 - categorical_crossentropy: 0.5323 - accuracy: 0.8571\n",
            "Epoch 129/200\n",
            "6/6 [==============================] - 0s 4ms/step - loss: 0.5299 - categorical_crossentropy: 0.5299 - accuracy: 0.8393\n",
            "Epoch 130/200\n",
            "6/6 [==============================] - 0s 3ms/step - loss: 0.5279 - categorical_crossentropy: 0.5279 - accuracy: 0.8452\n",
            "Epoch 131/200\n",
            "6/6 [==============================] - 0s 3ms/step - loss: 0.5188 - categorical_crossentropy: 0.5188 - accuracy: 0.8512\n",
            "Epoch 132/200\n",
            "6/6 [==============================] - 0s 4ms/step - loss: 0.5176 - categorical_crossentropy: 0.5176 - accuracy: 0.8631\n",
            "Epoch 133/200\n",
            "6/6 [==============================] - 0s 3ms/step - loss: 0.5167 - categorical_crossentropy: 0.5167 - accuracy: 0.8452\n",
            "Epoch 134/200\n",
            "6/6 [==============================] - 0s 3ms/step - loss: 0.5121 - categorical_crossentropy: 0.5121 - accuracy: 0.8571\n",
            "Epoch 135/200\n",
            "6/6 [==============================] - 0s 4ms/step - loss: 0.5098 - categorical_crossentropy: 0.5098 - accuracy: 0.8452\n",
            "Epoch 136/200\n",
            "6/6 [==============================] - 0s 5ms/step - loss: 0.5043 - categorical_crossentropy: 0.5043 - accuracy: 0.8690\n",
            "Epoch 137/200\n",
            "6/6 [==============================] - 0s 3ms/step - loss: 0.5065 - categorical_crossentropy: 0.5065 - accuracy: 0.8512\n",
            "Epoch 138/200\n",
            "6/6 [==============================] - 0s 5ms/step - loss: 0.5033 - categorical_crossentropy: 0.5033 - accuracy: 0.8750\n",
            "Epoch 139/200\n",
            "6/6 [==============================] - 0s 5ms/step - loss: 0.4971 - categorical_crossentropy: 0.4971 - accuracy: 0.8690\n",
            "Epoch 140/200\n",
            "6/6 [==============================] - 0s 4ms/step - loss: 0.4930 - categorical_crossentropy: 0.4930 - accuracy: 0.8571\n",
            "Epoch 141/200\n",
            "6/6 [==============================] - 0s 3ms/step - loss: 0.4963 - categorical_crossentropy: 0.4963 - accuracy: 0.8571\n",
            "Epoch 142/200\n",
            "6/6 [==============================] - 0s 3ms/step - loss: 0.4888 - categorical_crossentropy: 0.4888 - accuracy: 0.8452\n",
            "Epoch 143/200\n",
            "6/6 [==============================] - 0s 3ms/step - loss: 0.4895 - categorical_crossentropy: 0.4895 - accuracy: 0.8512\n",
            "Epoch 144/200\n",
            "6/6 [==============================] - 0s 5ms/step - loss: 0.4877 - categorical_crossentropy: 0.4877 - accuracy: 0.8452\n",
            "Epoch 145/200\n",
            "6/6 [==============================] - 0s 3ms/step - loss: 0.4833 - categorical_crossentropy: 0.4833 - accuracy: 0.8571\n",
            "Epoch 146/200\n",
            "6/6 [==============================] - 0s 3ms/step - loss: 0.4817 - categorical_crossentropy: 0.4817 - accuracy: 0.8512\n",
            "Epoch 147/200\n",
            "6/6 [==============================] - 0s 3ms/step - loss: 0.4780 - categorical_crossentropy: 0.4780 - accuracy: 0.8571\n",
            "Epoch 148/200\n",
            "6/6 [==============================] - 0s 4ms/step - loss: 0.4767 - categorical_crossentropy: 0.4767 - accuracy: 0.8631\n",
            "Epoch 149/200\n",
            "6/6 [==============================] - 0s 5ms/step - loss: 0.4735 - categorical_crossentropy: 0.4735 - accuracy: 0.8452\n",
            "Epoch 150/200\n",
            "6/6 [==============================] - 0s 5ms/step - loss: 0.4686 - categorical_crossentropy: 0.4686 - accuracy: 0.8631\n",
            "Epoch 151/200\n",
            "6/6 [==============================] - 0s 4ms/step - loss: 0.4703 - categorical_crossentropy: 0.4703 - accuracy: 0.8571\n",
            "Epoch 152/200\n",
            "6/6 [==============================] - 0s 5ms/step - loss: 0.4653 - categorical_crossentropy: 0.4653 - accuracy: 0.8631\n",
            "Epoch 153/200\n",
            "6/6 [==============================] - 0s 6ms/step - loss: 0.4633 - categorical_crossentropy: 0.4633 - accuracy: 0.8750\n",
            "Epoch 154/200\n",
            "6/6 [==============================] - 0s 3ms/step - loss: 0.4625 - categorical_crossentropy: 0.4625 - accuracy: 0.8869\n",
            "Epoch 155/200\n",
            "6/6 [==============================] - 0s 4ms/step - loss: 0.4582 - categorical_crossentropy: 0.4582 - accuracy: 0.8750\n",
            "Epoch 156/200\n",
            "6/6 [==============================] - 0s 4ms/step - loss: 0.4608 - categorical_crossentropy: 0.4608 - accuracy: 0.8690\n",
            "Epoch 157/200\n",
            "6/6 [==============================] - 0s 3ms/step - loss: 0.4540 - categorical_crossentropy: 0.4540 - accuracy: 0.8631\n",
            "Epoch 158/200\n",
            "6/6 [==============================] - 0s 4ms/step - loss: 0.4549 - categorical_crossentropy: 0.4549 - accuracy: 0.8571\n",
            "Epoch 159/200\n",
            "6/6 [==============================] - 0s 4ms/step - loss: 0.4530 - categorical_crossentropy: 0.4530 - accuracy: 0.8750\n",
            "Epoch 160/200\n",
            "6/6 [==============================] - 0s 3ms/step - loss: 0.4492 - categorical_crossentropy: 0.4492 - accuracy: 0.8631\n",
            "Epoch 161/200\n",
            "6/6 [==============================] - 0s 3ms/step - loss: 0.4486 - categorical_crossentropy: 0.4486 - accuracy: 0.8690\n",
            "Epoch 162/200\n",
            "6/6 [==============================] - 0s 6ms/step - loss: 0.4462 - categorical_crossentropy: 0.4462 - accuracy: 0.8810\n",
            "Epoch 163/200\n",
            "6/6 [==============================] - 0s 5ms/step - loss: 0.4422 - categorical_crossentropy: 0.4422 - accuracy: 0.8631\n",
            "Epoch 164/200\n",
            "6/6 [==============================] - 0s 5ms/step - loss: 0.4420 - categorical_crossentropy: 0.4420 - accuracy: 0.8631\n",
            "Epoch 165/200\n",
            "6/6 [==============================] - 0s 5ms/step - loss: 0.4389 - categorical_crossentropy: 0.4389 - accuracy: 0.8690\n",
            "Epoch 166/200\n",
            "6/6 [==============================] - 0s 4ms/step - loss: 0.4358 - categorical_crossentropy: 0.4358 - accuracy: 0.8810\n",
            "Epoch 167/200\n",
            "6/6 [==============================] - 0s 4ms/step - loss: 0.4387 - categorical_crossentropy: 0.4387 - accuracy: 0.8690\n",
            "Epoch 168/200\n",
            "6/6 [==============================] - 0s 4ms/step - loss: 0.4317 - categorical_crossentropy: 0.4317 - accuracy: 0.8690\n",
            "Epoch 169/200\n",
            "6/6 [==============================] - 0s 3ms/step - loss: 0.4337 - categorical_crossentropy: 0.4337 - accuracy: 0.8690\n",
            "Epoch 170/200\n",
            "6/6 [==============================] - 0s 3ms/step - loss: 0.4274 - categorical_crossentropy: 0.4274 - accuracy: 0.8810\n",
            "Epoch 171/200\n",
            "6/6 [==============================] - 0s 4ms/step - loss: 0.4274 - categorical_crossentropy: 0.4274 - accuracy: 0.8690\n",
            "Epoch 172/200\n",
            "6/6 [==============================] - 0s 3ms/step - loss: 0.4284 - categorical_crossentropy: 0.4284 - accuracy: 0.8750\n",
            "Epoch 173/200\n",
            "6/6 [==============================] - 0s 3ms/step - loss: 0.4231 - categorical_crossentropy: 0.4231 - accuracy: 0.8750\n",
            "Epoch 174/200\n",
            "6/6 [==============================] - 0s 3ms/step - loss: 0.4213 - categorical_crossentropy: 0.4213 - accuracy: 0.8631\n",
            "Epoch 175/200\n",
            "6/6 [==============================] - 0s 3ms/step - loss: 0.4217 - categorical_crossentropy: 0.4217 - accuracy: 0.8929\n",
            "Epoch 176/200\n",
            "6/6 [==============================] - 0s 3ms/step - loss: 0.4174 - categorical_crossentropy: 0.4174 - accuracy: 0.8750\n",
            "Epoch 177/200\n",
            "6/6 [==============================] - 0s 3ms/step - loss: 0.4190 - categorical_crossentropy: 0.4190 - accuracy: 0.8810\n",
            "Epoch 178/200\n",
            "6/6 [==============================] - 0s 3ms/step - loss: 0.4134 - categorical_crossentropy: 0.4134 - accuracy: 0.9048\n",
            "Epoch 179/200\n",
            "6/6 [==============================] - 0s 6ms/step - loss: 0.4099 - categorical_crossentropy: 0.4099 - accuracy: 0.8810\n",
            "Epoch 180/200\n",
            "6/6 [==============================] - 0s 4ms/step - loss: 0.4111 - categorical_crossentropy: 0.4111 - accuracy: 0.8750\n",
            "Epoch 181/200\n",
            "6/6 [==============================] - 0s 4ms/step - loss: 0.4083 - categorical_crossentropy: 0.4083 - accuracy: 0.8810\n",
            "Epoch 182/200\n",
            "6/6 [==============================] - 0s 4ms/step - loss: 0.4103 - categorical_crossentropy: 0.4103 - accuracy: 0.8988\n",
            "Epoch 183/200\n",
            "6/6 [==============================] - 0s 5ms/step - loss: 0.4028 - categorical_crossentropy: 0.4028 - accuracy: 0.8869\n",
            "Epoch 184/200\n",
            "6/6 [==============================] - 0s 4ms/step - loss: 0.4059 - categorical_crossentropy: 0.4059 - accuracy: 0.8810\n",
            "Epoch 185/200\n",
            "6/6 [==============================] - 0s 3ms/step - loss: 0.4030 - categorical_crossentropy: 0.4030 - accuracy: 0.8750\n",
            "Epoch 186/200\n",
            "6/6 [==============================] - 0s 3ms/step - loss: 0.3987 - categorical_crossentropy: 0.3987 - accuracy: 0.8810\n",
            "Epoch 187/200\n",
            "6/6 [==============================] - 0s 5ms/step - loss: 0.4036 - categorical_crossentropy: 0.4036 - accuracy: 0.8810\n",
            "Epoch 188/200\n",
            "6/6 [==============================] - 0s 3ms/step - loss: 0.3996 - categorical_crossentropy: 0.3996 - accuracy: 0.8869\n",
            "Epoch 189/200\n",
            "6/6 [==============================] - 0s 5ms/step - loss: 0.3978 - categorical_crossentropy: 0.3978 - accuracy: 0.8810\n",
            "Epoch 190/200\n",
            "6/6 [==============================] - 0s 6ms/step - loss: 0.3948 - categorical_crossentropy: 0.3948 - accuracy: 0.8750\n",
            "Epoch 191/200\n",
            "6/6 [==============================] - 0s 4ms/step - loss: 0.3920 - categorical_crossentropy: 0.3920 - accuracy: 0.8929\n",
            "Epoch 192/200\n",
            "6/6 [==============================] - 0s 4ms/step - loss: 0.3914 - categorical_crossentropy: 0.3914 - accuracy: 0.9107\n",
            "Epoch 193/200\n",
            "6/6 [==============================] - 0s 4ms/step - loss: 0.3893 - categorical_crossentropy: 0.3893 - accuracy: 0.8869\n",
            "Epoch 194/200\n",
            "6/6 [==============================] - 0s 4ms/step - loss: 0.3886 - categorical_crossentropy: 0.3886 - accuracy: 0.8988\n",
            "Epoch 195/200\n",
            "6/6 [==============================] - 0s 3ms/step - loss: 0.3861 - categorical_crossentropy: 0.3861 - accuracy: 0.8988\n",
            "Epoch 196/200\n",
            "6/6 [==============================] - 0s 7ms/step - loss: 0.3872 - categorical_crossentropy: 0.3872 - accuracy: 0.8988\n",
            "Epoch 197/200\n",
            "6/6 [==============================] - 0s 6ms/step - loss: 0.3843 - categorical_crossentropy: 0.3843 - accuracy: 0.8929\n",
            "Epoch 198/200\n",
            "6/6 [==============================] - 0s 4ms/step - loss: 0.3804 - categorical_crossentropy: 0.3804 - accuracy: 0.9107\n",
            "Epoch 199/200\n",
            "6/6 [==============================] - 0s 3ms/step - loss: 0.3829 - categorical_crossentropy: 0.3829 - accuracy: 0.9107\n",
            "Epoch 200/200\n",
            "6/6 [==============================] - 0s 5ms/step - loss: 0.3829 - categorical_crossentropy: 0.3829 - accuracy: 0.8988\n"
          ]
        }
      ],
      "source": [
        "EPOCHS = 200\n",
        "\n",
        "history = model.fit(\n",
        "    train_x, train_y, epochs = EPOCHS, verbose = 1\n",
        ")"
      ]
    },
    {
      "cell_type": "markdown",
      "metadata": {
        "id": "b5znM4xvHLcp"
      },
      "source": [
        "This plot should be generated just to inspect the learning convergence. \n",
        "It is expected a decreasing of the loss function value through the epochs.\n"
      ]
    },
    {
      "cell_type": "code",
      "execution_count": null,
      "metadata": {
        "colab": {
          "base_uri": "https://localhost:8080/",
          "height": 295
        },
        "collapsed": true,
        "id": "LfbEFBSHz7KC",
        "outputId": "99f99b77-ec0f-473a-83b8-72cfc9101ec4"
      },
      "outputs": [
        {
          "output_type": "display_data",
          "data": {
            "text/plain": [
              "<Figure size 432x288 with 1 Axes>"
            ],
            "image/png": "[encoded data removed]"
          },
          "metadata": {
            "needs_background": "light"
          }
        }
      ],
      "source": [
        "plt.plot(history.history['categorical_crossentropy'])\n",
        "plt.title('Training Categorical Cross Entropy')\n",
        "plt.ylabel('Categorical Cross Entropy')\n",
        "plt.xlabel('Epoch')\n",
        "plt.legend(['Error'], loc='upper right')\n",
        "plt.savefig(\"trainingerror.pdf\")\n",
        "plt.show()"
      ]
    },
    {
      "cell_type": "code",
      "source": [
        "plt.plot(history.history['accuracy'])\n",
        "plt.title('Training Accuracy')\n",
        "plt.ylabel('Accuracy')\n",
        "plt.xlabel('Epoch')\n",
        "plt.legend(['Accuracy'], loc='lower right')\n",
        "plt.savefig(\"trainingaccuracy.pdf\")\n",
        "plt.show()"
      ],
      "metadata": {
        "colab": {
          "base_uri": "https://localhost:8080/",
          "height": 295
        },
        "id": "kcKssf0sOqFY",
        "outputId": "a815171b-b491-4e0f-8348-550fd9f6b1cc"
      },
      "execution_count": null,
      "outputs": [
        {
          "output_type": "display_data",
          "data": {
            "text/plain": [
              "<Figure size 432x288 with 1 Axes>"
            ],
            "image/png": "[encoded data removed]"
          },
          "metadata": {
            "needs_background": "light"
          }
        }
      ]
    },
    {
      "cell_type": "markdown",
      "metadata": {
        "id": "YTqSvbNeOJG5"
      },
      "source": [
        "After the training process, the knowledge learnt by a neural network is stored in its weights."
      ]
    },
    {
      "cell_type": "markdown",
      "metadata": {
        "id": "J9ZQbtPLOfze"
      },
      "source": [
        "After the training process, the model should be tested in order to measure its quality, it means, how good are its predictions. The model must be evaluated using the testing set, which is composed by samples that are not in the training set. In regression problems, the correlation coefficient is the default metric to measure the model quality.\n",
        "The correlation coefficient is computed using real outputs ($y$) and predicted outputs ($\\hat{y}$). Correlation coefficient can vary between 0 (bad predictions) and 1 (perfect predictions). "
      ]
    },
    {
      "cell_type": "code",
      "execution_count": null,
      "metadata": {
        "id": "l5PeLuUK06cw",
        "colab": {
          "base_uri": "https://localhost:8080/"
        },
        "outputId": "b583fe75-c95f-42fe-d2d2-15481836784d"
      },
      "outputs": [
        {
          "output_type": "stream",
          "name": "stdout",
          "text": [
            "16/16 [==============================] - 0s 2ms/step\n",
            "[[70 13  0  1  0  0  0  0  1]\n",
            " [10 65  5  0  0  0  0  1  0]\n",
            " [ 0  2 10  5  1  3  1  0  0]\n",
            " [ 0  0  3 80  0 18  1  0  0]\n",
            " [ 4  0  0  0 34  1  1  0  2]\n",
            " [ 0  2  2  5  0 71  1  3  0]\n",
            " [ 2  1  0  2  0  2 17  0  0]\n",
            " [ 0  0  0  0  0  0  0 10  2]\n",
            " [ 3  0  0  0 10  2  0  0 40]]\n",
            "              precision    recall  f1-score   support\n",
            "\n",
            "       tree        0.79      0.82      0.80        85\n",
            "      grass        0.78      0.80      0.79        81\n",
            "       soil        0.50      0.45      0.48        22\n",
            "   concrete        0.86      0.78      0.82       102\n",
            "    asphalt        0.76      0.81      0.78        42\n",
            "   building        0.73      0.85      0.78        84\n",
            "        car        0.81      0.71      0.76        24\n",
            "       pool        0.71      0.83      0.77        12\n",
            "     shadow        0.89      0.73      0.80        55\n",
            "\n",
            "    accuracy                           0.78       507\n",
            "   macro avg       0.76      0.75      0.75       507\n",
            "weighted avg       0.79      0.78      0.78       507\n",
            "\n",
            "The accuracy on the test set is equal to: 0.7830 \n"
          ]
        }
      ],
      "source": [
        "test_predictions = model.predict(test_x) # predict randon activities with the built linear regression model\n",
        "print(confusion_matrix(test_predictions.argmax(axis=1), test_y.argmax(axis=1)))\n",
        "print(classification_report(test_predictions.argmax(axis=1), test_y.argmax(axis=1), target_names=['tree ', 'grass ', 'soil ', 'concrete ', 'asphalt ', 'building ', 'car ', 'pool ', 'shadow ']))\n",
        "print('The accuracy on the test set is equal to: %.4f ' % accuracy_score(test_predictions.argmax(axis=1), test_y.argmax(axis=1)))"
      ]
    },
    {
      "cell_type": "code",
      "source": [
        "cm = confusion_matrix(test_predictions.argmax(axis=1), test_y.argmax(axis=1))\n",
        "disp = ConfusionMatrixDisplay(confusion_matrix=cm, display_labels=['tree', 'grass', 'soil', 'conc', 'asph', 'build', 'car', 'pool', 'shad'])\n",
        "disp.plot(cmap=\"bwr\")\n",
        "plt.title('Confusion Matrix for Testing Set')\n",
        "plt.savefig(\"confusionmatrix.pdf\")\n",
        "plt.show()"
      ],
      "metadata": {
        "colab": {
          "base_uri": "https://localhost:8080/",
          "height": 295
        },
        "id": "FCqcb_ajIXIx",
        "outputId": "7971bc22-8b3d-45fa-dd9a-bf16f32b7caa"
      },
      "execution_count": null,
      "outputs": [
        {
          "output_type": "display_data",
          "data": {
            "text/plain": [
              "<Figure size 432x288 with 2 Axes>"
            ],
            "image/png": "[encoded data removed]"
          },
          "metadata": {
            "needs_background": "light"
          }
        }
      ]
    },
    {
      "cell_type": "code",
      "execution_count": null,
      "metadata": {
        "id": "Q2EHI_hd4OdI",
        "colab": {
          "base_uri": "https://localhost:8080/"
        },
        "outputId": "e5e141d5-5fb3-434e-ff76-3ef3ecee66c8"
      },
      "outputs": [
        {
          "output_type": "stream",
          "name": "stdout",
          "text": [
            "6/6 [==============================] - 0s 2ms/step\n",
            "[[14  1  0  0  0  0  0  0  0]\n",
            " [ 2 28  2  0  0  1  0  0  0]\n",
            " [ 0  0 11  0  0  0  0  0  0]\n",
            " [ 1  0  1 22  0  2  0  0  0]\n",
            " [ 0  0  0  0 11  0  0  1  0]\n",
            " [ 0  0  0  1  0 21  1  0  0]\n",
            " [ 0  0  0  0  0  1 14  0  0]\n",
            " [ 0  0  0  0  0  0  0 14  0]\n",
            " [ 0  0  0  0  3  0  0  0 16]]\n",
            "              precision    recall  f1-score   support\n",
            "\n",
            "       tree        0.82      0.93      0.87        15\n",
            "      grass        0.97      0.85      0.90        33\n",
            "       soil        0.79      1.00      0.88        11\n",
            "   concrete        0.96      0.85      0.90        26\n",
            "    asphalt        0.79      0.92      0.85        12\n",
            "   building        0.84      0.91      0.87        23\n",
            "        car        0.93      0.93      0.93        15\n",
            "       pool        0.93      1.00      0.97        14\n",
            "     shadow        1.00      0.84      0.91        19\n",
            "\n",
            "    accuracy                           0.90       168\n",
            "   macro avg       0.89      0.91      0.90       168\n",
            "weighted avg       0.91      0.90      0.90       168\n",
            "\n",
            "The accuracy on the training set is equal to: 0.8988 \n"
          ]
        }
      ],
      "source": [
        "train_predictions = model.predict(train_x) \n",
        "print(confusion_matrix(train_predictions.argmax(axis=1), train_y.argmax(axis=1)))\n",
        "print(classification_report(train_predictions.argmax(axis=1), train_y.argmax(axis=1), target_names=['tree ', 'grass ', 'soil ', 'concrete ', 'asphalt ', 'building ', 'car ', 'pool ', 'shadow ']))\n",
        "print('The accuracy on the training set is equal to: %.4f ' % accuracy_score(train_predictions.argmax(axis=1), train_y.argmax(axis=1)))"
      ]
    },
    {
      "cell_type": "code",
      "source": [
        "!pip3 install ann_visualizer\n",
        "from ann_visualizer.visualize import ann_viz\n",
        "ann_viz(model, view=True, filename=\"my_model\", title=\"Simple Architecture\")"
      ],
      "metadata": {
        "id": "hypm59Drh4xj",
        "colab": {
          "base_uri": "https://localhost:8080/"
        },
        "outputId": "775ccd2f-f4d3-474c-aa6e-deba3ddb6b01"
      },
      "execution_count": null,
      "outputs": [
        {
          "output_type": "stream",
          "name": "stdout",
          "text": [
            "Looking in indexes: https://pypi.org/simple, https://us-python.pkg.dev/colab-wheels/public/simple/\n",
            "Requirement already satisfied: ann_visualizer in /usr/local/lib/python3.7/dist-packages (2.5)\n"
          ]
        }
      ]
    }
  ],
  "metadata": {
    "colab": {
      "collapsed_sections": [],
      "provenance": []
    },
    "kernelspec": {
      "display_name": "Python 3",
      "name": "python3"
    },
    "language_info": {
      "name": "python"
    }
  },
  "nbformat": 4,
  "nbformat_minor": 0
}