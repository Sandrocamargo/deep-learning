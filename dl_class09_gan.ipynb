{
  "nbformat": 4,
  "nbformat_minor": 0,
  "metadata": {
    "colab": {
      "provenance": [],
      "gpuType": "A100"
    },
    "kernelspec": {
      "name": "python3",
      "display_name": "Python 3"
    },
    "language_info": {
      "name": "python"
    },
    "accelerator": "GPU"
  },
  "cells": [
    {
      "cell_type": "code",
      "execution_count": null,
      "metadata": {
        "id": "4FN1I9Cot62R"
      },
      "outputs": [],
      "source": [
        "import numpy as np\n",
        "import matplotlib.pyplot as plt\n",
        "import tensorflow as tf\n",
        "from tensorflow.keras import layers, models, datasets\n",
        "\n",
        "# -------------------------------\n",
        "# 1. Carregar e normalizar o MNIST\n",
        "# -------------------------------\n",
        "(x_train, _), (x_test, _) = datasets.mnist.load_data()\n",
        "x_train = x_train.astype(\"float32\") / 255.0\n",
        "x_test = x_test.astype(\"float32\") / 255.0\n",
        "x_train = np.reshape(x_train, (len(x_train), 28, 28, 1))\n",
        "x_test = np.reshape(x_test, (len(x_test), 28, 28, 1))\n",
        "\n",
        "# -------------------------------\n",
        "# 2. Criar Autoencoder\n",
        "# -------------------------------\n",
        "latent_dim = 32  # tamanho do gargalo\n",
        "\n",
        "# Encoder\n",
        "inputs = tf.keras.Input(shape=(28,28,1))\n",
        "x = layers.Flatten()(inputs)\n",
        "x = layers.Dense(128, activation=\"relu\")(x)\n",
        "x = layers.Dense(64, activation=\"relu\")(x)\n",
        "latent = layers.Dense(latent_dim, name=\"bottleneck\")(x)\n",
        "encoder = tf.keras.Model(inputs, latent, name=\"encoder\")\n",
        "\n",
        "# Decoder\n",
        "latent_inputs = tf.keras.Input(shape=(latent_dim,))\n",
        "x = layers.Dense(64, activation=\"relu\")(latent_inputs)\n",
        "x = layers.Dense(128, activation=\"relu\")(x)\n",
        "x = layers.Dense(28*28, activation=\"sigmoid\")(x)\n",
        "outputs = layers.Reshape((28,28,1))(x)\n",
        "decoder = tf.keras.Model(latent_inputs, outputs, name=\"decoder\")\n",
        "\n",
        "# Autoencoder\n",
        "autoencoder = tf.keras.Model(inputs, decoder(encoder(inputs)), name=\"autoencoder\")\n",
        "autoencoder.compile(optimizer=\"adam\", loss=\"mse\")\n",
        "\n",
        "# -------------------------------\n",
        "# 3. Treinar Autoencoder\n",
        "# -------------------------------\n",
        "autoencoder.fit(x_train, x_train,\n",
        "                epochs=200,\n",
        "                batch_size=256,\n",
        "                shuffle=True,\n",
        "                # validation_data=(x_test, x_test),\n",
        "                validation_split=0.2,  # 20% dos dados de treino usados para validação\n",
        "                verbose=1)\n",
        "\n",
        "# -------------------------------\n",
        "# 4. Gerar novas imagens a partir do latent space\n",
        "# -------------------------------\n",
        "num_samples = 100  # quantas imagens gerar\n",
        "latent_vectors = np.random.normal(size=(num_samples, latent_dim))  # amostra aleatória no espaço latente\n",
        "\n",
        "generated_images = decoder.predict(latent_vectors)\n"
      ]
    },
    {
      "cell_type": "code",
      "source": [
        "# -------------------------------\n",
        "# 5. Visualizar imagens em várias linhas (5 imagens por linha)\n",
        "# -------------------------------\n",
        "images_per_row = 5\n",
        "num_rows = int(np.ceil(num_samples / images_per_row))\n",
        "\n",
        "plt.figure(figsize=(images_per_row*2, num_rows*2))\n",
        "for i in range(num_samples):\n",
        "    plt.subplot(num_rows, images_per_row, i+1)\n",
        "    plt.imshow(generated_images[i].squeeze(), cmap='gray')\n",
        "    plt.axis('off')\n",
        "    # Se houver rótulo conhecido, exibe como título\n",
        "    if 'labels_generated' in locals():\n",
        "        plt.title(f\"Digit: {labels_generated[i]}\")\n",
        "plt.suptitle(\"Novas imagens geradas pelo decoder\")\n",
        "plt.tight_layout()\n",
        "plt.show()\n",
        "\n",
        "\n",
        "\n",
        "\n",
        "plt.figure(figsize=(images_per_row*2, num_rows*2))\n",
        "for i in range(num_samples):\n",
        "    plt.subplot(num_rows, images_per_row, i+1)\n",
        "    plt.imshow(generated_images[i].squeeze(), cmap='gray')\n",
        "    plt.axis('off')\n",
        "plt.suptitle(\"Novas imagens geradas pelo decoder\")\n",
        "plt.show()"
      ],
      "metadata": {
        "id": "4fMg9k79u8Hw"
      },
      "execution_count": null,
      "outputs": []
    }
  ]
}