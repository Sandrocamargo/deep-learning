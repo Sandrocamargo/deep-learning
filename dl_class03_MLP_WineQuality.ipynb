{
  "cells": [
    {
      "cell_type": "markdown",
      "metadata": {
        "id": "uRBOW3_i2SjV"
      },
      "source": [
        "# Course: Deep Learning\n",
        "# Author: Sandro Camargo <sandrocamargo@unipampa.edu.br>\n",
        "# Multilayer Perceptron - Regression Example\n",
        "# Dataset: https://archive.ics.uci.edu/dataset/186/wine+quality\n",
        "\n",
        "To open this code in your Google Colab environment, [click here](https://colab.research.google.com/github/Sandrocamargo/deep-learning/blob/master/dl_class03_MLP_WineQuality.ipynb).\n",
        "\n",
        "Cite: Cortez,Paulo, Cerdeira,A., Almeida,F., Matos,T., and Reis,J.. (2009). Wine Quality. UCI Machine Learning Repository. https://doi.org/10.24432/C56S3T.\n",
        "\n",
        "References:\n",
        "\n",
        "ROSSO, E. D. S. ; CAMARGO, S. S. . Predição de Qualidade de Vinhos : Um enfoque de Inteligência Artificial. In: XI SIMPÓSIO DA CIÊNCIA DO AGRONEGÓCIO, 2023, Porto Alegre. Anais do XI Cienagro, 2023.\n",
        "\n",
        "PIRES, A. S. ; TRENTIN, G. ; MORAES, C. C. ; CAMARGO, S. S. . Modelos Computacionais para Predição da Qualidade Sensorial de Vinhos a partir de Características Químicas. In: Computer on The Beach, 2018, Itajaí, SC. Anais do Computer on the Beach, 2018. v. 1. p. 238-247."
      ]
    },
    {
      "cell_type": "markdown",
      "metadata": {
        "id": "SAagETTY_8Gz"
      },
      "source": [
        "# Deep Learning Process Overview\n",
        "\n",
        "![process.png](data:image/png;base64,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)"
      ]
    },
    {
      "cell_type": "markdown",
      "metadata": {
        "id": "pzE3mVyEAE0u"
      },
      "source": [
        "A Python library is a collection of related functions. A library contains bundles of encapsuated code which can be used repeatedly in different programs."
      ]
    },
    {
      "cell_type": "code",
      "execution_count": null,
      "metadata": {
        "id": "QxK4-L-sf5xG"
      },
      "outputs": [],
      "source": [
        "!pip install ucimlrepo\n",
        "\n",
        "# Import Libraries\n",
        "import keras # Neural Network Library\n",
        "from keras import layers # Layers to a neural network\n",
        "from keras import optimizers # optimizers\n",
        "from sklearn.preprocessing import MinMaxScaler\n",
        "import pandas as pd # Data Manipulation library\n",
        "import numpy as np # Fast Numeric Computing library\n",
        "import tensorflow as tf # Optimizers\n",
        "import matplotlib.pyplot as plt # Plot library\n",
        "from tensorflow.keras.utils import plot_model # Print the network"
      ]
    },
    {
      "cell_type": "markdown",
      "metadata": {
        "id": "p4gxxyl0AUmb"
      },
      "source": [
        "Reading the dataset"
      ]
    },
    {
      "cell_type": "code",
      "execution_count": null,
      "metadata": {
        "id": "Il82Yxh3f_P_"
      },
      "outputs": [],
      "source": [
        "from ucimlrepo import fetch_ucirepo\n",
        "\n",
        "# fetch dataset\n",
        "wine_quality = fetch_ucirepo(id=186)\n",
        "\n",
        "# data (as pandas dataframes)\n",
        "X = wine_quality.data.features\n",
        "y = wine_quality.data.targets\n",
        "\n",
        "# metadata\n",
        "print(wine_quality.metadata)"
      ]
    },
    {
      "cell_type": "code",
      "execution_count": null,
      "metadata": {
        "id": "0aLMYzgfhD9r"
      },
      "outputs": [],
      "source": [
        "X.info()"
      ]
    },
    {
      "cell_type": "code",
      "source": [
        "X.describe()"
      ],
      "metadata": {
        "id": "HbmmKW5ivvWs"
      },
      "execution_count": null,
      "outputs": []
    },
    {
      "cell_type": "code",
      "source": [
        "y.describe()"
      ],
      "metadata": {
        "id": "vz5seh_ywKwU"
      },
      "execution_count": null,
      "outputs": []
    },
    {
      "cell_type": "code",
      "execution_count": null,
      "metadata": {
        "id": "KAJR1wsaWD-J"
      },
      "outputs": [],
      "source": [
        "scalerX = MinMaxScaler()\n",
        "print(scalerX.fit(X))\n",
        "MinMaxScaler()\n",
        "X = pd.DataFrame(scalerX.transform(X))\n",
        "\n",
        "y = y/10"
      ]
    },
    {
      "cell_type": "markdown",
      "metadata": {
        "id": "GZQISA0CCsRd"
      },
      "source": [
        "The dataset must be randomly splitted in two parts: training set and testing set. The main approaches to split are holdout and n-fold cross validation.\n",
        "*   Training set is used for building (training) the model.\n",
        "*   Testing set is used for testing the generalization ability of the model built.\n",
        "\n",
        "Moreover, inputs($x$) and outputs($y$) must be splitted in each set.\n"
      ]
    },
    {
      "cell_type": "code",
      "execution_count": null,
      "metadata": {
        "id": "Tx9ZMhrNhQov"
      },
      "outputs": [],
      "source": [
        "np.random.seed(1) # Random numbers will be ever the same\n",
        "rnd = np.random.rand(len(X)) < 0.8 # Training set will contain 80% of the data\n",
        "\n",
        "# Creating the training dataset (80%)\n",
        "train_x = X[rnd]\n",
        "train_y = y[rnd]\n",
        "\n",
        "# Creating the testing dataset (20%)\n",
        "test_x = X[~rnd]\n",
        "test_y = y[~rnd]\n",
        "\n",
        "# Verifying dataset dimensions\n",
        "print('The training dataset (inputs) dimensions are: ', train_x.shape)\n",
        "print('The training dataset (outputs) dimensions are: ', train_y.shape)\n",
        "print('The testing dataset (inputs) dimensions are: ', test_x.shape)\n",
        "print('The testing dataset (outputs) dimensions are: ', test_y.shape)"
      ]
    },
    {
      "cell_type": "markdown",
      "metadata": {
        "id": "CeqN4E8PDHM_"
      },
      "source": [
        "After creating the datasets, the next step is defining the architecture of our model.\n",
        "\n",
        "It must be defined:\n",
        "\n",
        "\n",
        "*   Architecture: in terms of neurons and layers\n",
        "*   Optimizer: is the algorithm or method used to change the weights in order to minimize the loss function.\n",
        "\n",
        "The last step is compiling the model. In this step the loss function, the optimizer and the evaluation metrics must be defined."
      ]
    },
    {
      "cell_type": "code",
      "execution_count": null,
      "metadata": {
        "id": "rQTVcxTOhlgt"
      },
      "outputs": [],
      "source": [
        "# Function to define model architecture\n",
        "def build_model():\n",
        "  # Defining the architecture\n",
        "  # Sequential = Feedforward Neural Network\n",
        "  # 1 single neuron\n",
        "  # input_shape is the amount of columns from training set\n",
        "  model = keras.Sequential([\n",
        "        layers.Input(shape=[len(train_x.columns)]),\n",
        "        layers.Dense(2, activation='relu'),\n",
        "        layers.Dense(2, activation='relu'),\n",
        "        layers.Dense(1)\n",
        "  ])\n",
        "\n",
        "  # Defining the optimizer\n",
        "  optimizer = tf.keras.optimizers.RMSprop(\n",
        "      learning_rate = 0.001)\n",
        "\n",
        "  # Mean Squared Error (MSE) is the default loss function in regression models\n",
        "  model.compile(loss = 'mse',\n",
        "      optimizer = optimizer,\n",
        "      metrics = ['mse','mae'])\n",
        "\n",
        "  return model"
      ]
    },
    {
      "cell_type": "markdown",
      "metadata": {
        "id": "Bxnf6ycADMi0"
      },
      "source": [
        "Just for curiosity, you should observe how many parameters ($\\theta$) your model has.\n",
        "At this point, your model is built."
      ]
    },
    {
      "cell_type": "code",
      "execution_count": null,
      "metadata": {
        "id": "lx-BtcZRho6l"
      },
      "outputs": [],
      "source": [
        "model = build_model()\n",
        "model.summary()"
      ]
    },
    {
      "cell_type": "markdown",
      "metadata": {
        "id": "5QZrVCCDDQKg"
      },
      "source": [
        "After creating the model, it must be trained (fitted).\n",
        "Training is done using training set and the amount of epochs must be defined."
      ]
    },
    {
      "cell_type": "code",
      "execution_count": null,
      "metadata": {
        "id": "wmuvq3w-htjK"
      },
      "outputs": [],
      "source": [
        "EPOCHS = 20\n",
        "\n",
        "history = model.fit(\n",
        "    train_x, train_y, validation_split=0.2, epochs = EPOCHS, verbose = 1\n",
        ")"
      ]
    },
    {
      "cell_type": "markdown",
      "metadata": {
        "id": "6r9nGwguDUtS"
      },
      "source": [
        "This plot should be generated just to inspect the learning convergence.\n",
        "It is expected a decreasing of the loss function value through the epochs."
      ]
    },
    {
      "cell_type": "code",
      "execution_count": null,
      "metadata": {
        "id": "f4SNzDzEh1Xe"
      },
      "outputs": [],
      "source": [
        "plt.plot(history.history['loss'])\n",
        "plt.plot(history.history['val_loss'])\n",
        "plt.title('Training MSE')\n",
        "plt.ylabel('MSE')\n",
        "plt.xlabel('Epoch')\n",
        "plt.legend(['Training Error','Validation Error'], loc='upper right')\n",
        "plt.show()"
      ]
    },
    {
      "cell_type": "markdown",
      "metadata": {
        "id": "8hRbXvY9DaYA"
      },
      "source": [
        "After the training process, the knowledge learnt by a neural network is stored in its weights."
      ]
    },
    {
      "cell_type": "code",
      "execution_count": null,
      "metadata": {
        "id": "jyfVXiFIo7NZ"
      },
      "outputs": [],
      "source": [
        "weights, biases = model.layers[0].get_weights() # return a numpy list of weights\n",
        "print(weights)\n",
        "plt.plot(weights)\n",
        "plt.ylabel('Weights')\n",
        "plt.xlabel('Inputs')"
      ]
    },
    {
      "cell_type": "code",
      "execution_count": null,
      "metadata": {
        "id": "dgcbtaS5o-_4"
      },
      "outputs": [],
      "source": [
        "plt.barh(train_x.columns, weights[:,0].astype(float), align='center')\n",
        "plt.xlabel(\"Weights\")\n",
        "plt.ylabel(\"Inputs\")\n",
        "#plt.title(target)\n",
        "plt.savefig(\"NN-Weights.png\")"
      ]
    },
    {
      "cell_type": "markdown",
      "metadata": {
        "id": "XV7yUEjsFS6e"
      },
      "source": [
        "After the training process, the model should be tested in order to measure its quality, it means, how good are its predictions. The model must be evaluated using the testing set, which is composed by samples that are not in the training set. In regression problems, the correlation coefficient is the default metric to measure the model quality.\n",
        "The correlation coefficient is computed using real outputs ($y$) and predicted outputs ($\\hat{y}$). Correlation coefficient can vary between 0 (bad predictions) and 1 (perfect predictions)."
      ]
    },
    {
      "cell_type": "code",
      "execution_count": null,
      "metadata": {
        "id": "HwZxN6GUppMv"
      },
      "outputs": [],
      "source": [
        "test_predictions = model.predict(test_x).flatten() # predict radom activities with the built linear regression model\n",
        "\n",
        "plt.scatter(test_y, test_predictions, marker = 'o', c = 'blue')\n",
        "plt.plot([0,10], [0,10], color = 'black', ls = '--')\n",
        "plt.ylabel('Predictions')\n",
        "plt.xlabel('Real Values')\n",
        "plt.title('Linear Regression with MultiLayer Perceptron (Testing Set)')\n",
        "plt.xlim(test_y.min().iloc[0]-0.1,test_y.max().iloc[0]+0.1)\n",
        "plt.ylim(test_predictions.min()-0.1,test_predictions.max()+0.1)\n",
        "plt.axis(True)\n",
        "plt.show()\n",
        "\n",
        "output = pd.DataFrame.to_numpy(test_y, copy=True)\n",
        "print(\"Correlation Coefficient in testing set: %.4f\" % np.corrcoef(test_predictions, np.transpose(output))[0,1])"
      ]
    },
    {
      "cell_type": "code",
      "execution_count": null,
      "metadata": {
        "id": "ARDdJ5h1ylVo"
      },
      "outputs": [],
      "source": [
        "train_predictions = model.predict(train_x).flatten() # predict radom activities with the built linear regression model\n",
        "\n",
        "plt.scatter(train_y, train_predictions, marker = 'o', c = 'blue')\n",
        "plt.plot([0,10], [0,10], color = 'black', ls = '--')\n",
        "plt.ylabel('Predictions')\n",
        "plt.xlabel('Real Values')\n",
        "plt.title('Linear Regression with MultiLayer Perceptron (Training Set)')\n",
        "plt.xlim(train_y.min().iloc[0]-0.1, train_y.max().iloc[0]+0.1)\n",
        "plt.ylim(train_predictions.min()-0.1, train_predictions.max()+0.1)\n",
        "plt.axis(True)\n",
        "plt.show()\n",
        "\n",
        "output = pd.DataFrame.to_numpy(train_y, copy=True)\n",
        "print(\"Correlation Coefficient in training set: %.4f\" % np.corrcoef(train_predictions, np.transpose(output))[0,1])"
      ]
    },
    {
      "cell_type": "code",
      "source": [
        "# Save the model architecture as an image\n",
        "plot_model(model, to_file='model_architecture.png', show_shapes=True, show_layer_names=True)"
      ],
      "metadata": {
        "id": "nkb0LaEHpv-X"
      },
      "execution_count": null,
      "outputs": []
    }
  ],
  "metadata": {
    "colab": {
      "provenance": []
    },
    "kernelspec": {
      "display_name": "Python 3",
      "name": "python3"
    },
    "language_info": {
      "name": "python"
    }
  },
  "nbformat": 4,
  "nbformat_minor": 0
}